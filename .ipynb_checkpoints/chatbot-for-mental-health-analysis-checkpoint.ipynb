{
 "cells": [
  {
   "cell_type": "code",
   "execution_count": 1,
   "metadata": {
    "_cell_guid": "b1076dfc-b9ad-4769-8c92-a6c4dae69d19",
    "_uuid": "8f2839f25d086af736a60e9eeb907d3b93b6e0e5",
    "execution": {
     "iopub.execute_input": "2023-03-23T15:36:24.360099Z",
     "iopub.status.busy": "2023-03-23T15:36:24.359171Z",
     "iopub.status.idle": "2023-03-23T15:36:24.393318Z",
     "shell.execute_reply": "2023-03-23T15:36:24.392098Z",
     "shell.execute_reply.started": "2023-03-23T15:36:24.360002Z"
    },
    "jupyter": {
     "source_hidden": true
    }
   },
   "outputs": [],
   "source": [
    "# This Python 3 environment comes with many helpful analytics libraries installed\n",
    "# It is defined by the kaggle/python Docker image: https://github.com/kaggle/docker-python\n",
    "# For example, here's several helpful packages to load\n",
    "\n",
    "import numpy as np # linear algebra\n",
    "import pandas as pd # data processing, CSV file I/O (e.g. pd.read_csv)\n",
    "\n",
    "# Input data files are available in the read-only \"../input/\" directory\n",
    "# For example, running this (by clicking run or pressing Shift+Enter) will list all files under the input directory\n",
    "\n",
    "import os\n",
    "for dirname, _, filenames in os.walk('/kaggle/input'):\n",
    "    for filename in filenames:\n",
    "        print(os.path.join(dirname, filename))\n",
    "\n",
    "# You can write up to 20GB to the current directory (/kaggle/working/) that gets preserved as output when you create a version using \"Save & Run All\" \n",
    "# You can also write temporary files to /kaggle/temp/, but they won't be saved outside of the current session"
   ]
  },
  {
   "cell_type": "markdown",
   "metadata": {},
   "source": [
    "# Data Reading"
   ]
  },
  {
   "cell_type": "markdown",
   "metadata": {},
   "source": []
  },
  {
   "cell_type": "markdown",
   "metadata": {},
   "source": [
    "Data is in json format; so it's better to convert it to a Pandas data frame format."
   ]
  },
  {
   "cell_type": "code",
   "execution_count": 43,
   "metadata": {
    "execution": {
     "iopub.execute_input": "2023-03-23T15:37:55.800998Z",
     "iopub.status.busy": "2023-03-23T15:37:55.800554Z",
     "iopub.status.idle": "2023-03-23T15:37:55.843578Z",
     "shell.execute_reply": "2023-03-23T15:37:55.842450Z",
     "shell.execute_reply.started": "2023-03-23T15:37:55.800964Z"
    }
   },
   "outputs": [
    {
     "data": {
      "text/html": [
       "<div>\n",
       "<style scoped>\n",
       "    .dataframe tbody tr th:only-of-type {\n",
       "        vertical-align: middle;\n",
       "    }\n",
       "\n",
       "    .dataframe tbody tr th {\n",
       "        vertical-align: top;\n",
       "    }\n",
       "\n",
       "    .dataframe thead th {\n",
       "        text-align: right;\n",
       "    }\n",
       "</style>\n",
       "<table border=\"1\" class=\"dataframe\">\n",
       "  <thead>\n",
       "    <tr style=\"text-align: right;\">\n",
       "      <th></th>\n",
       "      <th>tag</th>\n",
       "      <th>patterns</th>\n",
       "      <th>responses</th>\n",
       "    </tr>\n",
       "  </thead>\n",
       "  <tbody>\n",
       "    <tr>\n",
       "      <th>0</th>\n",
       "      <td>greeting</td>\n",
       "      <td>[Hi, Hey, Is anyone there?, Hi there, Hello, H...</td>\n",
       "      <td>[Hello there. Tell me how are you feeling toda...</td>\n",
       "    </tr>\n",
       "    <tr>\n",
       "      <th>1</th>\n",
       "      <td>morning</td>\n",
       "      <td>[Good morning]</td>\n",
       "      <td>[Good morning. I hope you had a good night's s...</td>\n",
       "    </tr>\n",
       "    <tr>\n",
       "      <th>2</th>\n",
       "      <td>afternoon</td>\n",
       "      <td>[Good afternoon]</td>\n",
       "      <td>[Good afternoon. How is your day going?]</td>\n",
       "    </tr>\n",
       "    <tr>\n",
       "      <th>3</th>\n",
       "      <td>evening</td>\n",
       "      <td>[Good evening]</td>\n",
       "      <td>[Good evening. How has your day been?]</td>\n",
       "    </tr>\n",
       "    <tr>\n",
       "      <th>4</th>\n",
       "      <td>night</td>\n",
       "      <td>[Good night]</td>\n",
       "      <td>[How has your day been?, Good night. Get some ...</td>\n",
       "    </tr>\n",
       "    <tr>\n",
       "      <th>...</th>\n",
       "      <td>...</td>\n",
       "      <td>...</td>\n",
       "      <td>...</td>\n",
       "    </tr>\n",
       "    <tr>\n",
       "      <th>67</th>\n",
       "      <td>fact-28</td>\n",
       "      <td>[What do I do if I'm worried about my mental h...</td>\n",
       "      <td>[The most important thing is to talk to someon...</td>\n",
       "    </tr>\n",
       "    <tr>\n",
       "      <th>68</th>\n",
       "      <td>fact-29</td>\n",
       "      <td>[How do I know if I'm unwell?]</td>\n",
       "      <td>[If your beliefs , thoughts , feelings or beha...</td>\n",
       "    </tr>\n",
       "    <tr>\n",
       "      <th>69</th>\n",
       "      <td>fact-30</td>\n",
       "      <td>[How can I maintain social connections? What i...</td>\n",
       "      <td>[A lot of people are alone right now, but we d...</td>\n",
       "    </tr>\n",
       "    <tr>\n",
       "      <th>70</th>\n",
       "      <td>fact-31</td>\n",
       "      <td>[What's the difference between anxiety and str...</td>\n",
       "      <td>[Stress and anxiety are often used interchange...</td>\n",
       "    </tr>\n",
       "    <tr>\n",
       "      <th>71</th>\n",
       "      <td>fact-32</td>\n",
       "      <td>[What's the difference between sadness and dep...</td>\n",
       "      <td>[Sadness is a normal reaction to a loss, disap...</td>\n",
       "    </tr>\n",
       "  </tbody>\n",
       "</table>\n",
       "<p>72 rows × 3 columns</p>\n",
       "</div>"
      ],
      "text/plain": [
       "          tag                                           patterns  \\\n",
       "0    greeting  [Hi, Hey, Is anyone there?, Hi there, Hello, H...   \n",
       "1     morning                                     [Good morning]   \n",
       "2   afternoon                                   [Good afternoon]   \n",
       "3     evening                                     [Good evening]   \n",
       "4       night                                       [Good night]   \n",
       "..        ...                                                ...   \n",
       "67    fact-28  [What do I do if I'm worried about my mental h...   \n",
       "68    fact-29                     [How do I know if I'm unwell?]   \n",
       "69    fact-30  [How can I maintain social connections? What i...   \n",
       "70    fact-31  [What's the difference between anxiety and str...   \n",
       "71    fact-32  [What's the difference between sadness and dep...   \n",
       "\n",
       "                                            responses  \n",
       "0   [Hello there. Tell me how are you feeling toda...  \n",
       "1   [Good morning. I hope you had a good night's s...  \n",
       "2            [Good afternoon. How is your day going?]  \n",
       "3              [Good evening. How has your day been?]  \n",
       "4   [How has your day been?, Good night. Get some ...  \n",
       "..                                                ...  \n",
       "67  [The most important thing is to talk to someon...  \n",
       "68  [If your beliefs , thoughts , feelings or beha...  \n",
       "69  [A lot of people are alone right now, but we d...  \n",
       "70  [Stress and anxiety are often used interchange...  \n",
       "71  [Sadness is a normal reaction to a loss, disap...  \n",
       "\n",
       "[72 rows x 3 columns]"
      ]
     },
     "execution_count": 43,
     "metadata": {},
     "output_type": "execute_result"
    }
   ],
   "source": [
    "import json\n",
    "\n",
    "with open('C:\\\\Users\\\\Kavi priya\\\\Desktop\\\\mental_health_chatbot\\\\intents.json', 'r') as f:\n",
    "    data = json.load(f)\n",
    "\n",
    "df = pd.DataFrame(data['intents'])\n",
    "df"
   ]
  },
  {
   "cell_type": "markdown",
   "metadata": {},
   "source": [
    "Each tag contains several questions(patterns) and several answers(responses); Now I want to seperate these patterns based on their tags and responses and finally convert them to a DataFrame."
   ]
  },
  {
   "cell_type": "code",
   "execution_count": 44,
   "metadata": {
    "execution": {
     "iopub.execute_input": "2023-03-23T15:38:04.708242Z",
     "iopub.status.busy": "2023-03-23T15:38:04.707814Z",
     "iopub.status.idle": "2023-03-23T15:38:04.835279Z",
     "shell.execute_reply": "2023-03-23T15:38:04.833691Z",
     "shell.execute_reply.started": "2023-03-23T15:38:04.708206Z"
    }
   },
   "outputs": [
    {
     "data": {
      "text/html": [
       "<div>\n",
       "<style scoped>\n",
       "    .dataframe tbody tr th:only-of-type {\n",
       "        vertical-align: middle;\n",
       "    }\n",
       "\n",
       "    .dataframe tbody tr th {\n",
       "        vertical-align: top;\n",
       "    }\n",
       "\n",
       "    .dataframe thead th {\n",
       "        text-align: right;\n",
       "    }\n",
       "</style>\n",
       "<table border=\"1\" class=\"dataframe\">\n",
       "  <thead>\n",
       "    <tr style=\"text-align: right;\">\n",
       "      <th></th>\n",
       "      <th>tag</th>\n",
       "      <th>patterns</th>\n",
       "      <th>responses</th>\n",
       "    </tr>\n",
       "  </thead>\n",
       "  <tbody>\n",
       "    <tr>\n",
       "      <th>0</th>\n",
       "      <td>greeting</td>\n",
       "      <td>Hi</td>\n",
       "      <td>[Hello there. Tell me how are you feeling toda...</td>\n",
       "    </tr>\n",
       "    <tr>\n",
       "      <th>1</th>\n",
       "      <td>greeting</td>\n",
       "      <td>Hey</td>\n",
       "      <td>[Hello there. Tell me how are you feeling toda...</td>\n",
       "    </tr>\n",
       "    <tr>\n",
       "      <th>2</th>\n",
       "      <td>greeting</td>\n",
       "      <td>Is anyone there?</td>\n",
       "      <td>[Hello there. Tell me how are you feeling toda...</td>\n",
       "    </tr>\n",
       "    <tr>\n",
       "      <th>3</th>\n",
       "      <td>greeting</td>\n",
       "      <td>Hi there</td>\n",
       "      <td>[Hello there. Tell me how are you feeling toda...</td>\n",
       "    </tr>\n",
       "    <tr>\n",
       "      <th>4</th>\n",
       "      <td>greeting</td>\n",
       "      <td>Hello</td>\n",
       "      <td>[Hello there. Tell me how are you feeling toda...</td>\n",
       "    </tr>\n",
       "    <tr>\n",
       "      <th>...</th>\n",
       "      <td>...</td>\n",
       "      <td>...</td>\n",
       "      <td>...</td>\n",
       "    </tr>\n",
       "    <tr>\n",
       "      <th>235</th>\n",
       "      <td>fact-30</td>\n",
       "      <td>How can I maintain social connections? What if...</td>\n",
       "      <td>[A lot of people are alone right now, but we d...</td>\n",
       "    </tr>\n",
       "    <tr>\n",
       "      <th>236</th>\n",
       "      <td>fact-31</td>\n",
       "      <td>What's the difference between anxiety and stress?</td>\n",
       "      <td>[Stress and anxiety are often used interchange...</td>\n",
       "    </tr>\n",
       "    <tr>\n",
       "      <th>237</th>\n",
       "      <td>fact-32</td>\n",
       "      <td>What's the difference between sadness and depr...</td>\n",
       "      <td>[Sadness is a normal reaction to a loss, disap...</td>\n",
       "    </tr>\n",
       "    <tr>\n",
       "      <th>238</th>\n",
       "      <td>fact-32</td>\n",
       "      <td>difference between sadness and depression</td>\n",
       "      <td>[Sadness is a normal reaction to a loss, disap...</td>\n",
       "    </tr>\n",
       "    <tr>\n",
       "      <th>239</th>\n",
       "      <td>fact-32</td>\n",
       "      <td>difference between being sad and being depressed</td>\n",
       "      <td>[Sadness is a normal reaction to a loss, disap...</td>\n",
       "    </tr>\n",
       "  </tbody>\n",
       "</table>\n",
       "<p>240 rows × 3 columns</p>\n",
       "</div>"
      ],
      "text/plain": [
       "          tag                                           patterns  \\\n",
       "0    greeting                                                 Hi   \n",
       "1    greeting                                                Hey   \n",
       "2    greeting                                   Is anyone there?   \n",
       "3    greeting                                           Hi there   \n",
       "4    greeting                                              Hello   \n",
       "..        ...                                                ...   \n",
       "235   fact-30  How can I maintain social connections? What if...   \n",
       "236   fact-31  What's the difference between anxiety and stress?   \n",
       "237   fact-32  What's the difference between sadness and depr...   \n",
       "238   fact-32          difference between sadness and depression   \n",
       "239   fact-32   difference between being sad and being depressed   \n",
       "\n",
       "                                             responses  \n",
       "0    [Hello there. Tell me how are you feeling toda...  \n",
       "1    [Hello there. Tell me how are you feeling toda...  \n",
       "2    [Hello there. Tell me how are you feeling toda...  \n",
       "3    [Hello there. Tell me how are you feeling toda...  \n",
       "4    [Hello there. Tell me how are you feeling toda...  \n",
       "..                                                 ...  \n",
       "235  [A lot of people are alone right now, but we d...  \n",
       "236  [Stress and anxiety are often used interchange...  \n",
       "237  [Sadness is a normal reaction to a loss, disap...  \n",
       "238  [Sadness is a normal reaction to a loss, disap...  \n",
       "239  [Sadness is a normal reaction to a loss, disap...  \n",
       "\n",
       "[240 rows x 3 columns]"
      ]
     },
     "execution_count": 44,
     "metadata": {},
     "output_type": "execute_result"
    }
   ],
   "source": [
    "dic = {\"tag\":[], \"patterns\":[], \"responses\":[]}\n",
    "for i in range(len(df)):\n",
    "    ptrns = df[df.index == i]['patterns'].values[0]\n",
    "    rspns = df[df.index == i]['responses'].values[0]\n",
    "    tag = df[df.index == i]['tag'].values[0]\n",
    "    for j in range(len(ptrns)):\n",
    "        dic['tag'].append(tag)\n",
    "        dic['patterns'].append(ptrns[j])\n",
    "        dic['responses'].append(rspns)\n",
    "        \n",
    "df = pd.DataFrame.from_dict(dic)\n",
    "df"
   ]
  },
  {
   "cell_type": "code",
   "execution_count": 45,
   "metadata": {
    "execution": {
     "iopub.execute_input": "2023-03-23T15:38:10.990439Z",
     "iopub.status.busy": "2023-03-23T15:38:10.989981Z",
     "iopub.status.idle": "2023-03-23T15:38:11.002495Z",
     "shell.execute_reply": "2023-03-23T15:38:11.001267Z",
     "shell.execute_reply.started": "2023-03-23T15:38:10.990392Z"
    }
   },
   "outputs": [
    {
     "data": {
      "text/plain": [
       "array(['greeting', 'morning', 'afternoon', 'evening', 'night', 'goodbye',\n",
       "       'thanks', 'about', 'name', 'description', 'confidence', 'help',\n",
       "       'lonely', 'sad', 'stressed', 'worthless', 'looks', 'depressed',\n",
       "       'Anger Management', 'happy', 'anxious', 'anxiety_attacks',\n",
       "       'anxious_deadlines', 'Marriage_connection', 'trouble_with_child',\n",
       "       'not-talking', 'sleep', 'Addiction', 'death', 'done', 'suicide',\n",
       "       'hate', 'default', 'wrong', 'stupid', 'something-else', 'friends',\n",
       "       'ask', 'exams', 'communication', 'user-agree', 'user-meditation',\n",
       "       'mental-health-fact', 'fact-1', 'fact-2', 'fact-3', 'fact-5',\n",
       "       'fact-6', 'fact-7', 'fact-8', 'fact-9', 'fact-10', 'fact-11',\n",
       "       'fact-12', 'fact-13', 'fact-14', 'fact-15', 'fact-16', 'fact-17',\n",
       "       'fact-18', 'fact-19', 'fact-20', 'fact-21', 'fact-22', 'fact-23',\n",
       "       'fact-24', 'fact-25', 'fact-28', 'fact-29', 'fact-30', 'fact-31',\n",
       "       'fact-32'], dtype=object)"
      ]
     },
     "execution_count": 45,
     "metadata": {},
     "output_type": "execute_result"
    }
   ],
   "source": [
    "df['tag'].unique()"
   ]
  },
  {
   "cell_type": "markdown",
   "metadata": {},
   "source": [
    "# Data Preprocessing"
   ]
  },
  {
   "cell_type": "markdown",
   "metadata": {},
   "source": [
    "Now I am going to apply some text preprocessing stuffs such as lowering, punctuation removing and then tokenize the patterns."
   ]
  },
  {
   "cell_type": "code",
   "execution_count": 46,
   "metadata": {
    "execution": {
     "iopub.execute_input": "2023-03-23T15:38:16.728819Z",
     "iopub.status.busy": "2023-03-23T15:38:16.728434Z",
     "iopub.status.idle": "2023-03-23T15:38:23.566074Z",
     "shell.execute_reply": "2023-03-23T15:38:23.564822Z",
     "shell.execute_reply.started": "2023-03-23T15:38:16.728788Z"
    }
   },
   "outputs": [
    {
     "data": {
      "text/plain": [
       "{'num_words': None,\n",
       " 'filters': '!\"#$%&()*+,-./:;<=>?@[\\\\]^_`{|}~\\t\\n',\n",
       " 'lower': True,\n",
       " 'split': ' ',\n",
       " 'char_level': False,\n",
       " 'oov_token': None,\n",
       " 'document_count': 240,\n",
       " 'word_counts': '{\"hi\": 2, \"hey\": 2, \"is\": 24, \"anyone\": 2, \"there\": 6, \"hello\": 1, \"howdy\": 1, \"hola\": 2, \"bonjour\": 1, \"konnichiwa\": 1, \"guten\": 1, \"tag\": 1, \"good\": 10, \"morning\": 1, \"afternoon\": 1, \"evening\": 1, \"night\": 1, \"bye\": 3, \"see\": 2, \"you\": 19, \"later\": 1, \"goodbye\": 1, \"au\": 1, \"revoir\": 1, \"sayonara\": 1, \"ok\": 2, \"then\": 1, \"fare\": 1, \"thee\": 1, \"well\": 3, \"thanks\": 2, \"thank\": 2, \"that\\'s\": 3, \"helpful\": 1, \"for\": 15, \"the\": 17, \"help\": 7, \"than\": 1, \"very\": 6, \"much\": 5, \"who\": 5, \"are\": 14, \"what\": 27, \"tell\": 5, \"me\": 26, \"more\": 2, \"about\": 19, \"yourself\": 2, \"your\": 2, \"name\": 4, \"should\": 5, \"i\": 182, \"call\": 1, \"what\\'s\": 3, \"my\": 42, \"am\": 43, \"go\": 4, \"by\": 1, \"working\": 2, \"as\": 4, \"an\": 3, \"engineer\": 1, \"live\": 2, \"in\": 12, \"chennai\": 1, \"a\": 32, \"student\": 1, \"studying\": 1, \"medicine\": 1, \"san\": 1, \"fransico\": 1, \"engineering\": 3, \"graduate\": 1, \"searching\": 1, \"job\": 1, \"professional\": 3, \"professor\": 1, \"college\": 2, \"have\": 32, \"2\": 1, \"children\": 2, \"how\": 13, \"do\": 19, \"become\": 6, \"confident\": 2, \"need\": 6, \"to\": 45, \"and\": 40, \"bold\": 1, \"social\": 2, \"situations\": 1, \"lack\": 1, \"courage\": 1, \"confidence\": 1, \"talk\": 8, \"up\": 4, \"coworkers\": 1, \"when\": 3, \"want\": 12, \"defend\": 1, \"situation\": 1, \"improvise\": 1, \"better\": 6, \"could\": 3, \"can\": 18, \"support\": 3, \"please\": 1, \"feeling\": 4, \"lonely\": 3, \"so\": 11, \"feel\": 27, \"down\": 2, \"alone\": 3, \"like\": 8, \"this\": 12, \"world\": 2, \"i\\'m\": 17, \"trying\": 1, \"convince\": 1, \"myself\": 8, \"that\": 13, \"okay\": 1, \"not\": 10, \"always\": 1, \"blocking\": 1, \"out\": 5, \"bad\": 4, \"things\": 4, \"forgetting\": 1, \"also\": 2, \"nobody\": 1, \"cares\": 1, \"they\": 1, \"never\": 1, \"will\": 2, \"truly\": 1, \"don\\'t\": 19, \"no\": 7, \"one\": 3, \"here\": 2, \"sad\": 4, \"know\": 8, \"why\": 3, \"since\": 3, \"let\": 1, \"friend\": 2, \"late\": 1, \"20s\": 1, \"two\": 1, \"jobs\": 1, \"right\": 7, \"now\": 4, \"school\": 2, \"just\": 6, \"lot\": 8, \"under\": 1, \"belt\": 1, \"get\": 7, \"stressed\": 6, \"really\": 1, \"easily\": 3, \"tend\": 1, \"worry\": 1, \"over\": 2, \"think\": 4, \"worried\": 3, \"money\": 2, \"everything\": 4, \"cause\": 1, \"of\": 20, \"work\": 3, \"boss\": 1, \"strict\": 1, \"stuck\": 1, \"unable\": 2, \"position\": 1, \"at\": 5, \"still\": 3, \"burned\": 1, \"on\": 4, \"own\": 1, \"with\": 9, \"daughter\": 1, \"her\": 1, \"worthless\": 2, \"worthful\": 1, \"likes\": 2, \"everyone\": 4, \"thinks\": 1, \"anything\": 5, \"takes\": 1, \"granted\": 1, \"unimportant\": 1, \"failure\": 2, \"thing\": 1, \"ugly\": 3, \"people\": 4, \"stare\": 1, \"else\": 6, \"looking\": 2, \"but\": 6, \"look\": 1, \"manic\": 1, \"depression\": 8, \"last\": 3, \"summer\": 2, \"was\": 1, \"recurring\": 1, \"nightmares\": 1, \"avoid\": 1, \"give\": 1, \"similar\": 1, \"did\": 2, \"can\\'t\": 5, \"take\": 1, \"it\": 6, \"anymore\": 3, \"depressed\": 4, \"recognize\": 1, \"control\": 4, \"suggestions\": 1, \"managing\": 1, \"anger\": 3, \"cannot\": 2, \"issues\": 2, \"extremely\": 1, \"angry\": 1, \"furious\": 1, \"constantly\": 2, \"hurt\": 2, \"rude\": 2, \"behaviour\": 1, \"change\": 4, \"irritated\": 1, \"irritating\": 1, \"behviour\": 1, \"great\": 1, \"today\": 1, \"happy\": 2, \"cheerful\": 1, \"fine\": 1, \"anxious\": 4, \"because\": 3, \"nervous\": 1, \"secrets\": 1, \"mind\": 1, \"them\": 2, \"wife\": 2, \"mom\": 2, \"sure\": 1, \"long\": 1, \"keep\": 1, \"secret\": 1, \"it\\'s\": 1, \"becoming\": 1, \"annoying\": 1, \"making\": 1, \"going\": 3, \"first\": 1, \"all\": 6, \"trouble\": 2, \"sleeping\": 1, \"times\": 1, \"while\": 1, \"other\": 1, \"nights\": 1, \"sleep\": 4, \"too\": 1, \"quite\": 1, \"tired\": 1, \"i\\\\u00e3\\\\u00a2\\\\u00e2\\\\u201a\\\\u00ac\\\\u00e2\\\\u201e\\\\u00a2m\": 1, \"noticing\": 1, \"increased\": 1, \"irritability\": 1, \"experiencing\": 1, \"anxiety\": 4, \"attacks\": 3, \"hours\": 1, \"something\": 4, \"wrong\": 3, \"if\": 8, \"i\\'ve\": 3, \"jaded\": 1, \"thoughts\": 1, \"focus\": 1, \"been\": 2, \"having\": 2, \"early\": 1, \"deadline\": 1, \"completed\": 1, \"submit\": 1, \"tomorrow\": 1, \"project\": 1, \"submission\": 1, \"week\": 3, \"haven\\'t\": 3, \"started\": 1, \"lots\": 2, \"deadlines\": 1, \"time\": 3, \"sick\": 1, \"due\": 1, \"workload\": 1, \"any\": 2, \"tips\": 1, \"connection\": 2, \"husband\": 4, \"hardly\": 2, \"listening\": 1, \"she\": 3, \"feels\": 1, \"bored\": 1, \"talking\": 1, \"lately\": 1, \"paying\": 1, \"attention\": 1, \"he\": 2, \"keeps\": 1, \"stressing\": 1, \"different\": 2, \"towards\": 1, \"growing\": 1, \"from\": 3, \"relationship\": 2, \"six\": 1, \"years\": 1, \"married\": 1, \"almost\": 1, \"five\": 1, \"nothing\": 3, \"or\": 3, \"being\": 3, \"irrational\": 1, \"child\": 4, \"listens\": 1, \"defying\": 1, \"toddler\": 1, \"defies\": 1, \"say\": 3, \"doesn\\'t\": 2, \"authoritative\": 1, \"says\": 1, \"i\\'d\": 1, \"hear\": 1, \"some\": 2, \"ways\": 1, \"needing\": 1, \"difficult\": 2, \"tolerate\": 1, \"developing\": 1, \"behaviours\": 1, \"most\": 1, \"kid\": 1, \"throwing\": 1, \"its\": 1, \"huge\": 1, \"pain\": 1, \"stay\": 1, \"away\": 5, \"bring\": 1, \"open\": 1, \"shut\": 1, \"insominia\": 1, \"suffering\": 2, \"insomnia\": 1, \"slept\": 1, \"days\": 2, \"seem\": 1, \"had\": 1, \"proper\": 1, \"past\": 1, \"few\": 1, \"stop\": 1, \"abusing\": 1, \"alcohol\": 1, \"addicted\": 1, \"smoking\": 1, \"rid\": 1, \"addiction\": 1, \"weed\": 1, \"addict\": 1, \"family\": 3, \"died\": 3, \"brother\": 1, \"dad\": 1, \"passed\": 4, \"sister\": 1, \"someone\": 2, \"would\": 1, \"be\": 1, \"kill\": 2, \"thought\": 1, \"killing\": 1, \"die\": 1, \"commit\": 1, \"suicide\": 1, \"hatred\": 1, \"wish\": 1, \"turn\": 1, \"brings\": 1, \"hate\": 2, \"certain\": 1, \"around\": 1, \"parents\": 1, \"relatives\": 1, \"friends\": 2, \"boyfriend\": 1, \"girlfriend\": 1, \"financial\": 1, \"problems\": 2, \"saying\": 1, \"make\": 1, \"sense\": 1, \"response\": 1, \"answer\": 1, \"stupid\": 1, \"you\\'re\": 3, \"crazy\": 1, \"dumb\": 2, \"let\\'s\": 1, \"we\": 1, \"ask\": 1, \"exams\": 3, \"approaching\": 1, \"prepared\": 2, \"enough\": 1, \"series\": 1, \"tests\": 1, \"coming\": 1, \"study\": 1, \"grandfather\": 1, \"upsc\": 1, \"exam\": 2, \"scared\": 1, \"test\": 2, \"guess\": 1, \"examination\": 1, \"shy\": 1, \"conversations\": 1, \"converse\": 1, \"network\": 1, \"interact\": 1, \"start\": 1, \"conversation\": 1, \"yeah\": 2, \"deserve\": 1, \"break\": 1, \"absolutely\": 1, \"said\": 1, \"fact\": 2, \"mental\": 19, \"health\": 13, \"another\": 1, \"define\": 2, \"important\": 1, \"importance\": 1, \"mentally\": 1, \"ill\": 1, \"therapist\": 2, \"does\": 3, \"therapy\": 4, \"mean\": 1, \"illness\": 5, \"affect\": 1, \"causes\": 1, \"warning\": 1, \"signs\": 1, \"recover\": 1, \"appears\": 1, \"symptoms\": 1, \"disorder\": 1, \"find\": 4, \"treatment\": 3, \"options\": 1, \"available\": 1, \"involved\": 1, \"types\": 3, \"professionals\": 2, \"where\": 4, \"before\": 1, \"starting\": 1, \"new\": 1, \"medication\": 1, \"learn\": 1, \"group\": 1, \"prevent\": 1, \"unwell\": 1, \"maintain\": 1, \"connections\": 1, \"difference\": 4, \"between\": 4, \"stress\": 1, \"sadness\": 2}',\n",
       " 'word_docs': '{\"hi\": 2, \"hey\": 2, \"anyone\": 2, \"is\": 24, \"there\": 6, \"hello\": 1, \"howdy\": 1, \"hola\": 2, \"bonjour\": 1, \"konnichiwa\": 1, \"tag\": 1, \"guten\": 1, \"good\": 10, \"morning\": 1, \"afternoon\": 1, \"evening\": 1, \"night\": 1, \"bye\": 3, \"later\": 1, \"see\": 2, \"you\": 18, \"goodbye\": 1, \"revoir\": 1, \"au\": 1, \"sayonara\": 1, \"ok\": 2, \"then\": 1, \"fare\": 1, \"well\": 3, \"thee\": 1, \"thanks\": 2, \"thank\": 2, \"that\\'s\": 3, \"helpful\": 1, \"help\": 6, \"the\": 17, \"for\": 14, \"than\": 1, \"very\": 5, \"much\": 5, \"who\": 5, \"are\": 14, \"what\": 26, \"about\": 19, \"tell\": 5, \"more\": 2, \"me\": 23, \"yourself\": 2, \"name\": 4, \"your\": 2, \"should\": 5, \"i\": 126, \"call\": 1, \"what\\'s\": 3, \"my\": 36, \"am\": 39, \"by\": 1, \"go\": 4, \"live\": 2, \"working\": 2, \"in\": 11, \"engineer\": 1, \"an\": 3, \"as\": 4, \"chennai\": 1, \"san\": 1, \"a\": 28, \"studying\": 1, \"fransico\": 1, \"medicine\": 1, \"student\": 1, \"engineering\": 3, \"graduate\": 1, \"job\": 1, \"searching\": 1, \"professional\": 3, \"professor\": 1, \"2\": 1, \"college\": 2, \"have\": 27, \"children\": 2, \"do\": 16, \"become\": 6, \"confident\": 2, \"how\": 13, \"social\": 2, \"and\": 32, \"to\": 36, \"bold\": 1, \"need\": 6, \"situations\": 1, \"talk\": 8, \"situation\": 1, \"defend\": 1, \"confidence\": 1, \"courage\": 1, \"lack\": 1, \"when\": 3, \"up\": 4, \"coworkers\": 1, \"want\": 11, \"improvise\": 1, \"better\": 5, \"could\": 3, \"can\": 18, \"support\": 3, \"please\": 1, \"feeling\": 4, \"lonely\": 3, \"so\": 10, \"down\": 2, \"feel\": 23, \"alone\": 3, \"this\": 11, \"world\": 2, \"like\": 7, \"that\": 12, \"not\": 10, \"they\": 1, \"forgetting\": 1, \"truly\": 1, \"never\": 1, \"cares\": 1, \"okay\": 1, \"bad\": 4, \"always\": 1, \"convince\": 1, \"nobody\": 1, \"trying\": 1, \"i\\'m\": 11, \"things\": 4, \"myself\": 8, \"out\": 5, \"also\": 2, \"will\": 2, \"blocking\": 1, \"don\\'t\": 16, \"no\": 7, \"here\": 2, \"one\": 3, \"sad\": 4, \"know\": 8, \"why\": 3, \"since\": 3, \"let\": 1, \"friend\": 2, \"think\": 4, \"right\": 6, \"money\": 2, \"worry\": 1, \"just\": 4, \"get\": 7, \"easily\": 3, \"worried\": 3, \"tend\": 1, \"lot\": 6, \"20s\": 1, \"school\": 2, \"late\": 1, \"belt\": 1, \"over\": 2, \"jobs\": 1, \"really\": 1, \"two\": 1, \"now\": 3, \"everything\": 3, \"under\": 1, \"stressed\": 6, \"work\": 3, \"boss\": 1, \"of\": 16, \"cause\": 1, \"strict\": 1, \"position\": 1, \"unable\": 2, \"at\": 5, \"stuck\": 1, \"still\": 3, \"burned\": 1, \"daughter\": 1, \"her\": 1, \"with\": 9, \"own\": 1, \"on\": 4, \"worthless\": 2, \"likes\": 2, \"worthful\": 1, \"everyone\": 4, \"thinks\": 1, \"anything\": 5, \"takes\": 1, \"granted\": 1, \"unimportant\": 1, \"failure\": 2, \"thing\": 1, \"ugly\": 3, \"stare\": 1, \"people\": 4, \"but\": 6, \"else\": 6, \"looking\": 2, \"look\": 1, \"give\": 1, \"last\": 3, \"summer\": 1, \"depression\": 8, \"did\": 2, \"avoid\": 1, \"similar\": 1, \"nightmares\": 1, \"was\": 1, \"recurring\": 1, \"manic\": 1, \"take\": 1, \"can\\'t\": 5, \"anymore\": 3, \"it\": 6, \"depressed\": 4, \"recognize\": 1, \"suggestions\": 1, \"managing\": 1, \"anger\": 3, \"control\": 4, \"cannot\": 2, \"issues\": 2, \"extremely\": 1, \"angry\": 1, \"behaviour\": 1, \"constantly\": 2, \"furious\": 1, \"hurt\": 2, \"rude\": 2, \"change\": 4, \"irritated\": 1, \"behviour\": 1, \"irritating\": 1, \"great\": 1, \"today\": 1, \"happy\": 2, \"cheerful\": 1, \"fine\": 1, \"anxious\": 4, \"because\": 3, \"nervous\": 1, \"sure\": 1, \"becoming\": 1, \"them\": 1, \"wife\": 2, \"keep\": 1, \"it\\'s\": 1, \"mind\": 1, \"long\": 1, \"secrets\": 1, \"annoying\": 1, \"mom\": 2, \"secret\": 1, \"making\": 1, \"quite\": 1, \"tired\": 1, \"i\\\\u00e3\\\\u00a2\\\\u00e2\\\\u201a\\\\u00ac\\\\u00e2\\\\u201e\\\\u00a2m\": 1, \"going\": 3, \"anxiety\": 4, \"times\": 1, \"if\": 8, \"while\": 1, \"first\": 1, \"experiencing\": 1, \"something\": 4, \"wrong\": 3, \"all\": 6, \"noticing\": 1, \"increased\": 1, \"irritability\": 1, \"sleeping\": 1, \"sleep\": 4, \"attacks\": 3, \"nights\": 1, \"too\": 1, \"hours\": 1, \"trouble\": 2, \"other\": 1, \"thoughts\": 1, \"i\\'ve\": 3, \"focus\": 1, \"been\": 2, \"having\": 2, \"jaded\": 1, \"deadline\": 1, \"early\": 1, \"completed\": 1, \"tomorrow\": 1, \"submit\": 1, \"project\": 1, \"started\": 1, \"submission\": 1, \"haven\\'t\": 3, \"week\": 3, \"lots\": 2, \"time\": 3, \"sick\": 1, \"deadlines\": 1, \"workload\": 1, \"any\": 2, \"tips\": 1, \"due\": 1, \"husband\": 3, \"connection\": 2, \"hardly\": 2, \"talking\": 1, \"she\": 3, \"feels\": 1, \"listening\": 1, \"bored\": 1, \"lately\": 1, \"attention\": 1, \"paying\": 1, \"he\": 2, \"stressing\": 1, \"keeps\": 1, \"towards\": 1, \"different\": 2, \"relationship\": 2, \"years\": 1, \"married\": 1, \"six\": 1, \"nothing\": 3, \"almost\": 1, \"five\": 1, \"from\": 3, \"or\": 3, \"being\": 2, \"irrational\": 1, \"growing\": 1, \"defying\": 1, \"listens\": 1, \"child\": 4, \"defies\": 1, \"says\": 1, \"needing\": 1, \"doesn\\'t\": 2, \"toddler\": 1, \"some\": 2, \"ways\": 1, \"i\\'d\": 1, \"hear\": 1, \"say\": 3, \"authoritative\": 1, \"difficult\": 2, \"tolerate\": 1, \"behaviours\": 1, \"developing\": 1, \"throwing\": 1, \"huge\": 1, \"kid\": 1, \"its\": 1, \"most\": 1, \"pain\": 1, \"away\": 5, \"stay\": 1, \"bring\": 1, \"open\": 1, \"shut\": 1, \"insominia\": 1, \"suffering\": 2, \"insomnia\": 1, \"days\": 2, \"slept\": 1, \"seem\": 1, \"had\": 1, \"few\": 1, \"past\": 1, \"proper\": 1, \"abusing\": 1, \"alcohol\": 1, \"stop\": 1, \"addiction\": 1, \"rid\": 1, \"addicted\": 1, \"smoking\": 1, \"family\": 3, \"addict\": 1, \"weed\": 1, \"died\": 3, \"brother\": 1, \"dad\": 1, \"passed\": 4, \"sister\": 1, \"someone\": 2, \"would\": 1, \"be\": 1, \"kill\": 2, \"thought\": 1, \"killing\": 1, \"die\": 1, \"suicide\": 1, \"commit\": 1, \"wish\": 1, \"hatred\": 1, \"turn\": 1, \"brings\": 1, \"hate\": 2, \"certain\": 1, \"around\": 1, \"parents\": 1, \"relatives\": 1, \"friends\": 2, \"boyfriend\": 1, \"girlfriend\": 1, \"financial\": 1, \"problems\": 2, \"saying\": 1, \"make\": 1, \"sense\": 1, \"response\": 1, \"answer\": 1, \"stupid\": 1, \"you\\'re\": 3, \"crazy\": 1, \"dumb\": 2, \"let\\'s\": 1, \"we\": 1, \"ask\": 1, \"approaching\": 1, \"prepared\": 2, \"exams\": 3, \"enough\": 1, \"study\": 1, \"grandfather\": 1, \"coming\": 1, \"tests\": 1, \"series\": 1, \"scared\": 1, \"exam\": 2, \"upsc\": 1, \"test\": 2, \"guess\": 1, \"examination\": 1, \"shy\": 1, \"conversations\": 1, \"converse\": 1, \"network\": 1, \"interact\": 1, \"start\": 1, \"conversation\": 1, \"deserve\": 1, \"yeah\": 2, \"break\": 1, \"absolutely\": 1, \"said\": 1, \"fact\": 2, \"health\": 13, \"mental\": 19, \"another\": 1, \"define\": 2, \"important\": 1, \"importance\": 1, \"mentally\": 1, \"ill\": 1, \"therapist\": 2, \"does\": 3, \"therapy\": 4, \"mean\": 1, \"illness\": 5, \"affect\": 1, \"causes\": 1, \"warning\": 1, \"signs\": 1, \"recover\": 1, \"appears\": 1, \"symptoms\": 1, \"disorder\": 1, \"find\": 4, \"available\": 1, \"options\": 1, \"treatment\": 3, \"involved\": 1, \"professionals\": 2, \"types\": 3, \"where\": 4, \"before\": 1, \"new\": 1, \"medication\": 1, \"starting\": 1, \"learn\": 1, \"group\": 1, \"prevent\": 1, \"unwell\": 1, \"maintain\": 1, \"connections\": 1, \"stress\": 1, \"between\": 4, \"difference\": 4, \"sadness\": 2}',\n",
       " 'index_docs': '{\"138\": 2, \"139\": 2, \"140\": 2, \"11\": 24, \"44\": 6, \"210\": 1, \"211\": 1, \"141\": 2, \"212\": 1, \"213\": 1, \"215\": 1, \"214\": 1, \"30\": 10, \"216\": 1, \"217\": 1, \"218\": 1, \"219\": 1, \"94\": 3, \"220\": 1, \"142\": 2, \"13\": 18, \"221\": 1, \"223\": 1, \"222\": 1, \"224\": 1, \"143\": 2, \"225\": 1, \"226\": 1, \"95\": 3, \"227\": 1, \"144\": 2, \"145\": 2, \"96\": 3, \"228\": 1, \"40\": 6, \"19\": 17, \"21\": 14, \"229\": 1, \"45\": 5, \"55\": 5, \"56\": 5, \"22\": 14, \"8\": 26, \"14\": 19, \"57\": 5, \"146\": 2, \"10\": 23, \"147\": 2, \"65\": 4, \"148\": 2, \"58\": 5, \"1\": 126, \"230\": 1, \"97\": 3, \"4\": 36, \"3\": 39, \"231\": 1, \"66\": 4, \"150\": 2, \"149\": 2, \"26\": 11, \"232\": 1, \"98\": 3, \"67\": 4, \"233\": 1, \"237\": 1, \"6\": 28, \"235\": 1, \"238\": 1, \"236\": 1, \"234\": 1, \"99\": 3, \"239\": 1, \"241\": 1, \"240\": 1, \"100\": 3, \"242\": 1, \"243\": 1, \"151\": 2, \"7\": 27, \"152\": 2, \"15\": 16, \"46\": 6, \"153\": 2, \"23\": 13, \"154\": 2, \"5\": 32, \"2\": 36, \"244\": 1, \"47\": 6, \"245\": 1, \"33\": 8, \"251\": 1, \"250\": 1, \"248\": 1, \"247\": 1, \"246\": 1, \"101\": 3, \"68\": 4, \"249\": 1, \"27\": 11, \"252\": 1, \"48\": 5, \"102\": 3, \"18\": 18, \"103\": 3, \"253\": 1, \"69\": 4, \"104\": 3, \"29\": 10, \"155\": 2, \"9\": 23, \"105\": 3, \"28\": 11, \"156\": 2, \"34\": 7, \"24\": 12, \"31\": 10, \"262\": 1, \"259\": 1, \"264\": 1, \"263\": 1, \"261\": 1, \"256\": 1, \"70\": 4, \"257\": 1, \"255\": 1, \"260\": 1, \"254\": 1, \"20\": 11, \"71\": 4, \"35\": 8, \"59\": 5, \"157\": 2, \"158\": 2, \"258\": 1, \"16\": 16, \"41\": 7, \"159\": 2, \"106\": 3, \"72\": 4, \"36\": 8, \"107\": 3, \"108\": 3, \"265\": 1, \"160\": 2, \"74\": 4, \"42\": 6, \"163\": 2, \"274\": 1, \"49\": 4, \"43\": 7, \"109\": 3, \"110\": 3, \"273\": 1, \"37\": 6, \"267\": 1, \"161\": 2, \"266\": 1, \"271\": 1, \"162\": 2, \"269\": 1, \"272\": 1, \"268\": 1, \"73\": 3, \"75\": 3, \"270\": 1, \"50\": 6, \"111\": 3, \"276\": 1, \"12\": 16, \"275\": 1, \"277\": 1, \"279\": 1, \"164\": 2, \"60\": 5, \"278\": 1, \"112\": 3, \"280\": 1, \"282\": 1, \"283\": 1, \"32\": 9, \"281\": 1, \"76\": 4, \"165\": 2, \"166\": 2, \"284\": 1, \"77\": 4, \"285\": 1, \"61\": 5, \"286\": 1, \"287\": 1, \"288\": 1, \"167\": 2, \"289\": 1, \"113\": 3, \"290\": 1, \"78\": 4, \"52\": 6, \"51\": 6, \"168\": 2, \"291\": 1, \"297\": 1, \"114\": 3, \"169\": 1, \"38\": 8, \"170\": 2, \"296\": 1, \"298\": 1, \"295\": 1, \"293\": 1, \"294\": 1, \"292\": 1, \"299\": 1, \"62\": 5, \"115\": 3, \"53\": 6, \"79\": 4, \"300\": 1, \"301\": 1, \"302\": 1, \"116\": 3, \"80\": 4, \"171\": 2, \"172\": 2, \"303\": 1, \"304\": 1, \"306\": 1, \"173\": 2, \"305\": 1, \"174\": 2, \"175\": 2, \"81\": 4, \"307\": 1, \"309\": 1, \"308\": 1, \"310\": 1, \"311\": 1, \"176\": 2, \"312\": 1, \"313\": 1, \"82\": 4, \"117\": 3, \"314\": 1, \"317\": 1, \"322\": 1, \"177\": 1, \"178\": 2, \"319\": 1, \"321\": 1, \"316\": 1, \"318\": 1, \"315\": 1, \"323\": 1, \"179\": 2, \"320\": 1, \"324\": 1, \"332\": 1, \"333\": 1, \"334\": 1, \"118\": 3, \"84\": 4, \"327\": 1, \"39\": 8, \"328\": 1, \"325\": 1, \"338\": 1, \"85\": 4, \"120\": 3, \"54\": 6, \"335\": 1, \"336\": 1, \"337\": 1, \"326\": 1, \"83\": 4, \"119\": 3, \"330\": 1, \"331\": 1, \"339\": 1, \"180\": 2, \"329\": 1, \"341\": 1, \"121\": 3, \"342\": 1, \"181\": 2, \"182\": 2, \"340\": 1, \"344\": 1, \"343\": 1, \"345\": 1, \"347\": 1, \"346\": 1, \"348\": 1, \"350\": 1, \"349\": 1, \"123\": 3, \"122\": 3, \"183\": 2, \"124\": 3, \"352\": 1, \"351\": 1, \"354\": 1, \"184\": 2, \"355\": 1, \"353\": 1, \"86\": 3, \"185\": 2, \"186\": 2, \"359\": 1, \"125\": 3, \"357\": 1, \"356\": 1, \"358\": 1, \"360\": 1, \"362\": 1, \"361\": 1, \"187\": 2, \"364\": 1, \"363\": 1, \"365\": 1, \"188\": 2, \"189\": 2, \"368\": 1, \"369\": 1, \"367\": 1, \"127\": 3, \"370\": 1, \"371\": 1, \"126\": 3, \"128\": 3, \"129\": 2, \"372\": 1, \"366\": 1, \"374\": 1, \"373\": 1, \"87\": 4, \"376\": 1, \"378\": 1, \"382\": 1, \"190\": 2, \"375\": 1, \"191\": 2, \"381\": 1, \"379\": 1, \"380\": 1, \"130\": 3, \"377\": 1, \"192\": 2, \"383\": 1, \"385\": 1, \"384\": 1, \"388\": 1, \"390\": 1, \"387\": 1, \"389\": 1, \"386\": 1, \"391\": 1, \"63\": 5, \"392\": 1, \"393\": 1, \"394\": 1, \"395\": 1, \"396\": 1, \"193\": 2, \"397\": 1, \"194\": 2, \"398\": 1, \"399\": 1, \"400\": 1, \"403\": 1, \"402\": 1, \"401\": 1, \"405\": 1, \"406\": 1, \"404\": 1, \"410\": 1, \"409\": 1, \"407\": 1, \"408\": 1, \"131\": 3, \"412\": 1, \"411\": 1, \"132\": 3, \"413\": 1, \"414\": 1, \"88\": 4, \"415\": 1, \"195\": 2, \"416\": 1, \"417\": 1, \"196\": 2, \"418\": 1, \"419\": 1, \"420\": 1, \"422\": 1, \"421\": 1, \"424\": 1, \"423\": 1, \"425\": 1, \"426\": 1, \"197\": 2, \"427\": 1, \"428\": 1, \"429\": 1, \"430\": 1, \"198\": 2, \"431\": 1, \"432\": 1, \"433\": 1, \"199\": 2, \"434\": 1, \"435\": 1, \"436\": 1, \"437\": 1, \"438\": 1, \"439\": 1, \"133\": 3, \"440\": 1, \"200\": 2, \"441\": 1, \"442\": 1, \"443\": 1, \"444\": 1, \"201\": 2, \"134\": 3, \"445\": 1, \"449\": 1, \"450\": 1, \"448\": 1, \"447\": 1, \"446\": 1, \"452\": 1, \"202\": 2, \"451\": 1, \"203\": 2, \"453\": 1, \"454\": 1, \"455\": 1, \"456\": 1, \"457\": 1, \"458\": 1, \"459\": 1, \"460\": 1, \"461\": 1, \"462\": 1, \"204\": 2, \"463\": 1, \"464\": 1, \"465\": 1, \"205\": 2, \"25\": 13, \"17\": 19, \"466\": 1, \"206\": 2, \"467\": 1, \"468\": 1, \"469\": 1, \"470\": 1, \"207\": 2, \"135\": 3, \"89\": 4, \"471\": 1, \"64\": 5, \"472\": 1, \"473\": 1, \"474\": 1, \"475\": 1, \"476\": 1, \"477\": 1, \"478\": 1, \"479\": 1, \"90\": 4, \"481\": 1, \"480\": 1, \"136\": 3, \"482\": 1, \"208\": 2, \"137\": 3, \"91\": 4, \"483\": 1, \"485\": 1, \"486\": 1, \"484\": 1, \"487\": 1, \"488\": 1, \"489\": 1, \"490\": 1, \"491\": 1, \"492\": 1, \"493\": 1, \"93\": 4, \"92\": 4, \"209\": 2}',\n",
       " 'index_word': '{\"1\": \"i\", \"2\": \"to\", \"3\": \"am\", \"4\": \"my\", \"5\": \"and\", \"6\": \"a\", \"7\": \"have\", \"8\": \"what\", \"9\": \"feel\", \"10\": \"me\", \"11\": \"is\", \"12\": \"of\", \"13\": \"you\", \"14\": \"about\", \"15\": \"do\", \"16\": \"don\\'t\", \"17\": \"mental\", \"18\": \"can\", \"19\": \"the\", \"20\": \"i\\'m\", \"21\": \"for\", \"22\": \"are\", \"23\": \"how\", \"24\": \"that\", \"25\": \"health\", \"26\": \"in\", \"27\": \"want\", \"28\": \"this\", \"29\": \"so\", \"30\": \"good\", \"31\": \"not\", \"32\": \"with\", \"33\": \"talk\", \"34\": \"like\", \"35\": \"myself\", \"36\": \"know\", \"37\": \"lot\", \"38\": \"depression\", \"39\": \"if\", \"40\": \"help\", \"41\": \"no\", \"42\": \"right\", \"43\": \"get\", \"44\": \"there\", \"45\": \"very\", \"46\": \"become\", \"47\": \"need\", \"48\": \"better\", \"49\": \"just\", \"50\": \"stressed\", \"51\": \"else\", \"52\": \"but\", \"53\": \"it\", \"54\": \"all\", \"55\": \"much\", \"56\": \"who\", \"57\": \"tell\", \"58\": \"should\", \"59\": \"out\", \"60\": \"at\", \"61\": \"anything\", \"62\": \"can\\'t\", \"63\": \"away\", \"64\": \"illness\", \"65\": \"name\", \"66\": \"go\", \"67\": \"as\", \"68\": \"up\", \"69\": \"feeling\", \"70\": \"bad\", \"71\": \"things\", \"72\": \"sad\", \"73\": \"now\", \"74\": \"think\", \"75\": \"everything\", \"76\": \"on\", \"77\": \"everyone\", \"78\": \"people\", \"79\": \"depressed\", \"80\": \"control\", \"81\": \"change\", \"82\": \"anxious\", \"83\": \"sleep\", \"84\": \"anxiety\", \"85\": \"something\", \"86\": \"husband\", \"87\": \"child\", \"88\": \"passed\", \"89\": \"therapy\", \"90\": \"find\", \"91\": \"where\", \"92\": \"difference\", \"93\": \"between\", \"94\": \"bye\", \"95\": \"well\", \"96\": \"that\\'s\", \"97\": \"what\\'s\", \"98\": \"an\", \"99\": \"engineering\", \"100\": \"professional\", \"101\": \"when\", \"102\": \"could\", \"103\": \"support\", \"104\": \"lonely\", \"105\": \"alone\", \"106\": \"one\", \"107\": \"why\", \"108\": \"since\", \"109\": \"easily\", \"110\": \"worried\", \"111\": \"work\", \"112\": \"still\", \"113\": \"ugly\", \"114\": \"last\", \"115\": \"anymore\", \"116\": \"anger\", \"117\": \"because\", \"118\": \"going\", \"119\": \"attacks\", \"120\": \"wrong\", \"121\": \"i\\'ve\", \"122\": \"week\", \"123\": \"haven\\'t\", \"124\": \"time\", \"125\": \"she\", \"126\": \"from\", \"127\": \"nothing\", \"128\": \"or\", \"129\": \"being\", \"130\": \"say\", \"131\": \"family\", \"132\": \"died\", \"133\": \"you\\'re\", \"134\": \"exams\", \"135\": \"does\", \"136\": \"treatment\", \"137\": \"types\", \"138\": \"hi\", \"139\": \"hey\", \"140\": \"anyone\", \"141\": \"hola\", \"142\": \"see\", \"143\": \"ok\", \"144\": \"thanks\", \"145\": \"thank\", \"146\": \"more\", \"147\": \"yourself\", \"148\": \"your\", \"149\": \"working\", \"150\": \"live\", \"151\": \"college\", \"152\": \"children\", \"153\": \"confident\", \"154\": \"social\", \"155\": \"down\", \"156\": \"world\", \"157\": \"also\", \"158\": \"will\", \"159\": \"here\", \"160\": \"friend\", \"161\": \"school\", \"162\": \"over\", \"163\": \"money\", \"164\": \"unable\", \"165\": \"worthless\", \"166\": \"likes\", \"167\": \"failure\", \"168\": \"looking\", \"169\": \"summer\", \"170\": \"did\", \"171\": \"cannot\", \"172\": \"issues\", \"173\": \"constantly\", \"174\": \"hurt\", \"175\": \"rude\", \"176\": \"happy\", \"177\": \"them\", \"178\": \"wife\", \"179\": \"mom\", \"180\": \"trouble\", \"181\": \"been\", \"182\": \"having\", \"183\": \"lots\", \"184\": \"any\", \"185\": \"connection\", \"186\": \"hardly\", \"187\": \"he\", \"188\": \"different\", \"189\": \"relationship\", \"190\": \"doesn\\'t\", \"191\": \"some\", \"192\": \"difficult\", \"193\": \"suffering\", \"194\": \"days\", \"195\": \"someone\", \"196\": \"kill\", \"197\": \"hate\", \"198\": \"friends\", \"199\": \"problems\", \"200\": \"dumb\", \"201\": \"prepared\", \"202\": \"exam\", \"203\": \"test\", \"204\": \"yeah\", \"205\": \"fact\", \"206\": \"define\", \"207\": \"therapist\", \"208\": \"professionals\", \"209\": \"sadness\", \"210\": \"hello\", \"211\": \"howdy\", \"212\": \"bonjour\", \"213\": \"konnichiwa\", \"214\": \"guten\", \"215\": \"tag\", \"216\": \"morning\", \"217\": \"afternoon\", \"218\": \"evening\", \"219\": \"night\", \"220\": \"later\", \"221\": \"goodbye\", \"222\": \"au\", \"223\": \"revoir\", \"224\": \"sayonara\", \"225\": \"then\", \"226\": \"fare\", \"227\": \"thee\", \"228\": \"helpful\", \"229\": \"than\", \"230\": \"call\", \"231\": \"by\", \"232\": \"engineer\", \"233\": \"chennai\", \"234\": \"student\", \"235\": \"studying\", \"236\": \"medicine\", \"237\": \"san\", \"238\": \"fransico\", \"239\": \"graduate\", \"240\": \"searching\", \"241\": \"job\", \"242\": \"professor\", \"243\": \"2\", \"244\": \"bold\", \"245\": \"situations\", \"246\": \"lack\", \"247\": \"courage\", \"248\": \"confidence\", \"249\": \"coworkers\", \"250\": \"defend\", \"251\": \"situation\", \"252\": \"improvise\", \"253\": \"please\", \"254\": \"trying\", \"255\": \"convince\", \"256\": \"okay\", \"257\": \"always\", \"258\": \"blocking\", \"259\": \"forgetting\", \"260\": \"nobody\", \"261\": \"cares\", \"262\": \"they\", \"263\": \"never\", \"264\": \"truly\", \"265\": \"let\", \"266\": \"late\", \"267\": \"20s\", \"268\": \"two\", \"269\": \"jobs\", \"270\": \"under\", \"271\": \"belt\", \"272\": \"really\", \"273\": \"tend\", \"274\": \"worry\", \"275\": \"cause\", \"276\": \"boss\", \"277\": \"strict\", \"278\": \"stuck\", \"279\": \"position\", \"280\": \"burned\", \"281\": \"own\", \"282\": \"daughter\", \"283\": \"her\", \"284\": \"worthful\", \"285\": \"thinks\", \"286\": \"takes\", \"287\": \"granted\", \"288\": \"unimportant\", \"289\": \"thing\", \"290\": \"stare\", \"291\": \"look\", \"292\": \"manic\", \"293\": \"was\", \"294\": \"recurring\", \"295\": \"nightmares\", \"296\": \"avoid\", \"297\": \"give\", \"298\": \"similar\", \"299\": \"take\", \"300\": \"recognize\", \"301\": \"suggestions\", \"302\": \"managing\", \"303\": \"extremely\", \"304\": \"angry\", \"305\": \"furious\", \"306\": \"behaviour\", \"307\": \"irritated\", \"308\": \"irritating\", \"309\": \"behviour\", \"310\": \"great\", \"311\": \"today\", \"312\": \"cheerful\", \"313\": \"fine\", \"314\": \"nervous\", \"315\": \"secrets\", \"316\": \"mind\", \"317\": \"sure\", \"318\": \"long\", \"319\": \"keep\", \"320\": \"secret\", \"321\": \"it\\'s\", \"322\": \"becoming\", \"323\": \"annoying\", \"324\": \"making\", \"325\": \"first\", \"326\": \"sleeping\", \"327\": \"times\", \"328\": \"while\", \"329\": \"other\", \"330\": \"nights\", \"331\": \"too\", \"332\": \"quite\", \"333\": \"tired\", \"334\": \"i\\\\u00e3\\\\u00a2\\\\u00e2\\\\u201a\\\\u00ac\\\\u00e2\\\\u201e\\\\u00a2m\", \"335\": \"noticing\", \"336\": \"increased\", \"337\": \"irritability\", \"338\": \"experiencing\", \"339\": \"hours\", \"340\": \"jaded\", \"341\": \"thoughts\", \"342\": \"focus\", \"343\": \"early\", \"344\": \"deadline\", \"345\": \"completed\", \"346\": \"submit\", \"347\": \"tomorrow\", \"348\": \"project\", \"349\": \"submission\", \"350\": \"started\", \"351\": \"deadlines\", \"352\": \"sick\", \"353\": \"due\", \"354\": \"workload\", \"355\": \"tips\", \"356\": \"listening\", \"357\": \"feels\", \"358\": \"bored\", \"359\": \"talking\", \"360\": \"lately\", \"361\": \"paying\", \"362\": \"attention\", \"363\": \"keeps\", \"364\": \"stressing\", \"365\": \"towards\", \"366\": \"growing\", \"367\": \"six\", \"368\": \"years\", \"369\": \"married\", \"370\": \"almost\", \"371\": \"five\", \"372\": \"irrational\", \"373\": \"listens\", \"374\": \"defying\", \"375\": \"toddler\", \"376\": \"defies\", \"377\": \"authoritative\", \"378\": \"says\", \"379\": \"i\\'d\", \"380\": \"hear\", \"381\": \"ways\", \"382\": \"needing\", \"383\": \"tolerate\", \"384\": \"developing\", \"385\": \"behaviours\", \"386\": \"most\", \"387\": \"kid\", \"388\": \"throwing\", \"389\": \"its\", \"390\": \"huge\", \"391\": \"pain\", \"392\": \"stay\", \"393\": \"bring\", \"394\": \"open\", \"395\": \"shut\", \"396\": \"insominia\", \"397\": \"insomnia\", \"398\": \"slept\", \"399\": \"seem\", \"400\": \"had\", \"401\": \"proper\", \"402\": \"past\", \"403\": \"few\", \"404\": \"stop\", \"405\": \"abusing\", \"406\": \"alcohol\", \"407\": \"addicted\", \"408\": \"smoking\", \"409\": \"rid\", \"410\": \"addiction\", \"411\": \"weed\", \"412\": \"addict\", \"413\": \"brother\", \"414\": \"dad\", \"415\": \"sister\", \"416\": \"would\", \"417\": \"be\", \"418\": \"thought\", \"419\": \"killing\", \"420\": \"die\", \"421\": \"commit\", \"422\": \"suicide\", \"423\": \"hatred\", \"424\": \"wish\", \"425\": \"turn\", \"426\": \"brings\", \"427\": \"certain\", \"428\": \"around\", \"429\": \"parents\", \"430\": \"relatives\", \"431\": \"boyfriend\", \"432\": \"girlfriend\", \"433\": \"financial\", \"434\": \"saying\", \"435\": \"make\", \"436\": \"sense\", \"437\": \"response\", \"438\": \"answer\", \"439\": \"stupid\", \"440\": \"crazy\", \"441\": \"let\\'s\", \"442\": \"we\", \"443\": \"ask\", \"444\": \"approaching\", \"445\": \"enough\", \"446\": \"series\", \"447\": \"tests\", \"448\": \"coming\", \"449\": \"study\", \"450\": \"grandfather\", \"451\": \"upsc\", \"452\": \"scared\", \"453\": \"guess\", \"454\": \"examination\", \"455\": \"shy\", \"456\": \"conversations\", \"457\": \"converse\", \"458\": \"network\", \"459\": \"interact\", \"460\": \"start\", \"461\": \"conversation\", \"462\": \"deserve\", \"463\": \"break\", \"464\": \"absolutely\", \"465\": \"said\", \"466\": \"another\", \"467\": \"important\", \"468\": \"importance\", \"469\": \"mentally\", \"470\": \"ill\", \"471\": \"mean\", \"472\": \"affect\", \"473\": \"causes\", \"474\": \"warning\", \"475\": \"signs\", \"476\": \"recover\", \"477\": \"appears\", \"478\": \"symptoms\", \"479\": \"disorder\", \"480\": \"options\", \"481\": \"available\", \"482\": \"involved\", \"483\": \"before\", \"484\": \"starting\", \"485\": \"new\", \"486\": \"medication\", \"487\": \"learn\", \"488\": \"group\", \"489\": \"prevent\", \"490\": \"unwell\", \"491\": \"maintain\", \"492\": \"connections\", \"493\": \"stress\"}',\n",
       " 'word_index': '{\"i\": 1, \"to\": 2, \"am\": 3, \"my\": 4, \"and\": 5, \"a\": 6, \"have\": 7, \"what\": 8, \"feel\": 9, \"me\": 10, \"is\": 11, \"of\": 12, \"you\": 13, \"about\": 14, \"do\": 15, \"don\\'t\": 16, \"mental\": 17, \"can\": 18, \"the\": 19, \"i\\'m\": 20, \"for\": 21, \"are\": 22, \"how\": 23, \"that\": 24, \"health\": 25, \"in\": 26, \"want\": 27, \"this\": 28, \"so\": 29, \"good\": 30, \"not\": 31, \"with\": 32, \"talk\": 33, \"like\": 34, \"myself\": 35, \"know\": 36, \"lot\": 37, \"depression\": 38, \"if\": 39, \"help\": 40, \"no\": 41, \"right\": 42, \"get\": 43, \"there\": 44, \"very\": 45, \"become\": 46, \"need\": 47, \"better\": 48, \"just\": 49, \"stressed\": 50, \"else\": 51, \"but\": 52, \"it\": 53, \"all\": 54, \"much\": 55, \"who\": 56, \"tell\": 57, \"should\": 58, \"out\": 59, \"at\": 60, \"anything\": 61, \"can\\'t\": 62, \"away\": 63, \"illness\": 64, \"name\": 65, \"go\": 66, \"as\": 67, \"up\": 68, \"feeling\": 69, \"bad\": 70, \"things\": 71, \"sad\": 72, \"now\": 73, \"think\": 74, \"everything\": 75, \"on\": 76, \"everyone\": 77, \"people\": 78, \"depressed\": 79, \"control\": 80, \"change\": 81, \"anxious\": 82, \"sleep\": 83, \"anxiety\": 84, \"something\": 85, \"husband\": 86, \"child\": 87, \"passed\": 88, \"therapy\": 89, \"find\": 90, \"where\": 91, \"difference\": 92, \"between\": 93, \"bye\": 94, \"well\": 95, \"that\\'s\": 96, \"what\\'s\": 97, \"an\": 98, \"engineering\": 99, \"professional\": 100, \"when\": 101, \"could\": 102, \"support\": 103, \"lonely\": 104, \"alone\": 105, \"one\": 106, \"why\": 107, \"since\": 108, \"easily\": 109, \"worried\": 110, \"work\": 111, \"still\": 112, \"ugly\": 113, \"last\": 114, \"anymore\": 115, \"anger\": 116, \"because\": 117, \"going\": 118, \"attacks\": 119, \"wrong\": 120, \"i\\'ve\": 121, \"week\": 122, \"haven\\'t\": 123, \"time\": 124, \"she\": 125, \"from\": 126, \"nothing\": 127, \"or\": 128, \"being\": 129, \"say\": 130, \"family\": 131, \"died\": 132, \"you\\'re\": 133, \"exams\": 134, \"does\": 135, \"treatment\": 136, \"types\": 137, \"hi\": 138, \"hey\": 139, \"anyone\": 140, \"hola\": 141, \"see\": 142, \"ok\": 143, \"thanks\": 144, \"thank\": 145, \"more\": 146, \"yourself\": 147, \"your\": 148, \"working\": 149, \"live\": 150, \"college\": 151, \"children\": 152, \"confident\": 153, \"social\": 154, \"down\": 155, \"world\": 156, \"also\": 157, \"will\": 158, \"here\": 159, \"friend\": 160, \"school\": 161, \"over\": 162, \"money\": 163, \"unable\": 164, \"worthless\": 165, \"likes\": 166, \"failure\": 167, \"looking\": 168, \"summer\": 169, \"did\": 170, \"cannot\": 171, \"issues\": 172, \"constantly\": 173, \"hurt\": 174, \"rude\": 175, \"happy\": 176, \"them\": 177, \"wife\": 178, \"mom\": 179, \"trouble\": 180, \"been\": 181, \"having\": 182, \"lots\": 183, \"any\": 184, \"connection\": 185, \"hardly\": 186, \"he\": 187, \"different\": 188, \"relationship\": 189, \"doesn\\'t\": 190, \"some\": 191, \"difficult\": 192, \"suffering\": 193, \"days\": 194, \"someone\": 195, \"kill\": 196, \"hate\": 197, \"friends\": 198, \"problems\": 199, \"dumb\": 200, \"prepared\": 201, \"exam\": 202, \"test\": 203, \"yeah\": 204, \"fact\": 205, \"define\": 206, \"therapist\": 207, \"professionals\": 208, \"sadness\": 209, \"hello\": 210, \"howdy\": 211, \"bonjour\": 212, \"konnichiwa\": 213, \"guten\": 214, \"tag\": 215, \"morning\": 216, \"afternoon\": 217, \"evening\": 218, \"night\": 219, \"later\": 220, \"goodbye\": 221, \"au\": 222, \"revoir\": 223, \"sayonara\": 224, \"then\": 225, \"fare\": 226, \"thee\": 227, \"helpful\": 228, \"than\": 229, \"call\": 230, \"by\": 231, \"engineer\": 232, \"chennai\": 233, \"student\": 234, \"studying\": 235, \"medicine\": 236, \"san\": 237, \"fransico\": 238, \"graduate\": 239, \"searching\": 240, \"job\": 241, \"professor\": 242, \"2\": 243, \"bold\": 244, \"situations\": 245, \"lack\": 246, \"courage\": 247, \"confidence\": 248, \"coworkers\": 249, \"defend\": 250, \"situation\": 251, \"improvise\": 252, \"please\": 253, \"trying\": 254, \"convince\": 255, \"okay\": 256, \"always\": 257, \"blocking\": 258, \"forgetting\": 259, \"nobody\": 260, \"cares\": 261, \"they\": 262, \"never\": 263, \"truly\": 264, \"let\": 265, \"late\": 266, \"20s\": 267, \"two\": 268, \"jobs\": 269, \"under\": 270, \"belt\": 271, \"really\": 272, \"tend\": 273, \"worry\": 274, \"cause\": 275, \"boss\": 276, \"strict\": 277, \"stuck\": 278, \"position\": 279, \"burned\": 280, \"own\": 281, \"daughter\": 282, \"her\": 283, \"worthful\": 284, \"thinks\": 285, \"takes\": 286, \"granted\": 287, \"unimportant\": 288, \"thing\": 289, \"stare\": 290, \"look\": 291, \"manic\": 292, \"was\": 293, \"recurring\": 294, \"nightmares\": 295, \"avoid\": 296, \"give\": 297, \"similar\": 298, \"take\": 299, \"recognize\": 300, \"suggestions\": 301, \"managing\": 302, \"extremely\": 303, \"angry\": 304, \"furious\": 305, \"behaviour\": 306, \"irritated\": 307, \"irritating\": 308, \"behviour\": 309, \"great\": 310, \"today\": 311, \"cheerful\": 312, \"fine\": 313, \"nervous\": 314, \"secrets\": 315, \"mind\": 316, \"sure\": 317, \"long\": 318, \"keep\": 319, \"secret\": 320, \"it\\'s\": 321, \"becoming\": 322, \"annoying\": 323, \"making\": 324, \"first\": 325, \"sleeping\": 326, \"times\": 327, \"while\": 328, \"other\": 329, \"nights\": 330, \"too\": 331, \"quite\": 332, \"tired\": 333, \"i\\\\u00e3\\\\u00a2\\\\u00e2\\\\u201a\\\\u00ac\\\\u00e2\\\\u201e\\\\u00a2m\": 334, \"noticing\": 335, \"increased\": 336, \"irritability\": 337, \"experiencing\": 338, \"hours\": 339, \"jaded\": 340, \"thoughts\": 341, \"focus\": 342, \"early\": 343, \"deadline\": 344, \"completed\": 345, \"submit\": 346, \"tomorrow\": 347, \"project\": 348, \"submission\": 349, \"started\": 350, \"deadlines\": 351, \"sick\": 352, \"due\": 353, \"workload\": 354, \"tips\": 355, \"listening\": 356, \"feels\": 357, \"bored\": 358, \"talking\": 359, \"lately\": 360, \"paying\": 361, \"attention\": 362, \"keeps\": 363, \"stressing\": 364, \"towards\": 365, \"growing\": 366, \"six\": 367, \"years\": 368, \"married\": 369, \"almost\": 370, \"five\": 371, \"irrational\": 372, \"listens\": 373, \"defying\": 374, \"toddler\": 375, \"defies\": 376, \"authoritative\": 377, \"says\": 378, \"i\\'d\": 379, \"hear\": 380, \"ways\": 381, \"needing\": 382, \"tolerate\": 383, \"developing\": 384, \"behaviours\": 385, \"most\": 386, \"kid\": 387, \"throwing\": 388, \"its\": 389, \"huge\": 390, \"pain\": 391, \"stay\": 392, \"bring\": 393, \"open\": 394, \"shut\": 395, \"insominia\": 396, \"insomnia\": 397, \"slept\": 398, \"seem\": 399, \"had\": 400, \"proper\": 401, \"past\": 402, \"few\": 403, \"stop\": 404, \"abusing\": 405, \"alcohol\": 406, \"addicted\": 407, \"smoking\": 408, \"rid\": 409, \"addiction\": 410, \"weed\": 411, \"addict\": 412, \"brother\": 413, \"dad\": 414, \"sister\": 415, \"would\": 416, \"be\": 417, \"thought\": 418, \"killing\": 419, \"die\": 420, \"commit\": 421, \"suicide\": 422, \"hatred\": 423, \"wish\": 424, \"turn\": 425, \"brings\": 426, \"certain\": 427, \"around\": 428, \"parents\": 429, \"relatives\": 430, \"boyfriend\": 431, \"girlfriend\": 432, \"financial\": 433, \"saying\": 434, \"make\": 435, \"sense\": 436, \"response\": 437, \"answer\": 438, \"stupid\": 439, \"crazy\": 440, \"let\\'s\": 441, \"we\": 442, \"ask\": 443, \"approaching\": 444, \"enough\": 445, \"series\": 446, \"tests\": 447, \"coming\": 448, \"study\": 449, \"grandfather\": 450, \"upsc\": 451, \"scared\": 452, \"guess\": 453, \"examination\": 454, \"shy\": 455, \"conversations\": 456, \"converse\": 457, \"network\": 458, \"interact\": 459, \"start\": 460, \"conversation\": 461, \"deserve\": 462, \"break\": 463, \"absolutely\": 464, \"said\": 465, \"another\": 466, \"important\": 467, \"importance\": 468, \"mentally\": 469, \"ill\": 470, \"mean\": 471, \"affect\": 472, \"causes\": 473, \"warning\": 474, \"signs\": 475, \"recover\": 476, \"appears\": 477, \"symptoms\": 478, \"disorder\": 479, \"options\": 480, \"available\": 481, \"involved\": 482, \"before\": 483, \"starting\": 484, \"new\": 485, \"medication\": 486, \"learn\": 487, \"group\": 488, \"prevent\": 489, \"unwell\": 490, \"maintain\": 491, \"connections\": 492, \"stress\": 493}'}"
      ]
     },
     "execution_count": 46,
     "metadata": {},
     "output_type": "execute_result"
    }
   ],
   "source": [
    "from tensorflow.keras.preprocessing.text import Tokenizer\n",
    "\n",
    "tokenizer = Tokenizer(lower=True, split=' ')\n",
    "tokenizer.fit_on_texts(df['patterns'])\n",
    "tokenizer.get_config()"
   ]
  },
  {
   "cell_type": "code",
   "execution_count": 47,
   "metadata": {
    "execution": {
     "iopub.execute_input": "2023-03-23T15:38:24.151311Z",
     "iopub.status.busy": "2023-03-23T15:38:24.150390Z",
     "iopub.status.idle": "2023-03-23T15:38:24.156389Z",
     "shell.execute_reply": "2023-03-23T15:38:24.155594Z",
     "shell.execute_reply.started": "2023-03-23T15:38:24.151267Z"
    }
   },
   "outputs": [
    {
     "name": "stdout",
     "output_type": "stream",
     "text": [
      "number of unique words =  493\n"
     ]
    }
   ],
   "source": [
    "vacab_size = len(tokenizer.word_index)\n",
    "print('number of unique words = ', vacab_size)"
   ]
  },
  {
   "cell_type": "code",
   "execution_count": 48,
   "metadata": {
    "execution": {
     "iopub.execute_input": "2023-03-23T15:38:31.304258Z",
     "iopub.status.busy": "2023-03-23T15:38:31.303580Z",
     "iopub.status.idle": "2023-03-23T15:38:31.767412Z",
     "shell.execute_reply": "2023-03-23T15:38:31.766209Z",
     "shell.execute_reply.started": "2023-03-23T15:38:31.304223Z"
    }
   },
   "outputs": [
    {
     "name": "stdout",
     "output_type": "stream",
     "text": [
      "X shape =  (240, 60)\n",
      "y shape =  (240,)\n",
      "num of classes =  72\n"
     ]
    }
   ],
   "source": [
    "from tensorflow.keras.preprocessing.sequence import pad_sequences\n",
    "from sklearn.preprocessing import LabelEncoder\n",
    "\n",
    "ptrn2seq = tokenizer.texts_to_sequences(df['patterns'])\n",
    "X = pad_sequences(ptrn2seq, padding='post')\n",
    "print('X shape = ', X.shape)\n",
    "\n",
    "lbl_enc = LabelEncoder()\n",
    "y = lbl_enc.fit_transform(df['tag'])\n",
    "print('y shape = ', y.shape)\n",
    "print('num of classes = ', len(np.unique(y)))"
   ]
  },
  {
   "cell_type": "markdown",
   "metadata": {},
   "source": [
    "# Build and Train Model"
   ]
  },
  {
   "cell_type": "code",
   "execution_count": 52,
   "metadata": {
    "execution": {
     "iopub.execute_input": "2023-03-23T15:38:37.829564Z",
     "iopub.status.busy": "2023-03-23T15:38:37.829155Z",
     "iopub.status.idle": "2023-03-23T15:38:41.906759Z",
     "shell.execute_reply": "2023-03-23T15:38:41.905213Z",
     "shell.execute_reply.started": "2023-03-23T15:38:37.829531Z"
    }
   },
   "outputs": [
    {
     "name": "stdout",
     "output_type": "stream",
     "text": [
      "Model: \"sequential_3\"\n",
      "_________________________________________________________________\n",
      " Layer (type)                Output Shape              Param #   \n",
      "=================================================================\n",
      " embedding_3 (Embedding)     (None, 60, 100)           49400     \n",
      "                                                                 \n",
      " lstm_9 (LSTM)               (None, 60, 32)            17024     \n",
      "                                                                 \n",
      " layer_normalization_15 (Lay  (None, 60, 32)           64        \n",
      " erNormalization)                                                \n",
      "                                                                 \n",
      " lstm_10 (LSTM)              (None, 60, 32)            8320      \n",
      "                                                                 \n",
      " layer_normalization_16 (Lay  (None, 60, 32)           64        \n",
      " erNormalization)                                                \n",
      "                                                                 \n",
      " lstm_11 (LSTM)              (None, 32)                8320      \n",
      "                                                                 \n",
      " layer_normalization_17 (Lay  (None, 32)               64        \n",
      " erNormalization)                                                \n",
      "                                                                 \n",
      " dense_9 (Dense)             (None, 128)               4224      \n",
      "                                                                 \n",
      " layer_normalization_18 (Lay  (None, 128)              256       \n",
      " erNormalization)                                                \n",
      "                                                                 \n",
      " dropout_6 (Dropout)         (None, 128)               0         \n",
      "                                                                 \n",
      " dense_10 (Dense)            (None, 128)               16512     \n",
      "                                                                 \n",
      " layer_normalization_19 (Lay  (None, 128)              256       \n",
      " erNormalization)                                                \n",
      "                                                                 \n",
      " dropout_7 (Dropout)         (None, 128)               0         \n",
      "                                                                 \n",
      " dense_11 (Dense)            (None, 72)                9288      \n",
      "                                                                 \n",
      "=================================================================\n",
      "Total params: 113,792\n",
      "Trainable params: 113,792\n",
      "Non-trainable params: 0\n",
      "_________________________________________________________________\n",
      "You must install pydot (`pip install pydot`) and install graphviz (see instructions at https://graphviz.gitlab.io/download/) for plot_model/model_to_dot to work.\n"
     ]
    }
   ],
   "source": [
    "import tensorflow\n",
    "from tensorflow import keras\n",
    "from tensorflow.keras.models import Sequential\n",
    "from tensorflow.keras.layers import Input, Embedding, LSTM, LayerNormalization, Dense, Dropout\n",
    "from tensorflow.keras.utils import plot_model\n",
    "\n",
    "model = Sequential()\n",
    "model.add(Input(shape=(X.shape[1])))\n",
    "model.add(Embedding(input_dim=vacab_size+1, output_dim=100, mask_zero=True))\n",
    "model.add(LSTM(32, return_sequences=True))\n",
    "model.add(LayerNormalization())\n",
    "model.add(LSTM(32, return_sequences=True))\n",
    "model.add(LayerNormalization())\n",
    "model.add(LSTM(32))\n",
    "model.add(LayerNormalization())\n",
    "model.add(Dense(128, activation=\"relu\"))\n",
    "model.add(LayerNormalization())\n",
    "model.add(Dropout(0.2))\n",
    "model.add(Dense(128, activation=\"relu\"))\n",
    "model.add(LayerNormalization())\n",
    "model.add(Dropout(0.2))\n",
    "model.add(Dense(len(np.unique(y)), activation=\"softmax\"))\n",
    "model.compile(optimizer='adam', loss=\"sparse_categorical_crossentropy\", metrics=['accuracy'])\n",
    "\n",
    "model.summary()\n",
    "plot_model(model, show_shapes=True)"
   ]
  },
  {
   "cell_type": "code",
   "execution_count": 53,
   "metadata": {
    "execution": {
     "iopub.execute_input": "2023-03-23T15:38:52.049135Z",
     "iopub.status.busy": "2023-03-23T15:38:52.048560Z",
     "iopub.status.idle": "2023-03-23T15:39:28.119405Z",
     "shell.execute_reply": "2023-03-23T15:39:28.118254Z",
     "shell.execute_reply.started": "2023-03-23T15:38:52.049082Z"
    }
   },
   "outputs": [
    {
     "name": "stdout",
     "output_type": "stream",
     "text": [
      "Epoch 1/50\n",
      "24/24 [==============================] - 16s 54ms/step - loss: 4.6996 - accuracy: 0.0167\n",
      "Epoch 2/50\n",
      "24/24 [==============================] - 1s 55ms/step - loss: 3.6981 - accuracy: 0.1250\n",
      "Epoch 3/50\n",
      "24/24 [==============================] - 1s 54ms/step - loss: 2.9826 - accuracy: 0.2917\n",
      "Epoch 4/50\n",
      "24/24 [==============================] - 1s 52ms/step - loss: 2.4514 - accuracy: 0.3792\n",
      "Epoch 5/50\n",
      "24/24 [==============================] - 1s 53ms/step - loss: 2.0009 - accuracy: 0.5167\n",
      "Epoch 6/50\n",
      "24/24 [==============================] - 1s 53ms/step - loss: 1.6704 - accuracy: 0.5917\n",
      "Epoch 7/50\n",
      "24/24 [==============================] - 1s 54ms/step - loss: 1.3903 - accuracy: 0.6375\n",
      "Epoch 8/50\n",
      "24/24 [==============================] - 1s 57ms/step - loss: 1.1614 - accuracy: 0.7292\n",
      "Epoch 9/50\n",
      "24/24 [==============================] - 1s 54ms/step - loss: 0.8832 - accuracy: 0.8292\n",
      "Epoch 10/50\n",
      "24/24 [==============================] - 1s 54ms/step - loss: 0.6972 - accuracy: 0.8917\n",
      "Epoch 11/50\n",
      "24/24 [==============================] - 1s 55ms/step - loss: 0.5854 - accuracy: 0.8708\n",
      "Epoch 12/50\n",
      "24/24 [==============================] - 1s 54ms/step - loss: 0.4908 - accuracy: 0.9125\n",
      "Epoch 13/50\n",
      "24/24 [==============================] - 1s 55ms/step - loss: 0.4129 - accuracy: 0.9292\n",
      "Epoch 14/50\n",
      "24/24 [==============================] - 1s 55ms/step - loss: 0.3002 - accuracy: 0.9583\n",
      "Epoch 15/50\n",
      "24/24 [==============================] - 1s 53ms/step - loss: 0.2614 - accuracy: 0.9583\n",
      "Epoch 16/50\n",
      "24/24 [==============================] - 1s 58ms/step - loss: 0.2150 - accuracy: 0.9792\n",
      "Epoch 17/50\n",
      "24/24 [==============================] - 1s 56ms/step - loss: 0.2058 - accuracy: 0.9667\n",
      "Epoch 18/50\n",
      "24/24 [==============================] - 1s 54ms/step - loss: 0.1691 - accuracy: 0.9833\n",
      "Epoch 19/50\n",
      "24/24 [==============================] - 1s 55ms/step - loss: 0.1555 - accuracy: 0.9833\n",
      "Epoch 20/50\n",
      "24/24 [==============================] - 1s 54ms/step - loss: 0.1384 - accuracy: 0.9833\n",
      "Epoch 21/50\n",
      "24/24 [==============================] - 1s 56ms/step - loss: 0.1178 - accuracy: 0.9875\n",
      "Epoch 22/50\n",
      "24/24 [==============================] - 1s 55ms/step - loss: 0.1018 - accuracy: 0.9917\n",
      "Epoch 23/50\n",
      "24/24 [==============================] - 1s 55ms/step - loss: 0.0990 - accuracy: 0.9875\n",
      "Epoch 24/50\n",
      "24/24 [==============================] - 1s 55ms/step - loss: 0.0986 - accuracy: 0.9917\n",
      "Epoch 25/50\n",
      "24/24 [==============================] - 1s 55ms/step - loss: 0.0900 - accuracy: 0.9958\n",
      "Epoch 26/50\n",
      "24/24 [==============================] - 1s 53ms/step - loss: 0.0795 - accuracy: 0.9917\n",
      "Epoch 27/50\n",
      "24/24 [==============================] - 1s 55ms/step - loss: 0.0566 - accuracy: 0.9958\n",
      "Epoch 28/50\n",
      "24/24 [==============================] - 1s 55ms/step - loss: 0.0512 - accuracy: 1.0000\n",
      "Epoch 29/50\n",
      "24/24 [==============================] - 1s 53ms/step - loss: 0.0417 - accuracy: 1.0000\n",
      "Epoch 30/50\n",
      "24/24 [==============================] - 1s 57ms/step - loss: 0.0461 - accuracy: 1.0000\n",
      "Epoch 31/50\n",
      "24/24 [==============================] - 1s 57ms/step - loss: 0.0514 - accuracy: 0.9958\n"
     ]
    }
   ],
   "source": [
    "model_history = model.fit(x=X,\n",
    "                          y=y,\n",
    "                          batch_size=10,\n",
    "                          callbacks=[tensorflow.keras.callbacks.EarlyStopping(monitor='accuracy', patience=3)],\n",
    "                          epochs=50)"
   ]
  },
  {
   "cell_type": "code",
   "execution_count": null,
   "metadata": {},
   "outputs": [],
   "source": [
    "X.shape[1]"
   ]
  },
  {
   "cell_type": "code",
   "execution_count": null,
   "metadata": {},
   "outputs": [],
   "source": [
    "model.save('C:/Users/Kavi priya/Desktop/mental_health_chatbot/nlp_model1')"
   ]
  },
  {
   "cell_type": "markdown",
   "metadata": {},
   "source": [
    "# Model Testing"
   ]
  },
  {
   "cell_type": "markdown",
   "metadata": {},
   "source": [
    "First we should apply some text preprocessing on the pattern that is passed to the function. Next we convert the text to vector of numbers and give it to model for prediction its tag; Finally based on the tag, we choose a answer(response) randomly and return it."
   ]
  },
  {
   "cell_type": "code",
   "execution_count": 34,
   "metadata": {
    "execution": {
     "iopub.execute_input": "2023-03-23T15:39:43.760682Z",
     "iopub.status.busy": "2023-03-23T15:39:43.760300Z",
     "iopub.status.idle": "2023-03-23T15:39:43.771305Z",
     "shell.execute_reply": "2023-03-23T15:39:43.769922Z",
     "shell.execute_reply.started": "2023-03-23T15:39:43.760650Z"
    }
   },
   "outputs": [],
   "source": [
    "import re\n",
    "import random\n",
    "\n",
    "def generate_answer(pattern): \n",
    "    text = []\n",
    "    txt = re.sub('[^a-zA-Z\\']', ' ', pattern)\n",
    "    txt = txt.lower()\n",
    "    txt = txt.split()\n",
    "    txt = \" \".join(txt)\n",
    "    text.append(txt)\n",
    "        \n",
    "    x_test = tokenizer.texts_to_sequences(text)\n",
    "    x_test = np.array(x_test).squeeze()\n",
    "    x_test = pad_sequences([x_test], padding='post')\n",
    "    y_pred = model.predict(x_test)\n",
    "    y_pred = y_pred.argmax()\n",
    "    tag = lbl_enc.inverse_transform([y_pred])[0]\n",
    "    responses = df[df['tag'] == tag]['responses'].values[0]\n",
    "\n",
    "   # print(\"you: {}\".format(pattern))\n",
    "    #print(\"model: {}\".format(random.choice(responses)))\n",
    "    print(random.choice(responses))"
   ]
  },
  {
   "cell_type": "code",
   "execution_count": 75,
   "metadata": {
    "execution": {
     "iopub.execute_input": "2023-03-23T15:40:35.752216Z",
     "iopub.status.busy": "2023-03-23T15:40:35.751791Z",
     "iopub.status.idle": "2023-03-23T15:40:35.820785Z",
     "shell.execute_reply": "2023-03-23T15:40:35.819889Z",
     "shell.execute_reply.started": "2023-03-23T15:40:35.752180Z"
    }
   },
   "outputs": [
    {
     "ename": "ValueError",
     "evalue": "`sequences` must be a list of iterables. Found non-iterable: 210",
     "output_type": "error",
     "traceback": [
      "\u001b[1;31m---------------------------------------------------------------------------\u001b[0m",
      "\u001b[1;31mTypeError\u001b[0m                                 Traceback (most recent call last)",
      "File \u001b[1;32mD:\\python\\lib\\site-packages\\keras_preprocessing\\sequence.py:68\u001b[0m, in \u001b[0;36mpad_sequences\u001b[1;34m(sequences, maxlen, dtype, padding, truncating, value)\u001b[0m\n\u001b[0;32m     67\u001b[0m \u001b[38;5;28;01mtry\u001b[39;00m:\n\u001b[1;32m---> 68\u001b[0m     lengths\u001b[38;5;241m.\u001b[39mappend(\u001b[38;5;28;43mlen\u001b[39;49m\u001b[43m(\u001b[49m\u001b[43mx\u001b[49m\u001b[43m)\u001b[49m)\n\u001b[0;32m     69\u001b[0m     \u001b[38;5;28;01mif\u001b[39;00m flag \u001b[38;5;129;01mand\u001b[39;00m \u001b[38;5;28mlen\u001b[39m(x):\n",
      "\u001b[1;31mTypeError\u001b[0m: len() of unsized object",
      "\nDuring handling of the above exception, another exception occurred:\n",
      "\u001b[1;31mValueError\u001b[0m                                Traceback (most recent call last)",
      "Cell \u001b[1;32mIn[75], line 1\u001b[0m\n\u001b[1;32m----> 1\u001b[0m \u001b[43mgenerate_answer\u001b[49m\u001b[43m(\u001b[49m\u001b[38;5;124;43m'\u001b[39;49m\u001b[38;5;124;43mHello\u001b[39;49m\u001b[38;5;124;43m'\u001b[39;49m\u001b[43m)\u001b[49m\n",
      "Cell \u001b[1;32mIn[34], line 14\u001b[0m, in \u001b[0;36mgenerate_answer\u001b[1;34m(pattern)\u001b[0m\n\u001b[0;32m     12\u001b[0m x_test \u001b[38;5;241m=\u001b[39m tokenizer\u001b[38;5;241m.\u001b[39mtexts_to_sequences(text)\n\u001b[0;32m     13\u001b[0m x_test \u001b[38;5;241m=\u001b[39m np\u001b[38;5;241m.\u001b[39marray(x_test)\u001b[38;5;241m.\u001b[39msqueeze()\n\u001b[1;32m---> 14\u001b[0m x_test \u001b[38;5;241m=\u001b[39m \u001b[43mpad_sequences\u001b[49m\u001b[43m(\u001b[49m\u001b[43m[\u001b[49m\u001b[43mx_test\u001b[49m\u001b[43m]\u001b[49m\u001b[43m,\u001b[49m\u001b[43m \u001b[49m\u001b[43mpadding\u001b[49m\u001b[38;5;241;43m=\u001b[39;49m\u001b[38;5;124;43m'\u001b[39;49m\u001b[38;5;124;43mpost\u001b[39;49m\u001b[38;5;124;43m'\u001b[39;49m\u001b[43m,\u001b[49m\u001b[43m \u001b[49m\u001b[43mmaxlen\u001b[49m\u001b[38;5;241;43m=\u001b[39;49m\u001b[43mX\u001b[49m\u001b[38;5;241;43m.\u001b[39;49m\u001b[43mshape\u001b[49m\u001b[43m[\u001b[49m\u001b[38;5;241;43m1\u001b[39;49m\u001b[43m]\u001b[49m\u001b[43m)\u001b[49m\n\u001b[0;32m     15\u001b[0m y_pred \u001b[38;5;241m=\u001b[39m model\u001b[38;5;241m.\u001b[39mpredict(x_test)\n\u001b[0;32m     16\u001b[0m y_pred \u001b[38;5;241m=\u001b[39m y_pred\u001b[38;5;241m.\u001b[39margmax()\n",
      "File \u001b[1;32mD:\\python\\lib\\site-packages\\keras\\preprocessing\\sequence.py:152\u001b[0m, in \u001b[0;36mpad_sequences\u001b[1;34m(sequences, maxlen, dtype, padding, truncating, value)\u001b[0m\n\u001b[0;32m     88\u001b[0m \u001b[38;5;129m@keras_export\u001b[39m(\u001b[38;5;124m'\u001b[39m\u001b[38;5;124mkeras.preprocessing.sequence.pad_sequences\u001b[39m\u001b[38;5;124m'\u001b[39m)\n\u001b[0;32m     89\u001b[0m \u001b[38;5;28;01mdef\u001b[39;00m \u001b[38;5;21mpad_sequences\u001b[39m(sequences, maxlen\u001b[38;5;241m=\u001b[39m\u001b[38;5;28;01mNone\u001b[39;00m, dtype\u001b[38;5;241m=\u001b[39m\u001b[38;5;124m'\u001b[39m\u001b[38;5;124mint32\u001b[39m\u001b[38;5;124m'\u001b[39m,\n\u001b[0;32m     90\u001b[0m                   padding\u001b[38;5;241m=\u001b[39m\u001b[38;5;124m'\u001b[39m\u001b[38;5;124mpre\u001b[39m\u001b[38;5;124m'\u001b[39m, truncating\u001b[38;5;241m=\u001b[39m\u001b[38;5;124m'\u001b[39m\u001b[38;5;124mpre\u001b[39m\u001b[38;5;124m'\u001b[39m, value\u001b[38;5;241m=\u001b[39m\u001b[38;5;241m0.\u001b[39m):\n\u001b[0;32m     91\u001b[0m \u001b[38;5;250m  \u001b[39m\u001b[38;5;124;03m\"\"\"Pads sequences to the same length.\u001b[39;00m\n\u001b[0;32m     92\u001b[0m \n\u001b[0;32m     93\u001b[0m \u001b[38;5;124;03m  This function transforms a list (of length `num_samples`)\u001b[39;00m\n\u001b[1;32m   (...)\u001b[0m\n\u001b[0;32m    150\u001b[0m \u001b[38;5;124;03m          or in case of invalid shape for a `sequences` entry.\u001b[39;00m\n\u001b[0;32m    151\u001b[0m \u001b[38;5;124;03m  \"\"\"\u001b[39;00m\n\u001b[1;32m--> 152\u001b[0m   \u001b[38;5;28;01mreturn\u001b[39;00m \u001b[43msequence\u001b[49m\u001b[38;5;241;43m.\u001b[39;49m\u001b[43mpad_sequences\u001b[49m\u001b[43m(\u001b[49m\n\u001b[0;32m    153\u001b[0m \u001b[43m      \u001b[49m\u001b[43msequences\u001b[49m\u001b[43m,\u001b[49m\u001b[43m \u001b[49m\u001b[43mmaxlen\u001b[49m\u001b[38;5;241;43m=\u001b[39;49m\u001b[43mmaxlen\u001b[49m\u001b[43m,\u001b[49m\u001b[43m \u001b[49m\u001b[43mdtype\u001b[49m\u001b[38;5;241;43m=\u001b[39;49m\u001b[43mdtype\u001b[49m\u001b[43m,\u001b[49m\n\u001b[0;32m    154\u001b[0m \u001b[43m      \u001b[49m\u001b[43mpadding\u001b[49m\u001b[38;5;241;43m=\u001b[39;49m\u001b[43mpadding\u001b[49m\u001b[43m,\u001b[49m\u001b[43m \u001b[49m\u001b[43mtruncating\u001b[49m\u001b[38;5;241;43m=\u001b[39;49m\u001b[43mtruncating\u001b[49m\u001b[43m,\u001b[49m\u001b[43m \u001b[49m\u001b[43mvalue\u001b[49m\u001b[38;5;241;43m=\u001b[39;49m\u001b[43mvalue\u001b[49m\u001b[43m)\u001b[49m\n",
      "File \u001b[1;32mD:\\python\\lib\\site-packages\\keras_preprocessing\\sequence.py:73\u001b[0m, in \u001b[0;36mpad_sequences\u001b[1;34m(sequences, maxlen, dtype, padding, truncating, value)\u001b[0m\n\u001b[0;32m     71\u001b[0m             flag \u001b[38;5;241m=\u001b[39m \u001b[38;5;28;01mFalse\u001b[39;00m\n\u001b[0;32m     72\u001b[0m     \u001b[38;5;28;01mexcept\u001b[39;00m \u001b[38;5;167;01mTypeError\u001b[39;00m:\n\u001b[1;32m---> 73\u001b[0m         \u001b[38;5;28;01mraise\u001b[39;00m \u001b[38;5;167;01mValueError\u001b[39;00m(\u001b[38;5;124m'\u001b[39m\u001b[38;5;124m`sequences` must be a list of iterables. \u001b[39m\u001b[38;5;124m'\u001b[39m\n\u001b[0;32m     74\u001b[0m                          \u001b[38;5;124m'\u001b[39m\u001b[38;5;124mFound non-iterable: \u001b[39m\u001b[38;5;124m'\u001b[39m \u001b[38;5;241m+\u001b[39m \u001b[38;5;28mstr\u001b[39m(x))\n\u001b[0;32m     76\u001b[0m \u001b[38;5;28;01mif\u001b[39;00m maxlen \u001b[38;5;129;01mis\u001b[39;00m \u001b[38;5;28;01mNone\u001b[39;00m:\n\u001b[0;32m     77\u001b[0m     maxlen \u001b[38;5;241m=\u001b[39m np\u001b[38;5;241m.\u001b[39mmax(lengths)\n",
      "\u001b[1;31mValueError\u001b[0m: `sequences` must be a list of iterables. Found non-iterable: 210"
     ]
    }
   ],
   "source": [
    "generate_answer('Hello')"
   ]
  },
  {
   "cell_type": "code",
   "execution_count": 55,
   "metadata": {
    "execution": {
     "iopub.execute_input": "2023-03-23T15:40:53.437959Z",
     "iopub.status.busy": "2023-03-23T15:40:53.437542Z",
     "iopub.status.idle": "2023-03-23T15:40:53.506700Z",
     "shell.execute_reply": "2023-03-23T15:40:53.505448Z",
     "shell.execute_reply.started": "2023-03-23T15:40:53.437927Z"
    }
   },
   "outputs": [
    {
     "name": "stdout",
     "output_type": "stream",
     "text": [
      "This is momentary ,you will get over it soon.Now watch a good movie ,forget the world and probably eat an icecream!\n"
     ]
    }
   ],
   "source": [
    "generate_answer('I am sad!')"
   ]
  },
  {
   "cell_type": "code",
   "execution_count": 56,
   "metadata": {},
   "outputs": [
    {
     "name": "stdout",
     "output_type": "stream",
     "text": [
      " Something to remember about anxiety is that it's a useful and necessary response to stressors, and we all have a level of anxiety that falls somewhere on the spectrum from very slight to very overwhelming. Anxiety is our brain's way of prompting us to deal with the stress in our lives by getting us geared up for action.Some helpful ways of managing anxiety are actually very simple. The first I'd recommend is a calm breathing technique - breathe in for 4-5 seconds, and then out for 7-8 seconds. Try to repeat this for 3-5 minutes. Another suggestion is to pay closer attention in the moments you feel the physical symptoms of anxiety and see if you can describe - without judging - the sensations to yourself. Try to be very specific, such as 'my palms are feeling very sweaty, and I can feel the slight tightness and fluttering in my belly of the butterflies.'Then try to sit with these sensations without deciding if they are good or bad - just experiencing them as intentionally as possible. &nbsp;Combining the calm breathing with this technique can also be very helpful.&nbsp;If you feel that these techniques don't help and your anxiety about everyday stressors are inhibiting you from being able to engage in life the way you want to, then I'd highly recommend going for an assessment or even just consultation with a professional. This professional can help you determine if therapy/counseling would be helpful for you to develop additional skills for managing those interfering anxiety symptoms.\n"
     ]
    }
   ],
   "source": [
    "generate_answer('I am nervous')"
   ]
  },
  {
   "cell_type": "code",
   "execution_count": 57,
   "metadata": {
    "execution": {
     "iopub.execute_input": "2023-03-23T15:42:05.838140Z",
     "iopub.status.busy": "2023-03-23T15:42:05.836951Z",
     "iopub.status.idle": "2023-03-23T15:42:06.058119Z",
     "shell.execute_reply": "2023-03-23T15:42:06.056634Z",
     "shell.execute_reply.started": "2023-03-23T15:42:05.838097Z"
    }
   },
   "outputs": [
    {
     "name": "stdout",
     "output_type": "stream",
     "text": [
      "Great\n"
     ]
    }
   ],
   "source": [
    "generate_answer('I am kavipriya,an engineering graduate')"
   ]
  },
  {
   "cell_type": "code",
   "execution_count": 74,
   "metadata": {
    "scrolled": true
   },
   "outputs": [
    {
     "name": "stdout",
     "output_type": "stream",
     "text": [
      "I am sorry you are struggling!You maybe experiencing intrusive thoughts.These are thoughts that seem to come from no where and victimise us.I would recommend you to do things in a prioritised manner and drop some things if they are not that necessary,Its important to feel relaxed when you work!.\n"
     ]
    }
   ],
   "source": [
    "generate_answer('I have an important exam this week,I am nervous. ')"
   ]
  },
  {
   "cell_type": "code",
   "execution_count": 72,
   "metadata": {},
   "outputs": [
    {
     "name": "stdout",
     "output_type": "stream",
     "text": [
      "I suggest that you work on emotional awareness.Ã‚n Emotional awareness basically means knowing what you are feeling and why.Emotional awareness also means that you can identify the link between the way you are feeling and your actions. In other words knowing that your feelings dictate what you do.Often feelings of hurt or insecurity can come out as anger if we cannot properly identify and express the feelings.Being emotionally aware also means that you are able to express your feelings to others.  Being unable to do so leads to feelings of frustration and being misunderstood.Many people for many different reasons are not in touch with their emotions.  For example, men traditionally have been brought up taught to not express sadness or weakness.  Therefore, many men learned to turn feelings of sadness, insecurities, or fears into anger and express these feelings as anger.  Being taught not to feel a certain emotion does not make that emotion disappear.  Instead it makes us learn how to express it in other, incorrect, ways.  If a man never learns to say I am sad or that really hurts my feelings and instead lashes out in anger, then the response they get from those around them will be to the anger and not a response to the underlying true feeling, which will leave the man feeling alone and misunderstood.You can control yourself and not explode.  Walk away, remove yourself from the situation, do whatever you have to do to not lash out.  Instead of reacting the way you normally would, go somewhere by yourself and think about what just happened and try to understand why such a simple thing upset you.  What is the real feeling driving these outbursts?  Maybe you can begin to recognize an underlying pattern.It might help to keep an anger journal.  Write down everything that gets you upset.  That might help you see a pattern and pinpoint what may be setting you off.  Talking with a therapist about this would be beneficial in helping pinpoint the underlying cause of the outbursts you are experience\n"
     ]
    }
   ],
   "source": [
    "generate_answer('I get very angry with brother,I am rude to him always,I realised I need to change')"
   ]
  },
  {
   "cell_type": "code",
   "execution_count": 61,
   "metadata": {},
   "outputs": [
    {
     "name": "stdout",
     "output_type": "stream",
     "text": [
      "Hatred is a common feeling.But if this is iterating feeling every day,you need to certainly change!.When there are a lot of things you can't change ,you can change your views on them.There is always 2 sides to a coin,so think positively and treat everything with a calm and loving mind.\n"
     ]
    }
   ],
   "source": [
    "generate_answer('I hate you')"
   ]
  },
  {
   "cell_type": "code",
   "execution_count": 62,
   "metadata": {},
   "outputs": [
    {
     "name": "stdout",
     "output_type": "stream",
     "text": [
      "I see. Exams are just an estimation of your knowledge,its nothing to get scared of,there are more things in life that you might see and get scared!.Prepare well,ensure proper scheduling time and you are good to go!.\n"
     ]
    }
   ],
   "source": [
    "generate_answer('I have exams coming up right now')"
   ]
  },
  {
   "cell_type": "code",
   "execution_count": 63,
   "metadata": {},
   "outputs": [
    {
     "name": "stdout",
     "output_type": "stream",
     "text": [
      "Anyone who wants to change their life path, eventually will be successful in this.How to stop addiction involves a few steps, most of them time consuming, with slow progress and very often with tremendous emotional pain.The basic path is to figure out what motivates you to drink too much or be addicted to weed.Almost always, addictions are rooted in the person having suffered feeling deeply ignored, humiliated, shamed, invisible, nothing very pleasant, since a very young age, usually starting around 18 months.Most often addicts are sensitive people who have been emotionally overburdened by the grownups in their family.With no outlet for emotional expression or nurturing, the frustration goes inward until the emotional pain feels very big and without an outlet.So, people mask and numb by substances, whether this is food, chocolate, work, alcohol, weed.Therapy that is humanistic based, is a better fit than one which is drug oriented and diagnosis oriented.If you'd like getting serious about knowing who you are, including any unfair treatment of you during your growing up years, you can do this.Once you have a stronger self-respect and awareness, you would naturally avoid substances because they harm people. &nbsp;Harming oneself is the opposite of self-respect.<br>Also, about your diagnosis, it may not be true at all.The US healthcare system loves selling drugs to people and clinicians in agencies and clinics are encouraged to find something wrong with people in order to find a new customer who will take drugs.See if you can find a therapist who is independent minded, and therefore free to interact therapeutically with you as a human being, not as a potential customer if they are able to label you as having something'wrong'.This simply continues the long line of being shamed by others that created the addiction problem in the first place.Good luck!\n"
     ]
    }
   ],
   "source": [
    "generate_answer('I am addicted to smoking,how do I get rid of this addiction? ')"
   ]
  },
  {
   "cell_type": "code",
   "execution_count": 64,
   "metadata": {},
   "outputs": [
    {
     "name": "stdout",
     "output_type": "stream",
     "text": [
      "I suggest that you work on emotional awareness.Ã‚n Emotional awareness basically means knowing what you are feeling and why.Emotional awareness also means that you can identify the link between the way you are feeling and your actions. In other words knowing that your feelings dictate what you do.Often feelings of hurt or insecurity can come out as anger if we cannot properly identify and express the feelings.Being emotionally aware also means that you are able to express your feelings to others.  Being unable to do so leads to feelings of frustration and being misunderstood.Many people for many different reasons are not in touch with their emotions.  For example, men traditionally have been brought up taught to not express sadness or weakness.  Therefore, many men learned to turn feelings of sadness, insecurities, or fears into anger and express these feelings as anger.  Being taught not to feel a certain emotion does not make that emotion disappear.  Instead it makes us learn how to express it in other, incorrect, ways.  If a man never learns to say I am sad or that really hurts my feelings and instead lashes out in anger, then the response they get from those around them will be to the anger and not a response to the underlying true feeling, which will leave the man feeling alone and misunderstood.You can control yourself and not explode.  Walk away, remove yourself from the situation, do whatever you have to do to not lash out.  Instead of reacting the way you normally would, go somewhere by yourself and think about what just happened and try to understand why such a simple thing upset you.  What is the real feeling driving these outbursts?  Maybe you can begin to recognize an underlying pattern.It might help to keep an anger journal.  Write down everything that gets you upset.  That might help you see a pattern and pinpoint what may be setting you off.  Talking with a therapist about this would be beneficial in helping pinpoint the underlying cause of the outbursts you are experience\n"
     ]
    }
   ],
   "source": [
    "generate_answer('I have anger issues how do I change it')"
   ]
  },
  {
   "cell_type": "code",
   "execution_count": 65,
   "metadata": {},
   "outputs": [
    {
     "name": "stdout",
     "output_type": "stream",
     "text": [
      "I suggest that you work on emotional awareness.Ã‚n Emotional awareness basically means knowing what you are feeling and why.Emotional awareness also means that you can identify the link between the way you are feeling and your actions. In other words knowing that your feelings dictate what you do.Often feelings of hurt or insecurity can come out as anger if we cannot properly identify and express the feelings.Being emotionally aware also means that you are able to express your feelings to others.  Being unable to do so leads to feelings of frustration and being misunderstood.Many people for many different reasons are not in touch with their emotions.  For example, men traditionally have been brought up taught to not express sadness or weakness.  Therefore, many men learned to turn feelings of sadness, insecurities, or fears into anger and express these feelings as anger.  Being taught not to feel a certain emotion does not make that emotion disappear.  Instead it makes us learn how to express it in other, incorrect, ways.  If a man never learns to say I am sad or that really hurts my feelings and instead lashes out in anger, then the response they get from those around them will be to the anger and not a response to the underlying true feeling, which will leave the man feeling alone and misunderstood.You can control yourself and not explode.  Walk away, remove yourself from the situation, do whatever you have to do to not lash out.  Instead of reacting the way you normally would, go somewhere by yourself and think about what just happened and try to understand why such a simple thing upset you.  What is the real feeling driving these outbursts?  Maybe you can begin to recognize an underlying pattern.It might help to keep an anger journal.  Write down everything that gets you upset.  That might help you see a pattern and pinpoint what may be setting you off.  Talking with a therapist about this would be beneficial in helping pinpoint the underlying cause of the outbursts you are experience\n"
     ]
    }
   ],
   "source": [
    "generate_answer('I get so angry easily,everything is irritating to me,how do i change?')"
   ]
  },
  {
   "cell_type": "code",
   "execution_count": 70,
   "metadata": {},
   "outputs": [
    {
     "name": "stdout",
     "output_type": "stream",
     "text": [
      "This is momentary ,you will get over it soon.Now watch a good movie ,forget the world and probably eat an icecream!\n"
     ]
    }
   ],
   "source": [
    "generate_answer('I am really sad today ')"
   ]
  },
  {
   "cell_type": "code",
   "execution_count": 54,
   "metadata": {},
   "outputs": [
    {
     "ename": "SyntaxError",
     "evalue": "invalid syntax (2729382544.py, line 11)",
     "output_type": "error",
     "traceback": [
      "\u001b[1;36m  Cell \u001b[1;32mIn[54], line 11\u001b[1;36m\u001b[0m\n\u001b[1;33m    from tensorflow.keras.preprocessing.\u001b[0m\n\u001b[1;37m                                        ^\u001b[0m\n\u001b[1;31mSyntaxError\u001b[0m\u001b[1;31m:\u001b[0m invalid syntax\n"
     ]
    }
   ],
   "source": [
    "import sys\n",
    "import pandas as pd\n",
    "import json\n",
    "import pickle\n",
    "import sys\n",
    "import tensorflow as tf\n",
    "from flask_cors import CORS\n",
    "from flask import Flask, request, jsonify\n",
    "import tokenize\n",
    "from sklearn.preprocessing import LabelEncoder\n",
    "from tensorflow.keras.preprocessing."
   ]
  },
  {
   "cell_type": "code",
   "execution_count": null,
   "metadata": {},
   "outputs": [],
   "source": [
    "model.summary()"
   ]
  },
  {
   "cell_type": "code",
   "execution_count": null,
   "metadata": {},
   "outputs": [],
   "source": [
    "def nlp_model(pattern):\n",
    "    text = []\n",
    "    txt = re.sub('[^a-zA-Z\\']', ' ', pattern)\n",
    "    txt = txt.lower()\n",
    "    txt = txt.split()\n",
    "    txt = \" \".join(txt)\n",
    "    text.append(txt)\n",
    "        \n",
    "    x_test = tokenizer.texts_to_sequences(text)\n",
    "    x_test = np.array(x_test).squeeze()\n",
    "    x_test = pad_sequences([x_test], padding='post', maxlen=X.shape[1])\n",
    "    y_pred = model.predict(x_test)\n",
    "    y_pred = y_pred.argmax()\n",
    "    tag = lbl_enc.inverse_transform([y_pred])[0]\n",
    "    responses = df[df['tag'] == tag]['responses'].values[0]\n",
    "\n",
    "   # print(\"you: {}\".format(pattern))\n",
    "    #print(\"model: {}\".format(random.choice(responses)))\n",
    "   \n",
    "    return {'prediction': random.choice(responses)}\n"
   ]
  },
  {
   "cell_type": "code",
   "execution_count": null,
   "metadata": {},
   "outputs": [],
   "source": [
    "nlp_model('Hi there')"
   ]
  },
  {
   "cell_type": "code",
   "execution_count": null,
   "metadata": {},
   "outputs": [],
   "source": [
    "import pandas as pd\n",
    "import json\n",
    "import tensorflow as tf\n",
    "from flask_cors import CORS\n",
    "from flask import Flask, request, jsonify\n",
    "from keras.preprocessing.text import Tokenizer\n",
    "from sklearn.preprocessing import LabelEncoder\n",
    "from tensorflow.keras.preprocessing.sequence import pad_sequences\n",
    "import numpy as np\n",
    "import re\n",
    "import random\n",
    "import os\n",
    "os.environ['CUDA_VISIBLE_DEVICES'] = '-1'\n",
    "with open('C:\\\\Users\\\\Kavi priya\\\\Desktop\\\\mental_health_chatbot\\\\intents.json', 'r') as f:\n",
    "    data = json.load(f)\n",
    "\n",
    "df = pd.DataFrame(data['intents'])\n",
    "dic = {\"tag\": [], \"patterns\": [], \"responses\": []}\n",
    "for i in range(len(df)):\n",
    "    ptrns = df[df.index == i]['patterns'].values[0]\n",
    "    rspns = df[df.index == i]['responses'].values[0]\n",
    "    tag = df[df.index == i]['tag'].values[0]\n",
    "    for j in range(len(ptrns)):\n",
    "        dic['tag'].append(tag)\n",
    "        dic['patterns'].append(ptrns[j])\n",
    "        dic['responses'].append(rspns)\n",
    "\n",
    "df = pd.DataFrame.from_dict(dic)\n",
    "tokenizer = Tokenizer(lower=True, split=' ')\n",
    "tokenizer.fit_on_texts(df['patterns'])\n",
    "ptrn2seq = tokenizer.texts_to_sequences(df['patterns'])\n",
    "X = pad_sequences(ptrn2seq, padding='post')\n",
    "lbl_enc = LabelEncoder()\n",
    "y = lbl_enc.fit_transform(df['tag'])\n",
    "model = tf.keras.models.load_model('nlp_model1')\n",
    "\n",
    "# Define a route for your NLP model's endpoint that accepts a POST request with a JSON payload\n",
    "\n",
    "\n",
    "\n"
   ]
  },
  {
   "cell_type": "code",
   "execution_count": null,
   "metadata": {},
   "outputs": [],
   "source": [
    "def nlp_model(pattern):\n",
    "    text = []\n",
    "    txt = re.sub('[^a-zA-Z\\']', ' ', pattern)\n",
    "    txt = txt.lower()\n",
    "    txt = txt.split()\n",
    "    txt = \" \".join(txt)\n",
    "    text.append(txt)\n",
    "\n",
    "    x_test = tokenizer.texts_to_sequences(text)\n",
    "    x_test = np.array(x_test).squeeze()\n",
    "    x_test = pad_sequences([x_test], padding='post', maxlen=18)\n",
    "    y_pred = model.predict(x_test)\n",
    "    y_pred = y_pred.argmax()\n",
    "    tag = lbl_enc.inverse_transform([y_pred])[0]\n",
    "    responses = df[df['tag'] == tag]['responses'].values[0]\n",
    "\n",
    "   # print(\"you: {}\".format(pattern))\n",
    "    # print(\"model: {}\".format(random.choice(responses)))\n",
    "\n",
    "    return {'prediction': random.choice(responses)}\n"
   ]
  },
  {
   "cell_type": "code",
   "execution_count": null,
   "metadata": {
    "scrolled": true
   },
   "outputs": [],
   "source": [
    "nlp_model('Hi there')"
   ]
  },
  {
   "cell_type": "code",
   "execution_count": null,
   "metadata": {},
   "outputs": [],
   "source": [
    "nlp_model('I am sad')"
   ]
  },
  {
   "cell_type": "code",
   "execution_count": null,
   "metadata": {},
   "outputs": [],
   "source": [
    "nlp_model('I got low marks in exam')"
   ]
  },
  {
   "cell_type": "code",
   "execution_count": null,
   "metadata": {},
   "outputs": [],
   "source": []
  }
 ],
 "metadata": {
  "kernelspec": {
   "display_name": "Python 3 (ipykernel)",
   "language": "python",
   "name": "python3"
  },
  "language_info": {
   "codemirror_mode": {
    "name": "ipython",
    "version": 3
   },
   "file_extension": ".py",
   "mimetype": "text/x-python",
   "name": "python",
   "nbconvert_exporter": "python",
   "pygments_lexer": "ipython3",
   "version": "3.10.10"
  }
 },
 "nbformat": 4,
 "nbformat_minor": 4
}
