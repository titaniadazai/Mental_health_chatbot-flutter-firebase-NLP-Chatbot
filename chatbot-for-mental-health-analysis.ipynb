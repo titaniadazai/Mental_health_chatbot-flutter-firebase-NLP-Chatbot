{
 "cells": [
  {
   "cell_type": "code",
   "execution_count": 1,
   "metadata": {
    "_cell_guid": "b1076dfc-b9ad-4769-8c92-a6c4dae69d19",
    "_uuid": "8f2839f25d086af736a60e9eeb907d3b93b6e0e5",
    "execution": {
     "iopub.execute_input": "2023-03-23T15:36:24.360099Z",
     "iopub.status.busy": "2023-03-23T15:36:24.359171Z",
     "iopub.status.idle": "2023-03-23T15:36:24.393318Z",
     "shell.execute_reply": "2023-03-23T15:36:24.392098Z",
     "shell.execute_reply.started": "2023-03-23T15:36:24.360002Z"
    },
    "jupyter": {
     "source_hidden": true
    }
   },
   "outputs": [],
   "source": [
    "\n",
    "\n",
    "import numpy as np # linear algebra\n",
    "import pandas as pd # data processing, CSV file I/O (e.g. pd.read_csv)\n",
    "\n"
   ]
  },
  {
   "cell_type": "markdown",
   "metadata": {},
   "source": [
    "# Data Reading"
   ]
  },
  {
   "cell_type": "markdown",
   "metadata": {},
   "source": []
  },
  {
   "cell_type": "markdown",
   "metadata": {},
   "source": [
    "Data is in json format; so it's better to convert it to a Pandas data frame format."
   ]
  },
  {
   "cell_type": "code",
   "execution_count": 2,
   "metadata": {
    "execution": {
     "iopub.execute_input": "2023-03-23T15:37:55.800998Z",
     "iopub.status.busy": "2023-03-23T15:37:55.800554Z",
     "iopub.status.idle": "2023-03-23T15:37:55.843578Z",
     "shell.execute_reply": "2023-03-23T15:37:55.842450Z",
     "shell.execute_reply.started": "2023-03-23T15:37:55.800964Z"
    }
   },
   "outputs": [
    {
     "data": {
      "text/html": [
       "<div>\n",
       "<style scoped>\n",
       "    .dataframe tbody tr th:only-of-type {\n",
       "        vertical-align: middle;\n",
       "    }\n",
       "\n",
       "    .dataframe tbody tr th {\n",
       "        vertical-align: top;\n",
       "    }\n",
       "\n",
       "    .dataframe thead th {\n",
       "        text-align: right;\n",
       "    }\n",
       "</style>\n",
       "<table border=\"1\" class=\"dataframe\">\n",
       "  <thead>\n",
       "    <tr style=\"text-align: right;\">\n",
       "      <th></th>\n",
       "      <th>tag</th>\n",
       "      <th>patterns</th>\n",
       "      <th>responses</th>\n",
       "    </tr>\n",
       "  </thead>\n",
       "  <tbody>\n",
       "    <tr>\n",
       "      <th>0</th>\n",
       "      <td>greeting</td>\n",
       "      <td>[Hi, Hey, Is anyone there?, Hi there, Hello, H...</td>\n",
       "      <td>[Hello there. Tell me how are you feeling toda...</td>\n",
       "    </tr>\n",
       "    <tr>\n",
       "      <th>1</th>\n",
       "      <td>morning</td>\n",
       "      <td>[Good morning]</td>\n",
       "      <td>[Good morning. I hope you had a good night's s...</td>\n",
       "    </tr>\n",
       "    <tr>\n",
       "      <th>2</th>\n",
       "      <td>afternoon</td>\n",
       "      <td>[Good afternoon]</td>\n",
       "      <td>[Good afternoon. How is your day going?]</td>\n",
       "    </tr>\n",
       "    <tr>\n",
       "      <th>3</th>\n",
       "      <td>evening</td>\n",
       "      <td>[Good evening]</td>\n",
       "      <td>[Good evening. How has your day been?]</td>\n",
       "    </tr>\n",
       "    <tr>\n",
       "      <th>4</th>\n",
       "      <td>night</td>\n",
       "      <td>[Good night]</td>\n",
       "      <td>[How has your day been?, Good night. Get some ...</td>\n",
       "    </tr>\n",
       "    <tr>\n",
       "      <th>...</th>\n",
       "      <td>...</td>\n",
       "      <td>...</td>\n",
       "      <td>...</td>\n",
       "    </tr>\n",
       "    <tr>\n",
       "      <th>67</th>\n",
       "      <td>fact-26</td>\n",
       "      <td>[What do I do if I'm worried about my mental h...</td>\n",
       "      <td>[The most important thing is to talk to someon...</td>\n",
       "    </tr>\n",
       "    <tr>\n",
       "      <th>68</th>\n",
       "      <td>fact-27</td>\n",
       "      <td>[How do I know if I'm unwell?]</td>\n",
       "      <td>[If your beliefs , thoughts , feelings or beha...</td>\n",
       "    </tr>\n",
       "    <tr>\n",
       "      <th>69</th>\n",
       "      <td>fact-28</td>\n",
       "      <td>[How can I maintain social connections? What i...</td>\n",
       "      <td>[A lot of people are alone right now, but we d...</td>\n",
       "    </tr>\n",
       "    <tr>\n",
       "      <th>70</th>\n",
       "      <td>fact-29</td>\n",
       "      <td>[What's the difference between anxiety and str...</td>\n",
       "      <td>[Stress and anxiety are often used interchange...</td>\n",
       "    </tr>\n",
       "    <tr>\n",
       "      <th>71</th>\n",
       "      <td>fact-30</td>\n",
       "      <td>[What's the difference between sadness and dep...</td>\n",
       "      <td>[Sadness is a normal reaction to a loss, disap...</td>\n",
       "    </tr>\n",
       "  </tbody>\n",
       "</table>\n",
       "<p>72 rows × 3 columns</p>\n",
       "</div>"
      ],
      "text/plain": [
       "          tag                                           patterns  \\\n",
       "0    greeting  [Hi, Hey, Is anyone there?, Hi there, Hello, H...   \n",
       "1     morning                                     [Good morning]   \n",
       "2   afternoon                                   [Good afternoon]   \n",
       "3     evening                                     [Good evening]   \n",
       "4       night                                       [Good night]   \n",
       "..        ...                                                ...   \n",
       "67    fact-26  [What do I do if I'm worried about my mental h...   \n",
       "68    fact-27                     [How do I know if I'm unwell?]   \n",
       "69    fact-28  [How can I maintain social connections? What i...   \n",
       "70    fact-29  [What's the difference between anxiety and str...   \n",
       "71    fact-30  [What's the difference between sadness and dep...   \n",
       "\n",
       "                                            responses  \n",
       "0   [Hello there. Tell me how are you feeling toda...  \n",
       "1   [Good morning. I hope you had a good night's s...  \n",
       "2            [Good afternoon. How is your day going?]  \n",
       "3              [Good evening. How has your day been?]  \n",
       "4   [How has your day been?, Good night. Get some ...  \n",
       "..                                                ...  \n",
       "67  [The most important thing is to talk to someon...  \n",
       "68  [If your beliefs , thoughts , feelings or beha...  \n",
       "69  [A lot of people are alone right now, but we d...  \n",
       "70  [Stress and anxiety are often used interchange...  \n",
       "71  [Sadness is a normal reaction to a loss, disap...  \n",
       "\n",
       "[72 rows x 3 columns]"
      ]
     },
     "execution_count": 2,
     "metadata": {},
     "output_type": "execute_result"
    }
   ],
   "source": [
    "import json\n",
    "\n",
    "with open('C:\\\\Users\\\\Kavi priya\\\\Desktop\\\\mental_health_chatbot\\\\intents.json', 'r') as f:\n",
    "    data = json.load(f)\n",
    "\n",
    "df = pd.DataFrame(data['intents'])\n",
    "df"
   ]
  },
  {
   "cell_type": "markdown",
   "metadata": {},
   "source": [
    "Each tag contains several questions(patterns) and several answers(responses); Now I want to seperate these patterns based on their tags and responses and finally convert them to a DataFrame."
   ]
  },
  {
   "cell_type": "code",
   "execution_count": 16,
   "metadata": {
    "execution": {
     "iopub.execute_input": "2023-03-23T15:38:04.708242Z",
     "iopub.status.busy": "2023-03-23T15:38:04.707814Z",
     "iopub.status.idle": "2023-03-23T15:38:04.835279Z",
     "shell.execute_reply": "2023-03-23T15:38:04.833691Z",
     "shell.execute_reply.started": "2023-03-23T15:38:04.708206Z"
    }
   },
   "outputs": [
    {
     "data": {
      "text/html": [
       "<div>\n",
       "<style scoped>\n",
       "    .dataframe tbody tr th:only-of-type {\n",
       "        vertical-align: middle;\n",
       "    }\n",
       "\n",
       "    .dataframe tbody tr th {\n",
       "        vertical-align: top;\n",
       "    }\n",
       "\n",
       "    .dataframe thead th {\n",
       "        text-align: right;\n",
       "    }\n",
       "</style>\n",
       "<table border=\"1\" class=\"dataframe\">\n",
       "  <thead>\n",
       "    <tr style=\"text-align: right;\">\n",
       "      <th></th>\n",
       "      <th>tag</th>\n",
       "      <th>patterns</th>\n",
       "      <th>responses</th>\n",
       "    </tr>\n",
       "  </thead>\n",
       "  <tbody>\n",
       "    <tr>\n",
       "      <th>0</th>\n",
       "      <td>greeting</td>\n",
       "      <td>Hi</td>\n",
       "      <td>[Hello there. Tell me how are you feeling toda...</td>\n",
       "    </tr>\n",
       "    <tr>\n",
       "      <th>1</th>\n",
       "      <td>greeting</td>\n",
       "      <td>Hey</td>\n",
       "      <td>[Hello there. Tell me how are you feeling toda...</td>\n",
       "    </tr>\n",
       "    <tr>\n",
       "      <th>2</th>\n",
       "      <td>greeting</td>\n",
       "      <td>Is anyone there?</td>\n",
       "      <td>[Hello there. Tell me how are you feeling toda...</td>\n",
       "    </tr>\n",
       "    <tr>\n",
       "      <th>3</th>\n",
       "      <td>greeting</td>\n",
       "      <td>Hi there</td>\n",
       "      <td>[Hello there. Tell me how are you feeling toda...</td>\n",
       "    </tr>\n",
       "    <tr>\n",
       "      <th>4</th>\n",
       "      <td>greeting</td>\n",
       "      <td>Hello</td>\n",
       "      <td>[Hello there. Tell me how are you feeling toda...</td>\n",
       "    </tr>\n",
       "    <tr>\n",
       "      <th>...</th>\n",
       "      <td>...</td>\n",
       "      <td>...</td>\n",
       "      <td>...</td>\n",
       "    </tr>\n",
       "    <tr>\n",
       "      <th>241</th>\n",
       "      <td>fact-28</td>\n",
       "      <td>How can I maintain social connections? What if...</td>\n",
       "      <td>[A lot of people are alone right now, but we d...</td>\n",
       "    </tr>\n",
       "    <tr>\n",
       "      <th>242</th>\n",
       "      <td>fact-29</td>\n",
       "      <td>What's the difference between anxiety and stress?</td>\n",
       "      <td>[Stress and anxiety are often used interchange...</td>\n",
       "    </tr>\n",
       "    <tr>\n",
       "      <th>243</th>\n",
       "      <td>fact-30</td>\n",
       "      <td>What's the difference between sadness and depr...</td>\n",
       "      <td>[Sadness is a normal reaction to a loss, disap...</td>\n",
       "    </tr>\n",
       "    <tr>\n",
       "      <th>244</th>\n",
       "      <td>fact-30</td>\n",
       "      <td>difference between sadness and depression</td>\n",
       "      <td>[Sadness is a normal reaction to a loss, disap...</td>\n",
       "    </tr>\n",
       "    <tr>\n",
       "      <th>245</th>\n",
       "      <td>fact-30</td>\n",
       "      <td>difference between being sad and being depressed</td>\n",
       "      <td>[Sadness is a normal reaction to a loss, disap...</td>\n",
       "    </tr>\n",
       "  </tbody>\n",
       "</table>\n",
       "<p>246 rows × 3 columns</p>\n",
       "</div>"
      ],
      "text/plain": [
       "          tag                                           patterns  \\\n",
       "0    greeting                                                 Hi   \n",
       "1    greeting                                                Hey   \n",
       "2    greeting                                   Is anyone there?   \n",
       "3    greeting                                           Hi there   \n",
       "4    greeting                                              Hello   \n",
       "..        ...                                                ...   \n",
       "241   fact-28  How can I maintain social connections? What if...   \n",
       "242   fact-29  What's the difference between anxiety and stress?   \n",
       "243   fact-30  What's the difference between sadness and depr...   \n",
       "244   fact-30          difference between sadness and depression   \n",
       "245   fact-30   difference between being sad and being depressed   \n",
       "\n",
       "                                             responses  \n",
       "0    [Hello there. Tell me how are you feeling toda...  \n",
       "1    [Hello there. Tell me how are you feeling toda...  \n",
       "2    [Hello there. Tell me how are you feeling toda...  \n",
       "3    [Hello there. Tell me how are you feeling toda...  \n",
       "4    [Hello there. Tell me how are you feeling toda...  \n",
       "..                                                 ...  \n",
       "241  [A lot of people are alone right now, but we d...  \n",
       "242  [Stress and anxiety are often used interchange...  \n",
       "243  [Sadness is a normal reaction to a loss, disap...  \n",
       "244  [Sadness is a normal reaction to a loss, disap...  \n",
       "245  [Sadness is a normal reaction to a loss, disap...  \n",
       "\n",
       "[246 rows x 3 columns]"
      ]
     },
     "execution_count": 16,
     "metadata": {},
     "output_type": "execute_result"
    }
   ],
   "source": [
    "dic = {\"tag\":[], \"patterns\":[], \"responses\":[]}\n",
    "for i in range(len(df)):\n",
    "    ptrns = df[df.index == i]['patterns'].values[0]\n",
    "    rspns = df[df.index == i]['responses'].values[0]\n",
    "    tag = df[df.index == i]['tag'].values[0]\n",
    "    for j in range(len(ptrns)):\n",
    "        dic['tag'].append(tag)\n",
    "        dic['patterns'].append(ptrns[j])\n",
    "        dic['responses'].append(rspns)\n",
    "        \n",
    "df = pd.DataFrame.from_dict(dic)\n",
    "df"
   ]
  },
  {
   "cell_type": "code",
   "execution_count": 17,
   "metadata": {
    "execution": {
     "iopub.execute_input": "2023-03-23T15:38:10.990439Z",
     "iopub.status.busy": "2023-03-23T15:38:10.989981Z",
     "iopub.status.idle": "2023-03-23T15:38:11.002495Z",
     "shell.execute_reply": "2023-03-23T15:38:11.001267Z",
     "shell.execute_reply.started": "2023-03-23T15:38:10.990392Z"
    }
   },
   "outputs": [
    {
     "data": {
      "text/plain": [
       "array(['greeting', 'morning', 'afternoon', 'evening', 'night', 'goodbye',\n",
       "       'thanks', 'about', 'name', 'description', 'confidence', 'help',\n",
       "       'lonely', 'sad', 'stressed', 'worthless', 'looks', 'depressed',\n",
       "       'Anger Management', 'happy', 'anxious', 'anxiety_attacks',\n",
       "       'anxious_deadlines', 'Marriage_connection', 'trouble_with_child',\n",
       "       'not-talking', 'sleep', 'Addiction', 'death', 'done', 'suicide',\n",
       "       'hate', 'default', 'wrong', 'stupid', 'something-else', 'friends',\n",
       "       'ask', 'exams', 'communication', 'user-agree', 'user-meditation',\n",
       "       'mental-health-fact', 'fact-2', 'fact-3', 'fact-4', 'fact-5',\n",
       "       'fact-6', 'fact-7', 'fact-8', 'fact-9', 'fact-10', 'fact-11',\n",
       "       'fact-12', 'fact-13', 'fact-14', 'fact-15', 'fact-16', 'fact-17',\n",
       "       'fact-18', 'fact-19', 'fact-20', 'fact-21', 'fact-22', 'fact-23',\n",
       "       'fact-24', 'fact-25', 'fact-26', 'fact-27', 'fact-28', 'fact-29',\n",
       "       'fact-30'], dtype=object)"
      ]
     },
     "execution_count": 17,
     "metadata": {},
     "output_type": "execute_result"
    }
   ],
   "source": [
    "df['tag'].unique()"
   ]
  },
  {
   "cell_type": "markdown",
   "metadata": {},
   "source": [
    "# Data Preprocessing"
   ]
  },
  {
   "cell_type": "markdown",
   "metadata": {},
   "source": [
    "Now I am going to apply some text preprocessing stuffs such as lowering, punctuation removing and then tokenize the patterns."
   ]
  },
  {
   "cell_type": "code",
   "execution_count": 18,
   "metadata": {
    "execution": {
     "iopub.execute_input": "2023-03-23T15:38:16.728819Z",
     "iopub.status.busy": "2023-03-23T15:38:16.728434Z",
     "iopub.status.idle": "2023-03-23T15:38:23.566074Z",
     "shell.execute_reply": "2023-03-23T15:38:23.564822Z",
     "shell.execute_reply.started": "2023-03-23T15:38:16.728788Z"
    }
   },
   "outputs": [
    {
     "data": {
      "text/plain": [
       "{'num_words': None,\n",
       " 'filters': '!\"#$%&()*+,-./:;<=>?@[\\\\]^_`{|}~\\t\\n',\n",
       " 'lower': True,\n",
       " 'split': ' ',\n",
       " 'char_level': False,\n",
       " 'oov_token': None,\n",
       " 'document_count': 246,\n",
       " 'word_counts': '{\"hi\": 2, \"hey\": 2, \"is\": 25, \"anyone\": 2, \"there\": 7, \"hello\": 1, \"howdy\": 1, \"hola\": 2, \"bonjour\": 1, \"konnichiwa\": 1, \"guten\": 1, \"tag\": 1, \"good\": 10, \"morning\": 1, \"afternoon\": 1, \"evening\": 1, \"night\": 1, \"bye\": 3, \"see\": 2, \"you\": 20, \"later\": 1, \"goodbye\": 1, \"au\": 1, \"revoir\": 1, \"sayonara\": 1, \"ok\": 2, \"then\": 1, \"fare\": 1, \"thee\": 1, \"well\": 3, \"thanks\": 2, \"thank\": 2, \"that\\'s\": 3, \"helpful\": 1, \"for\": 16, \"the\": 20, \"help\": 7, \"than\": 1, \"very\": 9, \"much\": 6, \"who\": 5, \"are\": 15, \"what\": 27, \"tell\": 6, \"me\": 31, \"more\": 2, \"about\": 23, \"yourself\": 2, \"your\": 2, \"name\": 4, \"should\": 5, \"i\": 196, \"call\": 1, \"what\\'s\": 3, \"my\": 45, \"am\": 50, \"go\": 4, \"by\": 1, \"working\": 2, \"as\": 4, \"an\": 3, \"engineer\": 1, \"live\": 3, \"in\": 13, \"chennai\": 1, \"a\": 33, \"student\": 1, \"studying\": 1, \"medicine\": 1, \"san\": 1, \"fransico\": 1, \"engineering\": 3, \"graduate\": 1, \"searching\": 1, \"job\": 1, \"professional\": 3, \"professor\": 1, \"college\": 2, \"have\": 36, \"2\": 1, \"children\": 2, \"how\": 14, \"do\": 21, \"become\": 5, \"confident\": 1, \"need\": 6, \"to\": 50, \"gain\": 1, \"confidence\": 2, \"and\": 44, \"bold\": 1, \"social\": 2, \"situations\": 1, \"lack\": 1, \"courage\": 1, \"talk\": 10, \"up\": 5, \"coworkers\": 1, \"when\": 4, \"want\": 12, \"defend\": 1, \"situation\": 1, \"improvise\": 1, \"better\": 6, \"version\": 1, \"of\": 22, \"myself\": 10, \"could\": 4, \"can\": 19, \"support\": 3, \"please\": 1, \"come\": 1, \"far\": 1, \"away\": 6, \"from\": 4, \"home\": 2, \"alone\": 4, \"feeling\": 5, \"lonely\": 4, \"don\\'t\": 19, \"around\": 2, \"so\": 11, \"feel\": 27, \"like\": 10, \"this\": 14, \"world\": 3, \"i\\'m\": 16, \"trying\": 1, \"convince\": 1, \"that\": 14, \"okay\": 1, \"not\": 12, \"always\": 1, \"blocking\": 1, \"out\": 5, \"bad\": 3, \"things\": 4, \"forgetting\": 1, \"also\": 2, \"nobody\": 1, \"cares\": 1, \"they\": 1, \"never\": 1, \"will\": 2, \"truly\": 1, \"no\": 11, \"one\": 6, \"here\": 3, \"sad\": 4, \"know\": 9, \"why\": 3, \"since\": 3, \"let\": 1, \"friend\": 2, \"down\": 1, \"late\": 1, \"20s\": 1, \"two\": 1, \"jobs\": 1, \"right\": 7, \"now\": 4, \"school\": 2, \"just\": 6, \"lot\": 8, \"under\": 1, \"belt\": 1, \"get\": 7, \"stressed\": 6, \"really\": 1, \"easily\": 3, \"tend\": 1, \"worry\": 1, \"over\": 2, \"think\": 3, \"worried\": 4, \"money\": 2, \"everything\": 5, \"cause\": 1, \"work\": 3, \"boss\": 1, \"strict\": 1, \"stuck\": 1, \"unable\": 2, \"position\": 1, \"at\": 5, \"still\": 3, \"burned\": 1, \"on\": 5, \"own\": 1, \"with\": 11, \"daughter\": 1, \"her\": 1, \"worthless\": 2, \"worthful\": 1, \"likes\": 2, \"everyone\": 4, \"thinks\": 1, \"anything\": 5, \"takes\": 1, \"granted\": 1, \"unimportant\": 1, \"failure\": 2, \"thing\": 1, \"ugly\": 3, \"people\": 4, \"stare\": 1, \"else\": 6, \"looking\": 2, \"but\": 6, \"look\": 1, \"lost\": 1, \"if\": 10, \"life\": 1, \"depressed\": 6, \"manic\": 1, \"depression\": 7, \"last\": 3, \"summer\": 2, \"was\": 1, \"recurring\": 1, \"nightmares\": 1, \"avoid\": 1, \"give\": 1, \"similar\": 1, \"did\": 2, \"can\\'t\": 5, \"take\": 1, \"it\": 8, \"anymore\": 3, \"constantly\": 3, \"son\\'s\": 1, \"health\": 15, \"miss\": 1, \"most\": 2, \"time\": 4, \"recognize\": 1, \"control\": 4, \"suggestions\": 1, \"managing\": 1, \"anger\": 3, \"cannot\": 2, \"issues\": 2, \"extremely\": 1, \"angry\": 1, \"furious\": 1, \"hurt\": 2, \"rude\": 2, \"behaviour\": 1, \"change\": 4, \"irritated\": 1, \"irritating\": 1, \"behviour\": 1, \"great\": 1, \"today\": 1, \"happy\": 2, \"cheerful\": 1, \"fine\": 1, \"anxious\": 4, \"because\": 3, \"nervous\": 1, \"secrets\": 1, \"mind\": 1, \"them\": 2, \"wife\": 3, \"mom\": 2, \"sure\": 1, \"long\": 1, \"keep\": 1, \"secret\": 1, \"it\\'s\": 1, \"becoming\": 1, \"annoying\": 1, \"making\": 1, \"going\": 3, \"first\": 1, \"all\": 6, \"trouble\": 2, \"sleeping\": 2, \"times\": 1, \"while\": 1, \"other\": 1, \"nights\": 1, \"sleep\": 4, \"too\": 2, \"quite\": 1, \"tired\": 1, \"i\\\\u00e3\\\\u00a2\\\\u00e2\\\\u201a\\\\u00ac\\\\u00e2\\\\u201e\\\\u00a2m\": 1, \"noticing\": 1, \"increased\": 1, \"irritability\": 1, \"experiencing\": 1, \"anxiety\": 5, \"attacks\": 3, \"hours\": 1, \"something\": 4, \"wrong\": 3, \"i\\'ve\": 3, \"jaded\": 1, \"thoughts\": 1, \"focus\": 1, \"been\": 3, \"having\": 3, \"early\": 1, \"deadline\": 1, \"completed\": 1, \"submit\": 1, \"tomorrow\": 1, \"project\": 1, \"submission\": 1, \"week\": 3, \"haven\\'t\": 3, \"started\": 1, \"lots\": 2, \"deadlines\": 1, \"sick\": 1, \"due\": 2, \"workload\": 1, \"any\": 3, \"tips\": 1, \"\\'my\": 1, \"has\": 1, \"talking\": 3, \"properly\": 1, \"lately\": 2, \"feels\": 2, \"we\": 4, \"missing\": 1, \"spark\": 1, \"had\": 2, \"got\": 1, \"married\": 2, \"connection\": 2, \"husband\": 4, \"hardly\": 2, \"listening\": 1, \"she\": 3, \"bored\": 1, \"paying\": 1, \"attention\": 1, \"he\": 2, \"keeps\": 1, \"stressing\": 1, \"different\": 2, \"towards\": 1, \"growing\": 1, \"relationship\": 2, \"six\": 1, \"years\": 1, \"almost\": 1, \"five\": 1, \"nothing\": 3, \"or\": 3, \"being\": 3, \"irrational\": 1, \"everyday\": 1, \"clean\": 1, \"mess\": 1, \"create\": 1, \"its\": 2, \"tiring\": 1, \"child\": 3, \"listens\": 1, \"defying\": 1, \"toddler\": 1, \"defies\": 1, \"say\": 3, \"doesn\\'t\": 2, \"authoritative\": 1, \"says\": 1, \"i\\'d\": 1, \"hear\": 1, \"some\": 2, \"ways\": 1, \"needing\": 1, \"difficult\": 1, \"kid\": 1, \"throwing\": 1, \"huge\": 1, \"pain\": 1, \"stay\": 1, \"bring\": 1, \"open\": 1, \"shut\": 1, \"insominia\": 1, \"suffering\": 2, \"insomnia\": 1, \"slept\": 1, \"days\": 2, \"seem\": 1, \"proper\": 1, \"past\": 1, \"few\": 1, \"problems\": 3, \"stop\": 1, \"abusing\": 1, \"alcohol\": 1, \"addicted\": 1, \"smoking\": 1, \"rid\": 1, \"addiction\": 1, \"weed\": 1, \"addict\": 1, \"family\": 3, \"died\": 3, \"brother\": 1, \"dad\": 1, \"passed\": 4, \"sister\": 1, \"someone\": 2, \"would\": 1, \"be\": 1, \"gonna\": 1, \"kill\": 3, \"thought\": 1, \"killing\": 1, \"die\": 1, \"commit\": 1, \"suicide\": 1, \"hatred\": 1, \"wish\": 1, \"turn\": 1, \"brings\": 1, \"hate\": 2, \"certain\": 1, \"parents\": 1, \"relatives\": 1, \"friends\": 5, \"boyfriend\": 1, \"girlfriend\": 1, \"financial\": 1, \"saying\": 1, \"make\": 1, \"sense\": 1, \"response\": 1, \"answer\": 1, \"stupid\": 1, \"you\\'re\": 3, \"crazy\": 1, \"dumb\": 2, \"let\\'s\": 1, \"depend\": 1, \"friendly\": 1, \"behind\": 1, \"back\": 1, \"hurts\": 1, \"real\": 1, \"ask\": 1, \"exams\": 3, \"approaching\": 1, \"prepared\": 2, \"enough\": 1, \"series\": 1, \"tests\": 1, \"coming\": 1, \"study\": 1, \"grandfather\": 1, \"upsc\": 1, \"exam\": 2, \"scared\": 1, \"test\": 2, \"guess\": 1, \"examination\": 1, \"shy\": 1, \"conversations\": 1, \"converse\": 1, \"network\": 1, \"interact\": 1, \"start\": 1, \"conversation\": 1, \"yeah\": 2, \"deserve\": 1, \"break\": 1, \"absolutely\": 1, \"said\": 1, \"fact\": 2, \"mental\": 20, \"another\": 1, \"define\": 2, \"important\": 1, \"importance\": 1, \"mentally\": 1, \"ill\": 1, \"therapist\": 2, \"does\": 3, \"therapy\": 4, \"mean\": 1, \"illness\": 5, \"affect\": 1, \"causes\": 1, \"warning\": 1, \"signs\": 1, \"recover\": 1, \"appears\": 1, \"symptoms\": 1, \"disorder\": 1, \"find\": 4, \"treatment\": 3, \"options\": 1, \"available\": 1, \"involved\": 1, \"types\": 3, \"professionals\": 2, \"where\": 4, \"before\": 1, \"starting\": 1, \"new\": 1, \"medication\": 1, \"learn\": 1, \"group\": 1, \"prevent\": 1, \"unwell\": 1, \"maintain\": 1, \"connections\": 1, \"difference\": 4, \"between\": 4, \"stress\": 1, \"sadness\": 2}',\n",
       " 'word_docs': '{\"hi\": 2, \"hey\": 2, \"there\": 7, \"is\": 25, \"anyone\": 2, \"hello\": 1, \"howdy\": 1, \"hola\": 2, \"bonjour\": 1, \"konnichiwa\": 1, \"guten\": 1, \"tag\": 1, \"morning\": 1, \"good\": 10, \"afternoon\": 1, \"evening\": 1, \"night\": 1, \"bye\": 3, \"later\": 1, \"you\": 19, \"see\": 2, \"goodbye\": 1, \"au\": 1, \"revoir\": 1, \"sayonara\": 1, \"ok\": 2, \"then\": 1, \"fare\": 1, \"well\": 3, \"thee\": 1, \"thanks\": 2, \"thank\": 2, \"helpful\": 1, \"that\\'s\": 3, \"the\": 20, \"help\": 6, \"for\": 15, \"much\": 6, \"very\": 6, \"than\": 1, \"are\": 15, \"who\": 5, \"what\": 26, \"about\": 22, \"tell\": 6, \"more\": 2, \"me\": 27, \"yourself\": 2, \"name\": 4, \"your\": 2, \"i\": 132, \"should\": 5, \"call\": 1, \"what\\'s\": 3, \"my\": 39, \"am\": 45, \"go\": 4, \"by\": 1, \"in\": 12, \"an\": 3, \"engineer\": 1, \"as\": 4, \"working\": 2, \"live\": 3, \"chennai\": 1, \"studying\": 1, \"a\": 29, \"fransico\": 1, \"student\": 1, \"san\": 1, \"medicine\": 1, \"searching\": 1, \"job\": 1, \"graduate\": 1, \"engineering\": 3, \"professional\": 3, \"college\": 2, \"2\": 1, \"professor\": 1, \"children\": 2, \"have\": 31, \"confident\": 1, \"how\": 14, \"do\": 18, \"become\": 5, \"situations\": 1, \"to\": 39, \"need\": 6, \"confidence\": 2, \"and\": 36, \"social\": 2, \"gain\": 1, \"bold\": 1, \"lack\": 1, \"courage\": 1, \"coworkers\": 1, \"situation\": 1, \"up\": 5, \"when\": 4, \"defend\": 1, \"talk\": 10, \"want\": 11, \"improvise\": 1, \"of\": 18, \"myself\": 10, \"better\": 5, \"version\": 1, \"could\": 4, \"can\": 19, \"support\": 3, \"please\": 1, \"alone\": 4, \"home\": 2, \"lonely\": 4, \"far\": 1, \"from\": 4, \"come\": 1, \"away\": 6, \"feeling\": 5, \"don\\'t\": 16, \"around\": 2, \"so\": 10, \"feel\": 23, \"like\": 9, \"this\": 13, \"world\": 3, \"forgetting\": 1, \"bad\": 3, \"okay\": 1, \"blocking\": 1, \"always\": 1, \"things\": 4, \"also\": 2, \"trying\": 1, \"never\": 1, \"they\": 1, \"convince\": 1, \"truly\": 1, \"i\\'m\": 10, \"cares\": 1, \"nobody\": 1, \"out\": 5, \"that\": 13, \"not\": 12, \"will\": 2, \"no\": 10, \"one\": 6, \"here\": 3, \"know\": 9, \"sad\": 4, \"why\": 3, \"since\": 3, \"let\": 1, \"friend\": 2, \"down\": 1, \"late\": 1, \"really\": 1, \"school\": 2, \"just\": 4, \"stressed\": 6, \"get\": 7, \"over\": 2, \"lot\": 6, \"jobs\": 1, \"everything\": 4, \"two\": 1, \"tend\": 1, \"20s\": 1, \"worry\": 1, \"think\": 3, \"under\": 1, \"now\": 3, \"right\": 6, \"worried\": 4, \"belt\": 1, \"easily\": 3, \"money\": 2, \"cause\": 1, \"work\": 3, \"boss\": 1, \"strict\": 1, \"position\": 1, \"unable\": 2, \"stuck\": 1, \"at\": 5, \"still\": 3, \"burned\": 1, \"on\": 5, \"with\": 11, \"her\": 1, \"daughter\": 1, \"own\": 1, \"worthless\": 2, \"worthful\": 1, \"likes\": 2, \"everyone\": 4, \"thinks\": 1, \"anything\": 5, \"unimportant\": 1, \"granted\": 1, \"takes\": 1, \"failure\": 2, \"thing\": 1, \"ugly\": 3, \"stare\": 1, \"people\": 4, \"looking\": 2, \"but\": 6, \"else\": 6, \"look\": 1, \"depressed\": 6, \"if\": 10, \"life\": 1, \"lost\": 1, \"was\": 1, \"depression\": 7, \"avoid\": 1, \"did\": 2, \"summer\": 1, \"recurring\": 1, \"last\": 3, \"give\": 1, \"similar\": 1, \"nightmares\": 1, \"manic\": 1, \"anymore\": 3, \"take\": 1, \"can\\'t\": 5, \"it\": 8, \"health\": 15, \"constantly\": 3, \"son\\'s\": 1, \"miss\": 1, \"time\": 4, \"most\": 2, \"managing\": 1, \"anger\": 3, \"recognize\": 1, \"control\": 4, \"suggestions\": 1, \"cannot\": 2, \"issues\": 2, \"extremely\": 1, \"angry\": 1, \"hurt\": 2, \"rude\": 2, \"behaviour\": 1, \"furious\": 1, \"change\": 4, \"irritated\": 1, \"irritating\": 1, \"behviour\": 1, \"great\": 1, \"today\": 1, \"happy\": 2, \"cheerful\": 1, \"fine\": 1, \"anxious\": 4, \"because\": 3, \"nervous\": 1, \"secret\": 1, \"annoying\": 1, \"mind\": 1, \"making\": 1, \"secrets\": 1, \"long\": 1, \"it\\'s\": 1, \"mom\": 2, \"keep\": 1, \"them\": 1, \"becoming\": 1, \"wife\": 3, \"sure\": 1, \"i\\\\u00e3\\\\u00a2\\\\u00e2\\\\u201a\\\\u00ac\\\\u00e2\\\\u201e\\\\u00a2m\": 1, \"sleep\": 4, \"experiencing\": 1, \"noticing\": 1, \"irritability\": 1, \"too\": 2, \"nights\": 1, \"anxiety\": 5, \"times\": 1, \"wrong\": 3, \"first\": 1, \"something\": 4, \"going\": 3, \"sleeping\": 2, \"other\": 1, \"all\": 6, \"trouble\": 2, \"while\": 1, \"tired\": 1, \"quite\": 1, \"attacks\": 3, \"hours\": 1, \"increased\": 1, \"jaded\": 1, \"focus\": 1, \"thoughts\": 1, \"been\": 3, \"having\": 3, \"i\\'ve\": 3, \"deadline\": 1, \"early\": 1, \"submit\": 1, \"completed\": 1, \"tomorrow\": 1, \"project\": 1, \"week\": 3, \"submission\": 1, \"started\": 1, \"haven\\'t\": 3, \"sick\": 1, \"lots\": 2, \"deadlines\": 1, \"workload\": 1, \"any\": 3, \"tips\": 1, \"due\": 2, \"we\": 2, \"spark\": 1, \"\\'my\": 1, \"properly\": 1, \"has\": 1, \"feels\": 2, \"talking\": 3, \"lately\": 2, \"missing\": 1, \"had\": 2, \"got\": 1, \"married\": 2, \"husband\": 3, \"connection\": 2, \"she\": 3, \"hardly\": 2, \"listening\": 1, \"bored\": 1, \"attention\": 1, \"paying\": 1, \"stressing\": 1, \"he\": 2, \"keeps\": 1, \"six\": 1, \"growing\": 1, \"years\": 1, \"different\": 2, \"towards\": 1, \"relationship\": 2, \"five\": 1, \"irrational\": 1, \"nothing\": 3, \"or\": 3, \"almost\": 1, \"being\": 2, \"tiring\": 1, \"mess\": 1, \"its\": 2, \"create\": 1, \"clean\": 1, \"everyday\": 1, \"child\": 3, \"defying\": 1, \"listens\": 1, \"ways\": 1, \"some\": 2, \"doesn\\'t\": 2, \"authoritative\": 1, \"toddler\": 1, \"hear\": 1, \"i\\'d\": 1, \"needing\": 1, \"say\": 3, \"defies\": 1, \"says\": 1, \"throwing\": 1, \"difficult\": 1, \"huge\": 1, \"pain\": 1, \"kid\": 1, \"stay\": 1, \"bring\": 1, \"open\": 1, \"shut\": 1, \"insominia\": 1, \"insomnia\": 1, \"suffering\": 2, \"days\": 2, \"slept\": 1, \"seem\": 1, \"proper\": 1, \"few\": 1, \"past\": 1, \"problems\": 3, \"alcohol\": 1, \"stop\": 1, \"abusing\": 1, \"smoking\": 1, \"rid\": 1, \"addicted\": 1, \"addiction\": 1, \"weed\": 1, \"family\": 3, \"addict\": 1, \"died\": 3, \"brother\": 1, \"passed\": 4, \"dad\": 1, \"sister\": 1, \"someone\": 2, \"be\": 1, \"would\": 1, \"gonna\": 1, \"kill\": 3, \"thought\": 1, \"killing\": 1, \"die\": 1, \"suicide\": 1, \"commit\": 1, \"hatred\": 1, \"wish\": 1, \"brings\": 1, \"turn\": 1, \"hate\": 2, \"certain\": 1, \"parents\": 1, \"relatives\": 1, \"friends\": 4, \"boyfriend\": 1, \"girlfriend\": 1, \"financial\": 1, \"saying\": 1, \"make\": 1, \"sense\": 1, \"response\": 1, \"answer\": 1, \"stupid\": 1, \"crazy\": 1, \"you\\'re\": 3, \"dumb\": 2, \"let\\'s\": 1, \"depend\": 1, \"friendly\": 1, \"behind\": 1, \"back\": 1, \"real\": 1, \"hurts\": 1, \"ask\": 1, \"approaching\": 1, \"prepared\": 2, \"enough\": 1, \"exams\": 3, \"grandfather\": 1, \"tests\": 1, \"study\": 1, \"series\": 1, \"coming\": 1, \"exam\": 2, \"upsc\": 1, \"scared\": 1, \"test\": 2, \"guess\": 1, \"examination\": 1, \"shy\": 1, \"conversations\": 1, \"network\": 1, \"converse\": 1, \"interact\": 1, \"conversation\": 1, \"start\": 1, \"break\": 1, \"deserve\": 1, \"yeah\": 2, \"absolutely\": 1, \"said\": 1, \"fact\": 2, \"mental\": 20, \"another\": 1, \"define\": 2, \"important\": 1, \"importance\": 1, \"mentally\": 1, \"ill\": 1, \"therapist\": 2, \"does\": 3, \"therapy\": 4, \"mean\": 1, \"illness\": 5, \"affect\": 1, \"causes\": 1, \"warning\": 1, \"signs\": 1, \"recover\": 1, \"disorder\": 1, \"symptoms\": 1, \"appears\": 1, \"find\": 4, \"options\": 1, \"available\": 1, \"treatment\": 3, \"involved\": 1, \"professionals\": 2, \"types\": 3, \"where\": 4, \"before\": 1, \"starting\": 1, \"medication\": 1, \"new\": 1, \"learn\": 1, \"group\": 1, \"prevent\": 1, \"unwell\": 1, \"maintain\": 1, \"connections\": 1, \"stress\": 1, \"difference\": 4, \"between\": 4, \"sadness\": 2}',\n",
       " 'index_docs': '{\"151\": 2, \"152\": 2, \"42\": 7, \"11\": 25, \"153\": 2, \"221\": 1, \"222\": 1, \"154\": 2, \"223\": 1, \"224\": 1, \"225\": 1, \"226\": 1, \"227\": 1, \"33\": 10, \"228\": 1, \"229\": 1, \"230\": 1, \"101\": 3, \"231\": 1, \"15\": 19, \"155\": 2, \"232\": 1, \"233\": 1, \"234\": 1, \"235\": 1, \"156\": 2, \"236\": 1, \"237\": 1, \"102\": 3, \"238\": 1, \"157\": 2, \"158\": 2, \"239\": 1, \"103\": 3, \"16\": 20, \"43\": 6, \"20\": 15, \"47\": 6, \"38\": 6, \"240\": 1, \"22\": 15, \"59\": 5, \"9\": 26, \"12\": 22, \"48\": 6, \"159\": 2, \"8\": 27, \"160\": 2, \"73\": 4, \"161\": 2, \"1\": 132, \"60\": 5, \"241\": 1, \"104\": 3, \"4\": 39, \"2\": 45, \"74\": 4, \"242\": 1, \"27\": 12, \"105\": 3, \"243\": 1, \"75\": 4, \"162\": 2, \"106\": 3, \"244\": 1, \"246\": 1, \"7\": 29, \"249\": 1, \"245\": 1, \"248\": 1, \"247\": 1, \"251\": 1, \"252\": 1, \"250\": 1, \"107\": 3, \"108\": 3, \"163\": 2, \"254\": 1, \"253\": 1, \"164\": 2, \"6\": 31, \"255\": 1, \"24\": 14, \"14\": 18, \"61\": 5, \"258\": 1, \"3\": 39, \"49\": 6, \"165\": 2, \"5\": 36, \"166\": 2, \"256\": 1, \"257\": 1, \"259\": 1, \"260\": 1, \"261\": 1, \"263\": 1, \"62\": 5, \"76\": 4, \"262\": 1, \"34\": 10, \"28\": 11, \"264\": 1, \"13\": 18, \"35\": 10, \"50\": 5, \"265\": 1, \"77\": 4, \"18\": 19, \"109\": 3, \"266\": 1, \"79\": 4, \"167\": 2, \"80\": 4, \"268\": 1, \"78\": 4, \"267\": 1, \"51\": 6, \"63\": 5, \"19\": 16, \"168\": 2, \"30\": 10, \"10\": 23, \"36\": 9, \"25\": 13, \"110\": 3, \"274\": 1, \"111\": 3, \"271\": 1, \"273\": 1, \"272\": 1, \"81\": 4, \"169\": 2, \"269\": 1, \"278\": 1, \"277\": 1, \"270\": 1, \"279\": 1, \"21\": 10, \"276\": 1, \"275\": 1, \"64\": 5, \"26\": 13, \"29\": 12, \"170\": 2, \"31\": 10, \"52\": 6, \"112\": 3, \"39\": 9, \"82\": 4, \"113\": 3, \"114\": 3, \"280\": 1, \"171\": 2, \"281\": 1, \"282\": 1, \"288\": 1, \"172\": 2, \"53\": 4, \"54\": 6, \"45\": 7, \"173\": 2, \"40\": 6, \"285\": 1, \"65\": 4, \"284\": 1, \"289\": 1, \"283\": 1, \"290\": 1, \"116\": 3, \"286\": 1, \"83\": 3, \"44\": 6, \"84\": 4, \"287\": 1, \"115\": 3, \"174\": 2, \"291\": 1, \"117\": 3, \"292\": 1, \"293\": 1, \"295\": 1, \"175\": 2, \"294\": 1, \"66\": 5, \"118\": 3, \"296\": 1, \"67\": 5, \"32\": 11, \"299\": 1, \"298\": 1, \"297\": 1, \"176\": 2, \"300\": 1, \"177\": 2, \"85\": 4, \"301\": 1, \"68\": 5, \"304\": 1, \"303\": 1, \"302\": 1, \"178\": 2, \"305\": 1, \"119\": 3, \"306\": 1, \"86\": 4, \"179\": 2, \"56\": 6, \"55\": 6, \"307\": 1, \"57\": 6, \"37\": 10, \"309\": 1, \"308\": 1, \"311\": 1, \"46\": 7, \"314\": 1, \"181\": 2, \"180\": 1, \"312\": 1, \"120\": 3, \"315\": 1, \"316\": 1, \"313\": 1, \"310\": 1, \"121\": 3, \"317\": 1, \"69\": 5, \"41\": 8, \"23\": 15, \"122\": 3, \"318\": 1, \"319\": 1, \"87\": 4, \"182\": 2, \"322\": 1, \"123\": 3, \"320\": 1, \"88\": 4, \"321\": 1, \"183\": 2, \"184\": 2, \"323\": 1, \"324\": 1, \"185\": 2, \"186\": 2, \"326\": 1, \"325\": 1, \"89\": 4, \"327\": 1, \"328\": 1, \"329\": 1, \"330\": 1, \"331\": 1, \"187\": 2, \"332\": 1, \"333\": 1, \"90\": 4, \"124\": 3, \"334\": 1, \"340\": 1, \"343\": 1, \"336\": 1, \"344\": 1, \"335\": 1, \"338\": 1, \"341\": 1, \"189\": 2, \"339\": 1, \"188\": 1, \"342\": 1, \"125\": 3, \"337\": 1, \"352\": 1, \"91\": 4, \"356\": 1, \"353\": 1, \"355\": 1, \"192\": 2, \"349\": 1, \"70\": 5, \"346\": 1, \"128\": 3, \"345\": 1, \"92\": 4, \"126\": 3, \"191\": 2, \"348\": 1, \"58\": 6, \"190\": 2, \"347\": 1, \"351\": 1, \"350\": 1, \"127\": 3, \"357\": 1, \"354\": 1, \"358\": 1, \"360\": 1, \"359\": 1, \"130\": 3, \"131\": 3, \"129\": 3, \"362\": 1, \"361\": 1, \"364\": 1, \"363\": 1, \"365\": 1, \"366\": 1, \"132\": 3, \"367\": 1, \"368\": 1, \"133\": 3, \"370\": 1, \"193\": 2, \"369\": 1, \"371\": 1, \"134\": 3, \"372\": 1, \"194\": 2, \"93\": 2, \"377\": 1, \"373\": 1, \"375\": 1, \"374\": 1, \"196\": 2, \"135\": 3, \"195\": 2, \"376\": 1, \"197\": 2, \"378\": 1, \"198\": 2, \"94\": 3, \"199\": 2, \"136\": 3, \"200\": 2, \"379\": 1, \"380\": 1, \"382\": 1, \"381\": 1, \"384\": 1, \"201\": 2, \"383\": 1, \"387\": 1, \"386\": 1, \"388\": 1, \"202\": 2, \"385\": 1, \"203\": 2, \"390\": 1, \"391\": 1, \"137\": 3, \"138\": 3, \"389\": 1, \"139\": 2, \"396\": 1, \"394\": 1, \"204\": 2, \"395\": 1, \"393\": 1, \"392\": 1, \"140\": 3, \"398\": 1, \"397\": 1, \"405\": 1, \"206\": 2, \"205\": 2, \"401\": 1, \"399\": 1, \"404\": 1, \"403\": 1, \"406\": 1, \"141\": 3, \"400\": 1, \"402\": 1, \"409\": 1, \"407\": 1, \"410\": 1, \"411\": 1, \"408\": 1, \"412\": 1, \"413\": 1, \"414\": 1, \"415\": 1, \"416\": 1, \"417\": 1, \"207\": 2, \"208\": 2, \"418\": 1, \"419\": 1, \"420\": 1, \"422\": 1, \"421\": 1, \"142\": 3, \"425\": 1, \"423\": 1, \"424\": 1, \"427\": 1, \"428\": 1, \"426\": 1, \"429\": 1, \"430\": 1, \"143\": 3, \"431\": 1, \"144\": 3, \"432\": 1, \"95\": 4, \"433\": 1, \"434\": 1, \"209\": 2, \"436\": 1, \"435\": 1, \"437\": 1, \"145\": 3, \"438\": 1, \"439\": 1, \"440\": 1, \"442\": 1, \"441\": 1, \"443\": 1, \"444\": 1, \"446\": 1, \"445\": 1, \"210\": 2, \"447\": 1, \"448\": 1, \"449\": 1, \"71\": 4, \"450\": 1, \"451\": 1, \"452\": 1, \"453\": 1, \"454\": 1, \"455\": 1, \"456\": 1, \"457\": 1, \"458\": 1, \"459\": 1, \"146\": 3, \"211\": 2, \"460\": 1, \"461\": 1, \"462\": 1, \"463\": 1, \"464\": 1, \"466\": 1, \"465\": 1, \"467\": 1, \"468\": 1, \"212\": 2, \"469\": 1, \"147\": 3, \"474\": 1, \"471\": 1, \"473\": 1, \"470\": 1, \"472\": 1, \"213\": 2, \"475\": 1, \"476\": 1, \"214\": 2, \"477\": 1, \"478\": 1, \"479\": 1, \"480\": 1, \"482\": 1, \"481\": 1, \"483\": 1, \"485\": 1, \"484\": 1, \"487\": 1, \"486\": 1, \"215\": 2, \"488\": 1, \"489\": 1, \"216\": 2, \"17\": 20, \"490\": 1, \"217\": 2, \"491\": 1, \"492\": 1, \"493\": 1, \"494\": 1, \"218\": 2, \"148\": 3, \"96\": 4, \"495\": 1, \"72\": 5, \"496\": 1, \"497\": 1, \"498\": 1, \"499\": 1, \"500\": 1, \"503\": 1, \"502\": 1, \"501\": 1, \"97\": 4, \"504\": 1, \"505\": 1, \"149\": 3, \"506\": 1, \"219\": 2, \"150\": 3, \"98\": 4, \"507\": 1, \"508\": 1, \"510\": 1, \"509\": 1, \"511\": 1, \"512\": 1, \"513\": 1, \"514\": 1, \"515\": 1, \"516\": 1, \"517\": 1, \"99\": 4, \"100\": 4, \"220\": 2}',\n",
       " 'index_word': '{\"1\": \"i\", \"2\": \"am\", \"3\": \"to\", \"4\": \"my\", \"5\": \"and\", \"6\": \"have\", \"7\": \"a\", \"8\": \"me\", \"9\": \"what\", \"10\": \"feel\", \"11\": \"is\", \"12\": \"about\", \"13\": \"of\", \"14\": \"do\", \"15\": \"you\", \"16\": \"the\", \"17\": \"mental\", \"18\": \"can\", \"19\": \"don\\'t\", \"20\": \"for\", \"21\": \"i\\'m\", \"22\": \"are\", \"23\": \"health\", \"24\": \"how\", \"25\": \"this\", \"26\": \"that\", \"27\": \"in\", \"28\": \"want\", \"29\": \"not\", \"30\": \"so\", \"31\": \"no\", \"32\": \"with\", \"33\": \"good\", \"34\": \"talk\", \"35\": \"myself\", \"36\": \"like\", \"37\": \"if\", \"38\": \"very\", \"39\": \"know\", \"40\": \"lot\", \"41\": \"it\", \"42\": \"there\", \"43\": \"help\", \"44\": \"right\", \"45\": \"get\", \"46\": \"depression\", \"47\": \"much\", \"48\": \"tell\", \"49\": \"need\", \"50\": \"better\", \"51\": \"away\", \"52\": \"one\", \"53\": \"just\", \"54\": \"stressed\", \"55\": \"else\", \"56\": \"but\", \"57\": \"depressed\", \"58\": \"all\", \"59\": \"who\", \"60\": \"should\", \"61\": \"become\", \"62\": \"up\", \"63\": \"feeling\", \"64\": \"out\", \"65\": \"everything\", \"66\": \"at\", \"67\": \"on\", \"68\": \"anything\", \"69\": \"can\\'t\", \"70\": \"anxiety\", \"71\": \"friends\", \"72\": \"illness\", \"73\": \"name\", \"74\": \"go\", \"75\": \"as\", \"76\": \"when\", \"77\": \"could\", \"78\": \"from\", \"79\": \"alone\", \"80\": \"lonely\", \"81\": \"things\", \"82\": \"sad\", \"83\": \"now\", \"84\": \"worried\", \"85\": \"everyone\", \"86\": \"people\", \"87\": \"time\", \"88\": \"control\", \"89\": \"change\", \"90\": \"anxious\", \"91\": \"sleep\", \"92\": \"something\", \"93\": \"we\", \"94\": \"husband\", \"95\": \"passed\", \"96\": \"therapy\", \"97\": \"find\", \"98\": \"where\", \"99\": \"difference\", \"100\": \"between\", \"101\": \"bye\", \"102\": \"well\", \"103\": \"that\\'s\", \"104\": \"what\\'s\", \"105\": \"an\", \"106\": \"live\", \"107\": \"engineering\", \"108\": \"professional\", \"109\": \"support\", \"110\": \"world\", \"111\": \"bad\", \"112\": \"here\", \"113\": \"why\", \"114\": \"since\", \"115\": \"easily\", \"116\": \"think\", \"117\": \"work\", \"118\": \"still\", \"119\": \"ugly\", \"120\": \"last\", \"121\": \"anymore\", \"122\": \"constantly\", \"123\": \"anger\", \"124\": \"because\", \"125\": \"wife\", \"126\": \"going\", \"127\": \"attacks\", \"128\": \"wrong\", \"129\": \"i\\'ve\", \"130\": \"been\", \"131\": \"having\", \"132\": \"week\", \"133\": \"haven\\'t\", \"134\": \"any\", \"135\": \"talking\", \"136\": \"she\", \"137\": \"nothing\", \"138\": \"or\", \"139\": \"being\", \"140\": \"child\", \"141\": \"say\", \"142\": \"problems\", \"143\": \"family\", \"144\": \"died\", \"145\": \"kill\", \"146\": \"you\\'re\", \"147\": \"exams\", \"148\": \"does\", \"149\": \"treatment\", \"150\": \"types\", \"151\": \"hi\", \"152\": \"hey\", \"153\": \"anyone\", \"154\": \"hola\", \"155\": \"see\", \"156\": \"ok\", \"157\": \"thanks\", \"158\": \"thank\", \"159\": \"more\", \"160\": \"yourself\", \"161\": \"your\", \"162\": \"working\", \"163\": \"college\", \"164\": \"children\", \"165\": \"confidence\", \"166\": \"social\", \"167\": \"home\", \"168\": \"around\", \"169\": \"also\", \"170\": \"will\", \"171\": \"friend\", \"172\": \"school\", \"173\": \"over\", \"174\": \"money\", \"175\": \"unable\", \"176\": \"worthless\", \"177\": \"likes\", \"178\": \"failure\", \"179\": \"looking\", \"180\": \"summer\", \"181\": \"did\", \"182\": \"most\", \"183\": \"cannot\", \"184\": \"issues\", \"185\": \"hurt\", \"186\": \"rude\", \"187\": \"happy\", \"188\": \"them\", \"189\": \"mom\", \"190\": \"trouble\", \"191\": \"sleeping\", \"192\": \"too\", \"193\": \"lots\", \"194\": \"due\", \"195\": \"lately\", \"196\": \"feels\", \"197\": \"had\", \"198\": \"married\", \"199\": \"connection\", \"200\": \"hardly\", \"201\": \"he\", \"202\": \"different\", \"203\": \"relationship\", \"204\": \"its\", \"205\": \"doesn\\'t\", \"206\": \"some\", \"207\": \"suffering\", \"208\": \"days\", \"209\": \"someone\", \"210\": \"hate\", \"211\": \"dumb\", \"212\": \"prepared\", \"213\": \"exam\", \"214\": \"test\", \"215\": \"yeah\", \"216\": \"fact\", \"217\": \"define\", \"218\": \"therapist\", \"219\": \"professionals\", \"220\": \"sadness\", \"221\": \"hello\", \"222\": \"howdy\", \"223\": \"bonjour\", \"224\": \"konnichiwa\", \"225\": \"guten\", \"226\": \"tag\", \"227\": \"morning\", \"228\": \"afternoon\", \"229\": \"evening\", \"230\": \"night\", \"231\": \"later\", \"232\": \"goodbye\", \"233\": \"au\", \"234\": \"revoir\", \"235\": \"sayonara\", \"236\": \"then\", \"237\": \"fare\", \"238\": \"thee\", \"239\": \"helpful\", \"240\": \"than\", \"241\": \"call\", \"242\": \"by\", \"243\": \"engineer\", \"244\": \"chennai\", \"245\": \"student\", \"246\": \"studying\", \"247\": \"medicine\", \"248\": \"san\", \"249\": \"fransico\", \"250\": \"graduate\", \"251\": \"searching\", \"252\": \"job\", \"253\": \"professor\", \"254\": \"2\", \"255\": \"confident\", \"256\": \"gain\", \"257\": \"bold\", \"258\": \"situations\", \"259\": \"lack\", \"260\": \"courage\", \"261\": \"coworkers\", \"262\": \"defend\", \"263\": \"situation\", \"264\": \"improvise\", \"265\": \"version\", \"266\": \"please\", \"267\": \"come\", \"268\": \"far\", \"269\": \"trying\", \"270\": \"convince\", \"271\": \"okay\", \"272\": \"always\", \"273\": \"blocking\", \"274\": \"forgetting\", \"275\": \"nobody\", \"276\": \"cares\", \"277\": \"they\", \"278\": \"never\", \"279\": \"truly\", \"280\": \"let\", \"281\": \"down\", \"282\": \"late\", \"283\": \"20s\", \"284\": \"two\", \"285\": \"jobs\", \"286\": \"under\", \"287\": \"belt\", \"288\": \"really\", \"289\": \"tend\", \"290\": \"worry\", \"291\": \"cause\", \"292\": \"boss\", \"293\": \"strict\", \"294\": \"stuck\", \"295\": \"position\", \"296\": \"burned\", \"297\": \"own\", \"298\": \"daughter\", \"299\": \"her\", \"300\": \"worthful\", \"301\": \"thinks\", \"302\": \"takes\", \"303\": \"granted\", \"304\": \"unimportant\", \"305\": \"thing\", \"306\": \"stare\", \"307\": \"look\", \"308\": \"lost\", \"309\": \"life\", \"310\": \"manic\", \"311\": \"was\", \"312\": \"recurring\", \"313\": \"nightmares\", \"314\": \"avoid\", \"315\": \"give\", \"316\": \"similar\", \"317\": \"take\", \"318\": \"son\\'s\", \"319\": \"miss\", \"320\": \"recognize\", \"321\": \"suggestions\", \"322\": \"managing\", \"323\": \"extremely\", \"324\": \"angry\", \"325\": \"furious\", \"326\": \"behaviour\", \"327\": \"irritated\", \"328\": \"irritating\", \"329\": \"behviour\", \"330\": \"great\", \"331\": \"today\", \"332\": \"cheerful\", \"333\": \"fine\", \"334\": \"nervous\", \"335\": \"secrets\", \"336\": \"mind\", \"337\": \"sure\", \"338\": \"long\", \"339\": \"keep\", \"340\": \"secret\", \"341\": \"it\\'s\", \"342\": \"becoming\", \"343\": \"annoying\", \"344\": \"making\", \"345\": \"first\", \"346\": \"times\", \"347\": \"while\", \"348\": \"other\", \"349\": \"nights\", \"350\": \"quite\", \"351\": \"tired\", \"352\": \"i\\\\u00e3\\\\u00a2\\\\u00e2\\\\u201a\\\\u00ac\\\\u00e2\\\\u201e\\\\u00a2m\", \"353\": \"noticing\", \"354\": \"increased\", \"355\": \"irritability\", \"356\": \"experiencing\", \"357\": \"hours\", \"358\": \"jaded\", \"359\": \"thoughts\", \"360\": \"focus\", \"361\": \"early\", \"362\": \"deadline\", \"363\": \"completed\", \"364\": \"submit\", \"365\": \"tomorrow\", \"366\": \"project\", \"367\": \"submission\", \"368\": \"started\", \"369\": \"deadlines\", \"370\": \"sick\", \"371\": \"workload\", \"372\": \"tips\", \"373\": \"\\'my\", \"374\": \"has\", \"375\": \"properly\", \"376\": \"missing\", \"377\": \"spark\", \"378\": \"got\", \"379\": \"listening\", \"380\": \"bored\", \"381\": \"paying\", \"382\": \"attention\", \"383\": \"keeps\", \"384\": \"stressing\", \"385\": \"towards\", \"386\": \"growing\", \"387\": \"six\", \"388\": \"years\", \"389\": \"almost\", \"390\": \"five\", \"391\": \"irrational\", \"392\": \"everyday\", \"393\": \"clean\", \"394\": \"mess\", \"395\": \"create\", \"396\": \"tiring\", \"397\": \"listens\", \"398\": \"defying\", \"399\": \"toddler\", \"400\": \"defies\", \"401\": \"authoritative\", \"402\": \"says\", \"403\": \"i\\'d\", \"404\": \"hear\", \"405\": \"ways\", \"406\": \"needing\", \"407\": \"difficult\", \"408\": \"kid\", \"409\": \"throwing\", \"410\": \"huge\", \"411\": \"pain\", \"412\": \"stay\", \"413\": \"bring\", \"414\": \"open\", \"415\": \"shut\", \"416\": \"insominia\", \"417\": \"insomnia\", \"418\": \"slept\", \"419\": \"seem\", \"420\": \"proper\", \"421\": \"past\", \"422\": \"few\", \"423\": \"stop\", \"424\": \"abusing\", \"425\": \"alcohol\", \"426\": \"addicted\", \"427\": \"smoking\", \"428\": \"rid\", \"429\": \"addiction\", \"430\": \"weed\", \"431\": \"addict\", \"432\": \"brother\", \"433\": \"dad\", \"434\": \"sister\", \"435\": \"would\", \"436\": \"be\", \"437\": \"gonna\", \"438\": \"thought\", \"439\": \"killing\", \"440\": \"die\", \"441\": \"commit\", \"442\": \"suicide\", \"443\": \"hatred\", \"444\": \"wish\", \"445\": \"turn\", \"446\": \"brings\", \"447\": \"certain\", \"448\": \"parents\", \"449\": \"relatives\", \"450\": \"boyfriend\", \"451\": \"girlfriend\", \"452\": \"financial\", \"453\": \"saying\", \"454\": \"make\", \"455\": \"sense\", \"456\": \"response\", \"457\": \"answer\", \"458\": \"stupid\", \"459\": \"crazy\", \"460\": \"let\\'s\", \"461\": \"depend\", \"462\": \"friendly\", \"463\": \"behind\", \"464\": \"back\", \"465\": \"hurts\", \"466\": \"real\", \"467\": \"ask\", \"468\": \"approaching\", \"469\": \"enough\", \"470\": \"series\", \"471\": \"tests\", \"472\": \"coming\", \"473\": \"study\", \"474\": \"grandfather\", \"475\": \"upsc\", \"476\": \"scared\", \"477\": \"guess\", \"478\": \"examination\", \"479\": \"shy\", \"480\": \"conversations\", \"481\": \"converse\", \"482\": \"network\", \"483\": \"interact\", \"484\": \"start\", \"485\": \"conversation\", \"486\": \"deserve\", \"487\": \"break\", \"488\": \"absolutely\", \"489\": \"said\", \"490\": \"another\", \"491\": \"important\", \"492\": \"importance\", \"493\": \"mentally\", \"494\": \"ill\", \"495\": \"mean\", \"496\": \"affect\", \"497\": \"causes\", \"498\": \"warning\", \"499\": \"signs\", \"500\": \"recover\", \"501\": \"appears\", \"502\": \"symptoms\", \"503\": \"disorder\", \"504\": \"options\", \"505\": \"available\", \"506\": \"involved\", \"507\": \"before\", \"508\": \"starting\", \"509\": \"new\", \"510\": \"medication\", \"511\": \"learn\", \"512\": \"group\", \"513\": \"prevent\", \"514\": \"unwell\", \"515\": \"maintain\", \"516\": \"connections\", \"517\": \"stress\"}',\n",
       " 'word_index': '{\"i\": 1, \"am\": 2, \"to\": 3, \"my\": 4, \"and\": 5, \"have\": 6, \"a\": 7, \"me\": 8, \"what\": 9, \"feel\": 10, \"is\": 11, \"about\": 12, \"of\": 13, \"do\": 14, \"you\": 15, \"the\": 16, \"mental\": 17, \"can\": 18, \"don\\'t\": 19, \"for\": 20, \"i\\'m\": 21, \"are\": 22, \"health\": 23, \"how\": 24, \"this\": 25, \"that\": 26, \"in\": 27, \"want\": 28, \"not\": 29, \"so\": 30, \"no\": 31, \"with\": 32, \"good\": 33, \"talk\": 34, \"myself\": 35, \"like\": 36, \"if\": 37, \"very\": 38, \"know\": 39, \"lot\": 40, \"it\": 41, \"there\": 42, \"help\": 43, \"right\": 44, \"get\": 45, \"depression\": 46, \"much\": 47, \"tell\": 48, \"need\": 49, \"better\": 50, \"away\": 51, \"one\": 52, \"just\": 53, \"stressed\": 54, \"else\": 55, \"but\": 56, \"depressed\": 57, \"all\": 58, \"who\": 59, \"should\": 60, \"become\": 61, \"up\": 62, \"feeling\": 63, \"out\": 64, \"everything\": 65, \"at\": 66, \"on\": 67, \"anything\": 68, \"can\\'t\": 69, \"anxiety\": 70, \"friends\": 71, \"illness\": 72, \"name\": 73, \"go\": 74, \"as\": 75, \"when\": 76, \"could\": 77, \"from\": 78, \"alone\": 79, \"lonely\": 80, \"things\": 81, \"sad\": 82, \"now\": 83, \"worried\": 84, \"everyone\": 85, \"people\": 86, \"time\": 87, \"control\": 88, \"change\": 89, \"anxious\": 90, \"sleep\": 91, \"something\": 92, \"we\": 93, \"husband\": 94, \"passed\": 95, \"therapy\": 96, \"find\": 97, \"where\": 98, \"difference\": 99, \"between\": 100, \"bye\": 101, \"well\": 102, \"that\\'s\": 103, \"what\\'s\": 104, \"an\": 105, \"live\": 106, \"engineering\": 107, \"professional\": 108, \"support\": 109, \"world\": 110, \"bad\": 111, \"here\": 112, \"why\": 113, \"since\": 114, \"easily\": 115, \"think\": 116, \"work\": 117, \"still\": 118, \"ugly\": 119, \"last\": 120, \"anymore\": 121, \"constantly\": 122, \"anger\": 123, \"because\": 124, \"wife\": 125, \"going\": 126, \"attacks\": 127, \"wrong\": 128, \"i\\'ve\": 129, \"been\": 130, \"having\": 131, \"week\": 132, \"haven\\'t\": 133, \"any\": 134, \"talking\": 135, \"she\": 136, \"nothing\": 137, \"or\": 138, \"being\": 139, \"child\": 140, \"say\": 141, \"problems\": 142, \"family\": 143, \"died\": 144, \"kill\": 145, \"you\\'re\": 146, \"exams\": 147, \"does\": 148, \"treatment\": 149, \"types\": 150, \"hi\": 151, \"hey\": 152, \"anyone\": 153, \"hola\": 154, \"see\": 155, \"ok\": 156, \"thanks\": 157, \"thank\": 158, \"more\": 159, \"yourself\": 160, \"your\": 161, \"working\": 162, \"college\": 163, \"children\": 164, \"confidence\": 165, \"social\": 166, \"home\": 167, \"around\": 168, \"also\": 169, \"will\": 170, \"friend\": 171, \"school\": 172, \"over\": 173, \"money\": 174, \"unable\": 175, \"worthless\": 176, \"likes\": 177, \"failure\": 178, \"looking\": 179, \"summer\": 180, \"did\": 181, \"most\": 182, \"cannot\": 183, \"issues\": 184, \"hurt\": 185, \"rude\": 186, \"happy\": 187, \"them\": 188, \"mom\": 189, \"trouble\": 190, \"sleeping\": 191, \"too\": 192, \"lots\": 193, \"due\": 194, \"lately\": 195, \"feels\": 196, \"had\": 197, \"married\": 198, \"connection\": 199, \"hardly\": 200, \"he\": 201, \"different\": 202, \"relationship\": 203, \"its\": 204, \"doesn\\'t\": 205, \"some\": 206, \"suffering\": 207, \"days\": 208, \"someone\": 209, \"hate\": 210, \"dumb\": 211, \"prepared\": 212, \"exam\": 213, \"test\": 214, \"yeah\": 215, \"fact\": 216, \"define\": 217, \"therapist\": 218, \"professionals\": 219, \"sadness\": 220, \"hello\": 221, \"howdy\": 222, \"bonjour\": 223, \"konnichiwa\": 224, \"guten\": 225, \"tag\": 226, \"morning\": 227, \"afternoon\": 228, \"evening\": 229, \"night\": 230, \"later\": 231, \"goodbye\": 232, \"au\": 233, \"revoir\": 234, \"sayonara\": 235, \"then\": 236, \"fare\": 237, \"thee\": 238, \"helpful\": 239, \"than\": 240, \"call\": 241, \"by\": 242, \"engineer\": 243, \"chennai\": 244, \"student\": 245, \"studying\": 246, \"medicine\": 247, \"san\": 248, \"fransico\": 249, \"graduate\": 250, \"searching\": 251, \"job\": 252, \"professor\": 253, \"2\": 254, \"confident\": 255, \"gain\": 256, \"bold\": 257, \"situations\": 258, \"lack\": 259, \"courage\": 260, \"coworkers\": 261, \"defend\": 262, \"situation\": 263, \"improvise\": 264, \"version\": 265, \"please\": 266, \"come\": 267, \"far\": 268, \"trying\": 269, \"convince\": 270, \"okay\": 271, \"always\": 272, \"blocking\": 273, \"forgetting\": 274, \"nobody\": 275, \"cares\": 276, \"they\": 277, \"never\": 278, \"truly\": 279, \"let\": 280, \"down\": 281, \"late\": 282, \"20s\": 283, \"two\": 284, \"jobs\": 285, \"under\": 286, \"belt\": 287, \"really\": 288, \"tend\": 289, \"worry\": 290, \"cause\": 291, \"boss\": 292, \"strict\": 293, \"stuck\": 294, \"position\": 295, \"burned\": 296, \"own\": 297, \"daughter\": 298, \"her\": 299, \"worthful\": 300, \"thinks\": 301, \"takes\": 302, \"granted\": 303, \"unimportant\": 304, \"thing\": 305, \"stare\": 306, \"look\": 307, \"lost\": 308, \"life\": 309, \"manic\": 310, \"was\": 311, \"recurring\": 312, \"nightmares\": 313, \"avoid\": 314, \"give\": 315, \"similar\": 316, \"take\": 317, \"son\\'s\": 318, \"miss\": 319, \"recognize\": 320, \"suggestions\": 321, \"managing\": 322, \"extremely\": 323, \"angry\": 324, \"furious\": 325, \"behaviour\": 326, \"irritated\": 327, \"irritating\": 328, \"behviour\": 329, \"great\": 330, \"today\": 331, \"cheerful\": 332, \"fine\": 333, \"nervous\": 334, \"secrets\": 335, \"mind\": 336, \"sure\": 337, \"long\": 338, \"keep\": 339, \"secret\": 340, \"it\\'s\": 341, \"becoming\": 342, \"annoying\": 343, \"making\": 344, \"first\": 345, \"times\": 346, \"while\": 347, \"other\": 348, \"nights\": 349, \"quite\": 350, \"tired\": 351, \"i\\\\u00e3\\\\u00a2\\\\u00e2\\\\u201a\\\\u00ac\\\\u00e2\\\\u201e\\\\u00a2m\": 352, \"noticing\": 353, \"increased\": 354, \"irritability\": 355, \"experiencing\": 356, \"hours\": 357, \"jaded\": 358, \"thoughts\": 359, \"focus\": 360, \"early\": 361, \"deadline\": 362, \"completed\": 363, \"submit\": 364, \"tomorrow\": 365, \"project\": 366, \"submission\": 367, \"started\": 368, \"deadlines\": 369, \"sick\": 370, \"workload\": 371, \"tips\": 372, \"\\'my\": 373, \"has\": 374, \"properly\": 375, \"missing\": 376, \"spark\": 377, \"got\": 378, \"listening\": 379, \"bored\": 380, \"paying\": 381, \"attention\": 382, \"keeps\": 383, \"stressing\": 384, \"towards\": 385, \"growing\": 386, \"six\": 387, \"years\": 388, \"almost\": 389, \"five\": 390, \"irrational\": 391, \"everyday\": 392, \"clean\": 393, \"mess\": 394, \"create\": 395, \"tiring\": 396, \"listens\": 397, \"defying\": 398, \"toddler\": 399, \"defies\": 400, \"authoritative\": 401, \"says\": 402, \"i\\'d\": 403, \"hear\": 404, \"ways\": 405, \"needing\": 406, \"difficult\": 407, \"kid\": 408, \"throwing\": 409, \"huge\": 410, \"pain\": 411, \"stay\": 412, \"bring\": 413, \"open\": 414, \"shut\": 415, \"insominia\": 416, \"insomnia\": 417, \"slept\": 418, \"seem\": 419, \"proper\": 420, \"past\": 421, \"few\": 422, \"stop\": 423, \"abusing\": 424, \"alcohol\": 425, \"addicted\": 426, \"smoking\": 427, \"rid\": 428, \"addiction\": 429, \"weed\": 430, \"addict\": 431, \"brother\": 432, \"dad\": 433, \"sister\": 434, \"would\": 435, \"be\": 436, \"gonna\": 437, \"thought\": 438, \"killing\": 439, \"die\": 440, \"commit\": 441, \"suicide\": 442, \"hatred\": 443, \"wish\": 444, \"turn\": 445, \"brings\": 446, \"certain\": 447, \"parents\": 448, \"relatives\": 449, \"boyfriend\": 450, \"girlfriend\": 451, \"financial\": 452, \"saying\": 453, \"make\": 454, \"sense\": 455, \"response\": 456, \"answer\": 457, \"stupid\": 458, \"crazy\": 459, \"let\\'s\": 460, \"depend\": 461, \"friendly\": 462, \"behind\": 463, \"back\": 464, \"hurts\": 465, \"real\": 466, \"ask\": 467, \"approaching\": 468, \"enough\": 469, \"series\": 470, \"tests\": 471, \"coming\": 472, \"study\": 473, \"grandfather\": 474, \"upsc\": 475, \"scared\": 476, \"guess\": 477, \"examination\": 478, \"shy\": 479, \"conversations\": 480, \"converse\": 481, \"network\": 482, \"interact\": 483, \"start\": 484, \"conversation\": 485, \"deserve\": 486, \"break\": 487, \"absolutely\": 488, \"said\": 489, \"another\": 490, \"important\": 491, \"importance\": 492, \"mentally\": 493, \"ill\": 494, \"mean\": 495, \"affect\": 496, \"causes\": 497, \"warning\": 498, \"signs\": 499, \"recover\": 500, \"appears\": 501, \"symptoms\": 502, \"disorder\": 503, \"options\": 504, \"available\": 505, \"involved\": 506, \"before\": 507, \"starting\": 508, \"new\": 509, \"medication\": 510, \"learn\": 511, \"group\": 512, \"prevent\": 513, \"unwell\": 514, \"maintain\": 515, \"connections\": 516, \"stress\": 517}'}"
      ]
     },
     "execution_count": 18,
     "metadata": {},
     "output_type": "execute_result"
    }
   ],
   "source": [
    "from tensorflow.keras.preprocessing.text import Tokenizer\n",
    "\n",
    "tokenizer = Tokenizer(lower=True, split=' ')\n",
    "tokenizer.fit_on_texts(df['patterns'])\n",
    "tokenizer.get_config()"
   ]
  },
  {
   "cell_type": "code",
   "execution_count": 19,
   "metadata": {
    "execution": {
     "iopub.execute_input": "2023-03-23T15:38:24.151311Z",
     "iopub.status.busy": "2023-03-23T15:38:24.150390Z",
     "iopub.status.idle": "2023-03-23T15:38:24.156389Z",
     "shell.execute_reply": "2023-03-23T15:38:24.155594Z",
     "shell.execute_reply.started": "2023-03-23T15:38:24.151267Z"
    }
   },
   "outputs": [
    {
     "name": "stdout",
     "output_type": "stream",
     "text": [
      "number of unique words =  517\n"
     ]
    }
   ],
   "source": [
    "vacab_size = len(tokenizer.word_index)\n",
    "print('number of unique words = ', vacab_size)"
   ]
  },
  {
   "cell_type": "code",
   "execution_count": 20,
   "metadata": {
    "execution": {
     "iopub.execute_input": "2023-03-23T15:38:31.304258Z",
     "iopub.status.busy": "2023-03-23T15:38:31.303580Z",
     "iopub.status.idle": "2023-03-23T15:38:31.767412Z",
     "shell.execute_reply": "2023-03-23T15:38:31.766209Z",
     "shell.execute_reply.started": "2023-03-23T15:38:31.304223Z"
    }
   },
   "outputs": [
    {
     "name": "stdout",
     "output_type": "stream",
     "text": [
      "X shape =  (246, 60)\n",
      "y shape =  (246,)\n",
      "num of classes =  72\n"
     ]
    }
   ],
   "source": [
    "from tensorflow.keras.preprocessing.sequence import pad_sequences\n",
    "from sklearn.preprocessing import LabelEncoder\n",
    "\n",
    "ptrn2seq = tokenizer.texts_to_sequences(df['patterns'])\n",
    "X = pad_sequences(ptrn2seq, padding='post')\n",
    "print('X shape = ', X.shape)\n",
    "\n",
    "lbl_enc = LabelEncoder()\n",
    "y = lbl_enc.fit_transform(df['tag'])\n",
    "print('y shape = ', y.shape)\n",
    "print('num of classes = ', len(np.unique(y)))"
   ]
  },
  {
   "cell_type": "markdown",
   "metadata": {},
   "source": [
    "# Build and Train Model"
   ]
  },
  {
   "cell_type": "code",
   "execution_count": 21,
   "metadata": {
    "execution": {
     "iopub.execute_input": "2023-03-23T15:38:37.829564Z",
     "iopub.status.busy": "2023-03-23T15:38:37.829155Z",
     "iopub.status.idle": "2023-03-23T15:38:41.906759Z",
     "shell.execute_reply": "2023-03-23T15:38:41.905213Z",
     "shell.execute_reply.started": "2023-03-23T15:38:37.829531Z"
    }
   },
   "outputs": [
    {
     "name": "stdout",
     "output_type": "stream",
     "text": [
      "Model: \"sequential_2\"\n",
      "_________________________________________________________________\n",
      " Layer (type)                Output Shape              Param #   \n",
      "=================================================================\n",
      " embedding_1 (Embedding)     (None, 60, 100)           51800     \n",
      "                                                                 \n",
      " lstm_3 (LSTM)               (None, 60, 32)            17024     \n",
      "                                                                 \n",
      " layer_normalization_5 (Laye  (None, 60, 32)           64        \n",
      " rNormalization)                                                 \n",
      "                                                                 \n",
      " lstm_4 (LSTM)               (None, 60, 32)            8320      \n",
      "                                                                 \n",
      " layer_normalization_6 (Laye  (None, 60, 32)           64        \n",
      " rNormalization)                                                 \n",
      "                                                                 \n",
      " lstm_5 (LSTM)               (None, 32)                8320      \n",
      "                                                                 \n",
      " layer_normalization_7 (Laye  (None, 32)               64        \n",
      " rNormalization)                                                 \n",
      "                                                                 \n",
      " dense_3 (Dense)             (None, 128)               4224      \n",
      "                                                                 \n",
      " layer_normalization_8 (Laye  (None, 128)              256       \n",
      " rNormalization)                                                 \n",
      "                                                                 \n",
      " dropout_2 (Dropout)         (None, 128)               0         \n",
      "                                                                 \n",
      " dense_4 (Dense)             (None, 128)               16512     \n",
      "                                                                 \n",
      " layer_normalization_9 (Laye  (None, 128)              256       \n",
      " rNormalization)                                                 \n",
      "                                                                 \n",
      " dropout_3 (Dropout)         (None, 128)               0         \n",
      "                                                                 \n",
      " dense_5 (Dense)             (None, 72)                9288      \n",
      "                                                                 \n",
      "=================================================================\n",
      "Total params: 116,192\n",
      "Trainable params: 116,192\n",
      "Non-trainable params: 0\n",
      "_________________________________________________________________\n",
      "You must install pydot (`pip install pydot`) and install graphviz (see instructions at https://graphviz.gitlab.io/download/) for plot_model/model_to_dot to work.\n"
     ]
    }
   ],
   "source": [
    "import tensorflow\n",
    "from tensorflow import keras\n",
    "from tensorflow.keras.models import Sequential\n",
    "from tensorflow.keras.layers import Input, Embedding, LSTM, LayerNormalization, Dense, Dropout\n",
    "from tensorflow.keras.utils import plot_model\n",
    "\n",
    "model = Sequential()\n",
    "model.add(Input(shape=(X.shape[1])))\n",
    "model.add(Embedding(input_dim=vacab_size+1, output_dim=100, mask_zero=True))\n",
    "model.add(LSTM(32, return_sequences=True))\n",
    "model.add(LayerNormalization())\n",
    "model.add(LSTM(32, return_sequences=True))\n",
    "model.add(LayerNormalization())\n",
    "model.add(LSTM(32))\n",
    "model.add(LayerNormalization())\n",
    "model.add(Dense(128, activation=\"relu\"))\n",
    "model.add(LayerNormalization())\n",
    "model.add(Dropout(0.2))\n",
    "model.add(Dense(128, activation=\"relu\"))\n",
    "model.add(LayerNormalization())\n",
    "model.add(Dropout(0.2))\n",
    "model.add(Dense(len(np.unique(y)), activation=\"softmax\"))\n",
    "model.compile(optimizer='adam', loss=\"sparse_categorical_crossentropy\", metrics=['accuracy'])\n",
    "\n",
    "model.summary()\n",
    "plot_model(model, show_shapes=True)"
   ]
  },
  {
   "cell_type": "code",
   "execution_count": 22,
   "metadata": {
    "execution": {
     "iopub.execute_input": "2023-03-23T15:38:52.049135Z",
     "iopub.status.busy": "2023-03-23T15:38:52.048560Z",
     "iopub.status.idle": "2023-03-23T15:39:28.119405Z",
     "shell.execute_reply": "2023-03-23T15:39:28.118254Z",
     "shell.execute_reply.started": "2023-03-23T15:38:52.049082Z"
    }
   },
   "outputs": [
    {
     "name": "stdout",
     "output_type": "stream",
     "text": [
      "Epoch 1/50\n",
      "25/25 [==============================] - 24s 107ms/step - loss: 4.8786 - accuracy: 0.0122\n",
      "Epoch 2/50\n",
      "25/25 [==============================] - 3s 107ms/step - loss: 3.8596 - accuracy: 0.1098\n",
      "Epoch 3/50\n",
      "25/25 [==============================] - 3s 107ms/step - loss: 3.2304 - accuracy: 0.2073\n",
      "Epoch 4/50\n",
      "25/25 [==============================] - 3s 107ms/step - loss: 2.7392 - accuracy: 0.3496\n",
      "Epoch 5/50\n",
      "25/25 [==============================] - 3s 112ms/step - loss: 2.1989 - accuracy: 0.4634\n",
      "Epoch 6/50\n",
      "25/25 [==============================] - 3s 108ms/step - loss: 2.0260 - accuracy: 0.4959\n",
      "Epoch 7/50\n",
      "25/25 [==============================] - 3s 111ms/step - loss: 1.6135 - accuracy: 0.6016\n",
      "Epoch 8/50\n",
      "25/25 [==============================] - 3s 109ms/step - loss: 1.2453 - accuracy: 0.7317\n",
      "Epoch 9/50\n",
      "25/25 [==============================] - 3s 110ms/step - loss: 1.0733 - accuracy: 0.7520\n",
      "Epoch 10/50\n",
      "25/25 [==============================] - 3s 107ms/step - loss: 0.8800 - accuracy: 0.8211\n",
      "Epoch 11/50\n",
      "25/25 [==============================] - 3s 108ms/step - loss: 0.6446 - accuracy: 0.8862\n",
      "Epoch 12/50\n",
      "25/25 [==============================] - 3s 108ms/step - loss: 0.6087 - accuracy: 0.8780\n",
      "Epoch 13/50\n",
      "25/25 [==============================] - 3s 107ms/step - loss: 0.4627 - accuracy: 0.9146\n",
      "Epoch 14/50\n",
      "25/25 [==============================] - 3s 110ms/step - loss: 0.3796 - accuracy: 0.9472\n",
      "Epoch 15/50\n",
      "25/25 [==============================] - 3s 117ms/step - loss: 0.2864 - accuracy: 0.9715\n",
      "Epoch 16/50\n",
      "25/25 [==============================] - 3s 125ms/step - loss: 0.2348 - accuracy: 0.9878\n",
      "Epoch 17/50\n",
      "25/25 [==============================] - 3s 109ms/step - loss: 0.2123 - accuracy: 0.9797\n",
      "Epoch 18/50\n",
      "25/25 [==============================] - 3s 118ms/step - loss: 0.1588 - accuracy: 0.9919\n",
      "Epoch 19/50\n",
      "25/25 [==============================] - 3s 114ms/step - loss: 0.1288 - accuracy: 0.9837\n",
      "Epoch 20/50\n",
      "25/25 [==============================] - 3s 110ms/step - loss: 0.1240 - accuracy: 0.9919\n",
      "Epoch 21/50\n",
      "25/25 [==============================] - 3s 114ms/step - loss: 0.1552 - accuracy: 0.9837\n"
     ]
    }
   ],
   "source": [
    "model_history = model.fit(x=X,\n",
    "                          y=y,\n",
    "                          batch_size=10,\n",
    "                          callbacks=[tensorflow.keras.callbacks.EarlyStopping(monitor='accuracy', patience=3)],\n",
    "                          epochs=50)"
   ]
  },
  {
   "cell_type": "code",
   "execution_count": null,
   "metadata": {},
   "outputs": [],
   "source": [
    "X.shape[1]"
   ]
  },
  {
   "cell_type": "code",
   "execution_count": null,
   "metadata": {},
   "outputs": [],
   "source": [
    "model.save('C:/Users/Kavi priya/Desktop/mental_health_chatbot/nlp_model1')"
   ]
  },
  {
   "cell_type": "markdown",
   "metadata": {},
   "source": [
    "# Model Testing"
   ]
  },
  {
   "cell_type": "markdown",
   "metadata": {},
   "source": [
    "First we should apply some text preprocessing on the pattern that is passed to the function. Next we convert the text to vector of numbers and give it to model for prediction its tag; Finally based on the tag, we choose a answer(response) randomly and return it."
   ]
  },
  {
   "cell_type": "code",
   "execution_count": 23,
   "metadata": {
    "execution": {
     "iopub.execute_input": "2023-03-23T15:39:43.760682Z",
     "iopub.status.busy": "2023-03-23T15:39:43.760300Z",
     "iopub.status.idle": "2023-03-23T15:39:43.771305Z",
     "shell.execute_reply": "2023-03-23T15:39:43.769922Z",
     "shell.execute_reply.started": "2023-03-23T15:39:43.760650Z"
    }
   },
   "outputs": [],
   "source": [
    "import re\n",
    "import random\n",
    "\n",
    "def generate_answer(pattern): \n",
    "    text = []\n",
    "    txt = re.sub('[^a-zA-Z\\']', ' ', pattern)\n",
    "    txt = txt.lower()\n",
    "    txt = txt.split()\n",
    "    txt = \" \".join(txt)\n",
    "    text.append(txt)\n",
    "        \n",
    "    x_test = tokenizer.texts_to_sequences(text)\n",
    "    x_test = np.array(x_test).squeeze()\n",
    "    x_test = pad_sequences([x_test], padding='post',maxlen=X.shape[1])\n",
    "    y_pred = model.predict(x_test)\n",
    "    y_pred = y_pred.argmax()\n",
    "    tag = lbl_enc.inverse_transform([y_pred])[0]\n",
    "    responses = df[df['tag'] == tag]['responses'].values[0]\n",
    "\n",
    "   # print(\"you: {}\".format(pattern))\n",
    "    #print(\"model: {}\".format(random.choice(responses)))\n",
    "    print(random.choice(responses))"
   ]
  },
  {
   "cell_type": "code",
   "execution_count": 24,
   "metadata": {
    "execution": {
     "iopub.execute_input": "2023-03-23T15:40:53.437959Z",
     "iopub.status.busy": "2023-03-23T15:40:53.437542Z",
     "iopub.status.idle": "2023-03-23T15:40:53.506700Z",
     "shell.execute_reply": "2023-03-23T15:40:53.505448Z",
     "shell.execute_reply.started": "2023-03-23T15:40:53.437927Z"
    }
   },
   "outputs": [
    {
     "name": "stdout",
     "output_type": "stream",
     "text": [
      " Something to remember about anxiety is that it's a useful and necessary response to stressors, and we all have a level of anxiety that falls somewhere on the spectrum from very slight to very overwhelming. Anxiety is our brain's way of prompting us to deal with the stress in our lives by getting us geared up for action.Some helpful ways of managing anxiety are actually very simple. The first I'd recommend is a calm breathing technique - breathe in for 4-5 seconds, and then out for 7-8 seconds. Try to repeat this for 3-5 minutes. Another suggestion is to pay closer attention in the moments you feel the physical symptoms of anxiety and see if you can describe - without judging - the sensations to yourself. Try to be very specific, such as 'my palms are feeling very sweaty, and I can feel the slight tightness and fluttering in my belly of the butterflies.'Then try to sit with these sensations without deciding if they are good or bad - just experiencing them as intentionally as possible. &nbsp;Combining the calm breathing with this technique can also be very helpful.&nbsp;If you feel that these techniques don't help and your anxiety about everyday stressors are inhibiting you from being able to engage in life the way you want to, then I'd highly recommend going for an assessment or even just consultation with a professional. This professional can help you determine if therapy/counseling would be helpful for you to develop additional skills for managing those interfering anxiety symptoms.\n"
     ]
    }
   ],
   "source": [
    "generate_answer('I am bad at talking with people,I want to make myselves better at conversations')"
   ]
  },
  {
   "cell_type": "code",
   "execution_count": 195,
   "metadata": {},
   "outputs": [
    {
     "name": "stdout",
     "output_type": "stream",
     "text": [
      "Thinking about the same thing will lead to depression.You need to divert yourself by occupying yourselves with activities.I advice meditation and breathing techniques to relieve pressure in your mind\n"
     ]
    }
   ],
   "source": [
    "generate_answer('I cant take stuff anymore,I am gonna kill myself')"
   ]
  },
  {
   "cell_type": "code",
   "execution_count": 196,
   "metadata": {
    "execution": {
     "iopub.execute_input": "2023-03-23T15:42:05.838140Z",
     "iopub.status.busy": "2023-03-23T15:42:05.836951Z",
     "iopub.status.idle": "2023-03-23T15:42:06.058119Z",
     "shell.execute_reply": "2023-03-23T15:42:06.056634Z",
     "shell.execute_reply.started": "2023-03-23T15:42:05.838097Z"
    }
   },
   "outputs": [
    {
     "name": "stdout",
     "output_type": "stream",
     "text": [
      "Cool\n"
     ]
    }
   ],
   "source": [
    "generate_answer('I am kavipriya,an engineering graduate from VIT')"
   ]
  },
  {
   "cell_type": "code",
   "execution_count": 197,
   "metadata": {
    "scrolled": true
   },
   "outputs": [
    {
     "name": "stdout",
     "output_type": "stream",
     "text": [
      "One of the greatest ways that we can promote ourselves is by learning how to assert ourselves. Despite what most people think of when they hear the word assertive, assertive communication is one of the best ways to manage interpersonal conflict as well as maintain personal boundaries.Once we become comfortable with acknowledging our boundaries, there is usually a follow-up whereby we realize that we have the right to those boundaries. In effect, assertiveness communication becomes it's own self-motivating force in managing positive self-esteem. You may want to invest in a workbook that can help you to develop these skills on your own, or work directly with a therapist to develop them in a safe situation. &nbsp; One of the Workbooks that I have found to be very helpful is, 'The Assertiveness Workbook: How to Express your Ideas and Stand Up for Yourself at Work and in Relationships' by Randy J Paterson.\n"
     ]
    }
   ],
   "source": [
    "generate_answer('I want to look confident before people,I want to become a better version of myself')"
   ]
  },
  {
   "cell_type": "code",
   "execution_count": 198,
   "metadata": {},
   "outputs": [
    {
     "name": "stdout",
     "output_type": "stream",
     "text": [
      "I suggest that you work on emotional awareness.Ã‚n Emotional awareness basically means knowing what you are feeling and why.Emotional awareness also means that you can identify the link between the way you are feeling and your actions. In other words knowing that your feelings dictate what you do.Often feelings of hurt or insecurity can come out as anger if we cannot properly identify and express the feelings.Being emotionally aware also means that you are able to express your feelings to others.  Being unable to do so leads to feelings of frustration and being misunderstood.Many people for many different reasons are not in touch with their emotions.  For example, men traditionally have been brought up taught to not express sadness or weakness.  Therefore, many men learned to turn feelings of sadness, insecurities, or fears into anger and express these feelings as anger.  Being taught not to feel a certain emotion does not make that emotion disappear.  Instead it makes us learn how to express it in other, incorrect, ways.  If a man never learns to say I am sad or that really hurts my feelings and instead lashes out in anger, then the response they get from those around them will be to the anger and not a response to the underlying true feeling, which will leave the man feeling alone and misunderstood.You can control yourself and not explode.  Walk away, remove yourself from the situation, do whatever you have to do to not lash out.  Instead of reacting the way you normally would, go somewhere by yourself and think about what just happened and try to understand why such a simple thing upset you.  What is the real feeling driving these outbursts?  Maybe you can begin to recognize an underlying pattern.It might help to keep an anger journal.  Write down everything that gets you upset.  That might help you see a pattern and pinpoint what may be setting you off.  Talking with a therapist about this would be beneficial in helping pinpoint the underlying cause of the outbursts you are experience\n"
     ]
    }
   ],
   "source": [
    "generate_answer('I get very angry with brother,I am rude to him always,I realised I need to change')"
   ]
  },
  {
   "cell_type": "code",
   "execution_count": 199,
   "metadata": {},
   "outputs": [
    {
     "name": "stdout",
     "output_type": "stream",
     "text": [
      "Hatred is a common feeling.But if this is iterating feeling every day,you need to certainly change!.When there are a lot of things you can't change ,you can change your views on them.There is always 2 sides to a coin,so think positively and treat everything with a calm and loving mind.\n"
     ]
    }
   ],
   "source": [
    "generate_answer('I hate you')"
   ]
  },
  {
   "cell_type": "code",
   "execution_count": 200,
   "metadata": {},
   "outputs": [
    {
     "name": "stdout",
     "output_type": "stream",
     "text": [
      "I see. Exams are just an estimation of your knowledge,its nothing to get scared of,there are more things in life that you might see and get scared!.Prepare well,ensure proper scheduling time and you are good to go!.\n"
     ]
    }
   ],
   "source": [
    "generate_answer('I am having my exams next week,and I am scared since I have not prepared much right now')"
   ]
  },
  {
   "cell_type": "code",
   "execution_count": 201,
   "metadata": {},
   "outputs": [
    {
     "name": "stdout",
     "output_type": "stream",
     "text": [
      "Anyone who wants to change their life path, eventually will be successful in this.How to stop addiction involves a few steps, most of them time consuming, with slow progress and very often with tremendous emotional pain.The basic path is to figure out what motivates you to drink too much or be addicted to weed.Almost always, addictions are rooted in the person having suffered feeling deeply ignored, humiliated, shamed, invisible, nothing very pleasant, since a very young age, usually starting around 18 months.Most often addicts are sensitive people who have been emotionally overburdened by the grownups in their family.With no outlet for emotional expression or nurturing, the frustration goes inward until the emotional pain feels very big and without an outlet.So, people mask and numb by substances, whether this is food, chocolate, work, alcohol, weed.Therapy that is humanistic based, is a better fit than one which is drug oriented and diagnosis oriented.If you'd like getting serious about knowing who you are, including any unfair treatment of you during your growing up years, you can do this.Once you have a stronger self-respect and awareness, you would naturally avoid substances because they harm people. &nbsp;Harming oneself is the opposite of self-respect.<br>Also, about your diagnosis, it may not be true at all.The US healthcare system loves selling drugs to people and clinicians in agencies and clinics are encouraged to find something wrong with people in order to find a new customer who will take drugs.See if you can find a therapist who is independent minded, and therefore free to interact therapeutically with you as a human being, not as a potential customer if they are able to label you as having something'wrong'.This simply continues the long line of being shamed by others that created the addiction problem in the first place.Good luck!\n"
     ]
    }
   ],
   "source": [
    "generate_answer('I am addicted to smoking,how do I get rid of this addiction? ')"
   ]
  },
  {
   "cell_type": "code",
   "execution_count": 159,
   "metadata": {},
   "outputs": [
    {
     "name": "stdout",
     "output_type": "stream",
     "text": [
      "Feeling powerless is something parents are wise to get used to; there's a creature in the home whose job it is to find and use their power in the family and in the world. Of course your child defies you, and that's healthy. I worry more about the overly compliant ones.You have to show her clearly where the lines are. I'll give you some tips.First, remind yourself that it's the child's job to learn what the rules are, and where her power is.Make sure that the kid deserves a negative comment or a situation if the kid does something disrespectful. Don't be so surprised when the kid wants it their way. If we go through our days being ready and prepared for these beautiful creatures to have minds of their own, we're less caught off guard when it happens.Avoid situations that invite power struggles. Any time you tell your daughter 'do this now', you set up a power struggle. The good thing is that she's young enough you can pick her up; now is the time to teach her that mom's (or dad's) word means something. So, if you say 'let's get you dressed', then be prepared to pick her up right away and show her that when you say something will happen, you can make it happen. And I'm talking about gently picking her up here...not roughly. Pick your battles; only give instructions when you have the power to make it happen.Give her choices, so she can see her power. Instead of opening her drawer and asking what she wants to wear, give her two choices. Here's an example...she's on the ipad and you say ipad time is over. She says 'no'. You can say 'ipad time is over. If you put it down, you can play later. If I have to take it away, you don't play it later.' The choice is hers. Then follow through.'When...then' statements are really helpful. Your child asks for something. Instead of saying no, try 'as soon as the toys are picked up, we can have a snack'. You're simply a pleasant parent who wants the same thing they do...but they have to earn it.&nbsp;Staying calm yourself is the key, because then at least you will feel in control of yourself, which is the ultimate goal. Use self-talk to calm yourself. Remind yourself her behaviour is normal and healthy. Breathe through a moment in which you would have reacted, and it will be over by the time the breath is done. You can give yourself time to think before you make parenting decisions. Time is a useful tool not enough parents use. Good luck!\n"
     ]
    }
   ],
   "source": [
    "generate_answer('My child is constantly irritating,He is throwing a mess everywhere he goes')"
   ]
  },
  {
   "cell_type": "code",
   "execution_count": 202,
   "metadata": {},
   "outputs": [
    {
     "name": "stdout",
     "output_type": "stream",
     "text": [
      "Feeling comfortable with the professional you or your child is working with is critical to the success of your treatment. Finding the professional who best fits your needs may require some research.\n"
     ]
    }
   ],
   "source": [
    "generate_answer('I am anxious about my health always,how do i relieve this?')"
   ]
  },
  {
   "cell_type": "code",
   "execution_count": 203,
   "metadata": {},
   "outputs": [
    {
     "name": "stdout",
     "output_type": "stream",
     "text": [
      "This is momentary ,you will get over it soon.Now watch a good movie ,forget the world and probably eat an icecream!\n"
     ]
    }
   ],
   "source": [
    "generate_answer('I am really sad today')"
   ]
  },
  {
   "cell_type": "code",
   "execution_count": 204,
   "metadata": {},
   "outputs": [
    {
     "name": "stdout",
     "output_type": "stream",
     "text": [
      "I am sorry you are struggling!You maybe experiencing intrusive thoughts.These are thoughts that seem to come from no where and victimise us.I would recommend you to do things in a prioritised manner and drop some things if they are not that necessary,Its important to feel relaxed when you work!.\n"
     ]
    }
   ],
   "source": [
    "generate_answer('I am extremely sad today,lots of bad things happened to me today,i hurt a cat and I failed in my exams')"
   ]
  },
  {
   "cell_type": "code",
   "execution_count": 205,
   "metadata": {},
   "outputs": [
    {
     "name": "stdout",
     "output_type": "stream",
     "text": [
      " Something to remember about anxiety is that it's a useful and necessary response to stressors, and we all have a level of anxiety that falls somewhere on the spectrum from very slight to very overwhelming. Anxiety is our brain's way of prompting us to deal with the stress in our lives by getting us geared up for action.Some helpful ways of managing anxiety are actually very simple. The first I'd recommend is a calm breathing technique - breathe in for 4-5 seconds, and then out for 7-8 seconds. Try to repeat this for 3-5 minutes. Another suggestion is to pay closer attention in the moments you feel the physical symptoms of anxiety and see if you can describe - without judging - the sensations to yourself. Try to be very specific, such as 'my palms are feeling very sweaty, and I can feel the slight tightness and fluttering in my belly of the butterflies.'Then try to sit with these sensations without deciding if they are good or bad - just experiencing them as intentionally as possible. &nbsp;Combining the calm breathing with this technique can also be very helpful.&nbsp;If you feel that these techniques don't help and your anxiety about everyday stressors are inhibiting you from being able to engage in life the way you want to, then I'd highly recommend going for an assessment or even just consultation with a professional. This professional can help you determine if therapy/counseling would be helpful for you to develop additional skills for managing those interfering anxiety symptoms.\n"
     ]
    }
   ],
   "source": [
    "generate_answer('I am nervous about my practical exam today')"
   ]
  },
  {
   "cell_type": "code",
   "execution_count": 206,
   "metadata": {},
   "outputs": [
    {
     "name": "stdout",
     "output_type": "stream",
     "text": [
      "Feeling powerless is something parents are wise to get used to; there's a creature in the home whose job it is to find and use their power in the family and in the world. Of course your child defies you, and that's healthy. I worry more about the overly compliant ones.You have to show her clearly where the lines are. I'll give you some tips.First, remind yourself that it's the child's job to learn what the rules are, and where her power is.Make sure that the kid deserves a negative comment or a situation if the kid does something disrespectful. Don't be so surprised when the kid wants it their way. If we go through our days being ready and prepared for these beautiful creatures to have minds of their own, we're less caught off guard when it happens.Avoid situations that invite power struggles. Any time you tell your daughter 'do this now', you set up a power struggle. The good thing is that she's young enough you can pick her up; now is the time to teach her that mom's (or dad's) word means something. So, if you say 'let's get you dressed', then be prepared to pick her up right away and show her that when you say something will happen, you can make it happen. And I'm talking about gently picking her up here...not roughly. Pick your battles; only give instructions when you have the power to make it happen.Give her choices, so she can see her power. Instead of opening her drawer and asking what she wants to wear, give her two choices. Here's an example...she's on the ipad and you say ipad time is over. She says 'no'. You can say 'ipad time is over. If you put it down, you can play later. If I have to take it away, you don't play it later.' The choice is hers. Then follow through.'When...then' statements are really helpful. Your child asks for something. Instead of saying no, try 'as soon as the toys are picked up, we can have a snack'. You're simply a pleasant parent who wants the same thing they do...but they have to earn it.&nbsp;Staying calm yourself is the key, because then at least you will feel in control of yourself, which is the ultimate goal. Use self-talk to calm yourself. Remind yourself her behaviour is normal and healthy. Breathe through a moment in which you would have reacted, and it will be over by the time the breath is done. You can give yourself time to think before you make parenting decisions. Time is a useful tool not enough parents use. Good luck!\n"
     ]
    }
   ],
   "source": [
    "generate_answer('Everyday I have to clean up this mess my children create.Its tiring')"
   ]
  },
  {
   "cell_type": "code",
   "execution_count": 207,
   "metadata": {},
   "outputs": [
    {
     "name": "stdout",
     "output_type": "stream",
     "text": [
      "Part of handling stress is making sure that your perception of the stress is accurate. Sometimes stress can seem more than it really is. One thing that I encourage my clients to do is to ask themselves, 'What is this stressor really about?' Simplifying stress is a key to minimizing stress and leads to feeling less stressed out.\n"
     ]
    }
   ],
   "source": [
    "generate_answer('My children keep tormenting me on a daily basis,they do the exact opposite of whatever I say')"
   ]
  },
  {
   "cell_type": "code",
   "execution_count": 208,
   "metadata": {},
   "outputs": [
    {
     "name": "stdout",
     "output_type": "stream",
     "text": [
      "Anyone who wants to change their life path, eventually will be successful in this.How to stop addiction involves a few steps, most of them time consuming, with slow progress and very often with tremendous emotional pain.The basic path is to figure out what motivates you to drink too much or be addicted to weed.Almost always, addictions are rooted in the person having suffered feeling deeply ignored, humiliated, shamed, invisible, nothing very pleasant, since a very young age, usually starting around 18 months.Most often addicts are sensitive people who have been emotionally overburdened by the grownups in their family.With no outlet for emotional expression or nurturing, the frustration goes inward until the emotional pain feels very big and without an outlet.So, people mask and numb by substances, whether this is food, chocolate, work, alcohol, weed.Therapy that is humanistic based, is a better fit than one which is drug oriented and diagnosis oriented.If you'd like getting serious about knowing who you are, including any unfair treatment of you during your growing up years, you can do this.Once you have a stronger self-respect and awareness, you would naturally avoid substances because they harm people. &nbsp;Harming oneself is the opposite of self-respect.<br>Also, about your diagnosis, it may not be true at all.The US healthcare system loves selling drugs to people and clinicians in agencies and clinics are encouraged to find something wrong with people in order to find a new customer who will take drugs.See if you can find a therapist who is independent minded, and therefore free to interact therapeutically with you as a human being, not as a potential customer if they are able to label you as having something'wrong'.This simply continues the long line of being shamed by others that created the addiction problem in the first place.Good luck!\n"
     ]
    }
   ],
   "source": [
    "generate_answer('I have a very low self esteem,I look bad and ugly')"
   ]
  },
  {
   "cell_type": "code",
   "execution_count": 209,
   "metadata": {},
   "outputs": [
    {
     "name": "stdout",
     "output_type": "stream",
     "text": [
      "I am here for you!,this might be a momentary feeling but if not as social creatures, we humans all long for deep human connection. To know that we belong and are part of something larger. It is so important to us that when we feel alone - it can feel almost unbearable. You are not alone in feeling alone. While it can take time to build deep relationships there are moments in each day where we have the opportunity to interact with other people who may also feel lonely and scared and want to be seen and acknowledged. I wonder what it might be like for you if you took on an experiment of trying to really see the people around you and make little attempts to acknowledge and connect with them - fellow humans on this journey of life. A 'good morning' at the bus stop or really looking at the person who you buy your groceries from or thanking or complimenting someone for something that you notice and appreciate. While this is not a substitute for close relationships these moments of real connection with the people who we share our communities with can go a long way to realizing that we are not as alone as we may have thought.\n"
     ]
    }
   ],
   "source": [
    "generate_answer('My husband is always working and never at home,I feel like we have lost our connection')"
   ]
  },
  {
   "cell_type": "code",
   "execution_count": 210,
   "metadata": {},
   "outputs": [
    {
     "name": "stdout",
     "output_type": "stream",
     "text": [
      "I'm very sorry. Let's try that again\n"
     ]
    }
   ],
   "source": [
    "generate_answer('What do you know about mental health')"
   ]
  },
  {
   "cell_type": "code",
   "execution_count": 211,
   "metadata": {},
   "outputs": [
    {
     "name": "stdout",
     "output_type": "stream",
     "text": [
      "Sadness is a normal reaction to a loss, disappointment, problems, or other difficult situations. Feeling sad from time to time is just another part of being human. In these cases, feelings of sadness go away quickly and you can go about your daily life. Other ways to talk about sadness might be feeling low, feeling down, or feeling blue.A person may say they are feeling depressed, but if it goes away on its own and doesn't impact life in a big way, it probably isn't the illness of depression. Depression is a mental illness that affects your mood, the way you understand yourself, and the way you understand and relate to things around you. It can also go by different names, such as clinical depression, major depressive disorder, or major depression. Depression can come up for no reason, and it lasts for a long time. It's much more than sadness or low mood. People who experience depression may feel worthless or hopeless. They may feel unreasonable guilty. Some people may experience depression as anger or irritability. It may be hard to concentrate or make decisions. Most people lose interest in things that they used to enjoy and may isolate themselves from others. There are also physical signs of depression, such as problems with sleep, appetite and energy and unexplainable aches or pains. Some may experience difficult thoughts about death or ending their life (suicide). Depression lasts longer than two weeks, doesn't usually go away on its own, and impacts your life. It's a real illness, and it is very treatable. It's important to seek help if you're concerned about depression.\n"
     ]
    }
   ],
   "source": [
    "generate_answer('What is the difference between sadness and depression')"
   ]
  },
  {
   "cell_type": "code",
   "execution_count": 212,
   "metadata": {},
   "outputs": [
    {
     "name": "stdout",
     "output_type": "stream",
     "text": [
      "Anyone who wants to change their life path, eventually will be successful in this.How to stop addiction involves a few steps, most of them time consuming, with slow progress and very often with tremendous emotional pain.The basic path is to figure out what motivates you to drink too much or be addicted to weed.Almost always, addictions are rooted in the person having suffered feeling deeply ignored, humiliated, shamed, invisible, nothing very pleasant, since a very young age, usually starting around 18 months.Most often addicts are sensitive people who have been emotionally overburdened by the grownups in their family.With no outlet for emotional expression or nurturing, the frustration goes inward until the emotional pain feels very big and without an outlet.So, people mask and numb by substances, whether this is food, chocolate, work, alcohol, weed.Therapy that is humanistic based, is a better fit than one which is drug oriented and diagnosis oriented.If you'd like getting serious about knowing who you are, including any unfair treatment of you during your growing up years, you can do this.Once you have a stronger self-respect and awareness, you would naturally avoid substances because they harm people. &nbsp;Harming oneself is the opposite of self-respect.<br>Also, about your diagnosis, it may not be true at all.The US healthcare system loves selling drugs to people and clinicians in agencies and clinics are encouraged to find something wrong with people in order to find a new customer who will take drugs.See if you can find a therapist who is independent minded, and therefore free to interact therapeutically with you as a human being, not as a potential customer if they are able to label you as having something'wrong'.This simply continues the long line of being shamed by others that created the addiction problem in the first place.Good luck!\n"
     ]
    }
   ],
   "source": [
    "generate_answer('How can we get treatment for mental health problems')"
   ]
  },
  {
   "cell_type": "code",
   "execution_count": 213,
   "metadata": {},
   "outputs": [
    {
     "name": "stdout",
     "output_type": "stream",
     "text": [
      "Anyone who wants to change their life path, eventually will be successful in this.How to stop addiction involves a few steps, most of them time consuming, with slow progress and very often with tremendous emotional pain.The basic path is to figure out what motivates you to drink too much or be addicted to weed.Almost always, addictions are rooted in the person having suffered feeling deeply ignored, humiliated, shamed, invisible, nothing very pleasant, since a very young age, usually starting around 18 months.Most often addicts are sensitive people who have been emotionally overburdened by the grownups in their family.With no outlet for emotional expression or nurturing, the frustration goes inward until the emotional pain feels very big and without an outlet.So, people mask and numb by substances, whether this is food, chocolate, work, alcohol, weed.Therapy that is humanistic based, is a better fit than one which is drug oriented and diagnosis oriented.If you'd like getting serious about knowing who you are, including any unfair treatment of you during your growing up years, you can do this.Once you have a stronger self-respect and awareness, you would naturally avoid substances because they harm people. &nbsp;Harming oneself is the opposite of self-respect.<br>Also, about your diagnosis, it may not be true at all.The US healthcare system loves selling drugs to people and clinicians in agencies and clinics are encouraged to find something wrong with people in order to find a new customer who will take drugs.See if you can find a therapist who is independent minded, and therefore free to interact therapeutically with you as a human being, not as a potential customer if they are able to label you as having something'wrong'.This simply continues the long line of being shamed by others that created the addiction problem in the first place.Good luck!\n"
     ]
    }
   ],
   "source": [
    "generate_answer('How can I find a support group')"
   ]
  },
  {
   "cell_type": "code",
   "execution_count": 214,
   "metadata": {},
   "outputs": [
    {
     "name": "stdout",
     "output_type": "stream",
     "text": [
      "Oh i see. That's great.\n"
     ]
    }
   ],
   "source": [
    "generate_answer('I am happy and feeling great today!')"
   ]
  },
  {
   "cell_type": "code",
   "execution_count": 215,
   "metadata": {},
   "outputs": [
    {
     "name": "stdout",
     "output_type": "stream",
     "text": [
      "I am here for you!,this might be a momentary feeling but if not as social creatures, we humans all long for deep human connection. To know that we belong and are part of something larger. It is so important to us that when we feel alone - it can feel almost unbearable. You are not alone in feeling alone. While it can take time to build deep relationships there are moments in each day where we have the opportunity to interact with other people who may also feel lonely and scared and want to be seen and acknowledged. I wonder what it might be like for you if you took on an experiment of trying to really see the people around you and make little attempts to acknowledge and connect with them - fellow humans on this journey of life. A 'good morning' at the bus stop or really looking at the person who you buy your groceries from or thanking or complimenting someone for something that you notice and appreciate. While this is not a substitute for close relationships these moments of real connection with the people who we share our communities with can go a long way to realizing that we are not as alone as we may have thought.\n"
     ]
    }
   ],
   "source": [
    "generate_answer('I kind of feel lonely today although many people are around me')"
   ]
  },
  {
   "cell_type": "code",
   "execution_count": 216,
   "metadata": {},
   "outputs": [
    {
     "name": "stdout",
     "output_type": "stream",
     "text": [
      "Part of handling stress is making sure that your perception of the stress is accurate. Sometimes stress can seem more than it really is. One thing that I encourage my clients to do is to ask themselves, 'What is this stressor really about?' Simplifying stress is a key to minimizing stress and leads to feeling less stressed out.\n"
     ]
    }
   ],
   "source": [
    "generate_answer('I am very nervous for a few days now,I have my exam results coming out,I havent really written that well')"
   ]
  },
  {
   "cell_type": "code",
   "execution_count": 217,
   "metadata": {},
   "outputs": [
    {
     "name": "stdout",
     "output_type": "stream",
     "text": [
      "I'm so glad you wrote. Thousands of people are having this same feeling right now. I'm glad you're paying attention to it.When you first meet someone, there are all kinds of sparkly feelings and you both do and say lots of things to cement the attachment and create deep intimacy and connection. Then what happens is because we have that connection established, we instinctively cut back on those loving behaviours because we don't have to work hard to earn their love anymore. That sparkly feeling typically lasts a few years (long enough to procreate and keep the human race going), and then it wears off a bit, and you end up looking at each other thinking 'how come I don't feel the same anymore?'Mostly (not always, and I'll get to that in a minute) all that this means is you've stopped doing all those loving things you used to do! It's as though you filled the car with gas, you've run out of gas now, and you're forgetting to put more in!The first clear solution to this feeling is to bring back more of your own loving behaviours that you've cut back on. Act lovingly, and you will likely regain those feelings. Talk to your partner about this. It's okay to say 'do you remember we used to do X,Y and Z? Can we do that again? Can I get more of the foot rubs you used to give me?' Ask for what you want (instead of complaining). What are your 'love languages'? What are your partner's?&nbsp;Marriages need to be fed. It's that simple. Many things get in the way...children, jobs, but mostly complacency. Get active with your love!Okay, now, you might read this and think 'that's not what's happening'. That's a cue to talk to someone, like a therapist, about your feelings. People do grow and change and sometimes relationships don't fit anymore. But these are huge decisions, not to be made lightly.I wish you happiness.\n"
     ]
    }
   ],
   "source": [
    "generate_answer('My wife has not been talking with me properly lately,feels like we are missing the spark we had when we got married')"
   ]
  },
  {
   "cell_type": "code",
   "execution_count": 218,
   "metadata": {},
   "outputs": [
    {
     "name": "stdout",
     "output_type": "stream",
     "text": [
      "Hello, and thank you for your question. Sleep problems, including insomnia, are really common for people and so many people suffer from them. Here are a few things to consider or to try: 1. Have you changed or started taking any new medication lately? Medications can certainly affect your sleep and some can even cause vivid or frightening dreams. If you are taking a new medication, talk to your provider about the nightmares, this may be the cause.2. Stress can certainly increase our difficulty with sleep and can also begin to affect our dream states. The dreams may not make much sense, but then again even good dreams don't always make much sense. Ask yourself, do I have any new or renewed stressors in my life? Work, school, relationships, health.... all of these areas&nbsp;and many more are places where stress can hide out. If this is the case, talk with your provider or consider seeing a counselor who may be able to help. 3. Something to consider is that once we start to have anxiety or stress about something, we can begin to obsess about it. My guess is that going to bed for sleep is no longer a pleasant thing for you. Your stress and fear of what may happen when you sleep could start way before you actually go to bed. This could increase your chances of having another bad dream. Try relaxation techniques before going to bed. If you have YouTube, you can pull up 'Guided Meditation for Sleep' exercises to help you relax. There are many different ones to choose from. You may also want to try deep breathing.<br>4. There are self-help ideas for managing bad nightmares. If you Google search 'Nightmare Rescripting' or 'Nightmare Exposure' you may find some ideas and instructions on how to manage dreams. I hope these ideas help. Be well.\n"
     ]
    }
   ],
   "source": [
    "generate_answer('I am having sleeping problems due to anxiety')"
   ]
  },
  {
   "cell_type": "code",
   "execution_count": 219,
   "metadata": {},
   "outputs": [
    {
     "name": "stdout",
     "output_type": "stream",
     "text": [
      "First of all, exercise is always beneficial for your physical and emotional health. That's great that you have added this in your routine. Have you also considered altering your diet? Certain foods are linked with poor sleep. For example, alcohol, caffeine, nicotine and high fat content foods do not bode well with quality sleep, especially right before bed time.Ã‚Â Ã‚Â On the other hand, warm milk and foods high in carbohydrates have actually shown to positively impact sleep.Additionally, at bed time it's important to keep your room dim, cool and without distractions (i.e. TV, IPad, Phone). Stick to a sleep routine and avoid any activities close to bed time that demand a lot of attention and energy.As far as your nightmares, there could be many causes contributing to them. Certain foods (many of the ones mentioned) or medications could be the culprit. Doing a bit of research into the ones you are consuming may help you eliminate the offender.Ã‚Â You may also benefit from talk therapy with a qualified therapist to discuss any underlying issues you are experiencing. Oftentimes, depression and anxiety can manifest themselves during sleep, causing nightmares.Ã‚Â Finally, Yoga has shown to be very beneficial for quality sleep. There are many instructional videos available that can introduce you to the practice if you'd rather not join a class right away.Ã‚ Best of luck to you and I sincerely hope you are able to catch up on some well deserved Z's!\n"
     ]
    }
   ],
   "source": [
    "generate_answer('I cant sleep properly,I wake up frequently feeling scared')"
   ]
  },
  {
   "cell_type": "code",
   "execution_count": 220,
   "metadata": {},
   "outputs": [
    {
     "name": "stdout",
     "output_type": "stream",
     "text": [
      "I am here for you!,this might be a momentary feeling but if not as social creatures, we humans all long for deep human connection. To know that we belong and are part of something larger. It is so important to us that when we feel alone - it can feel almost unbearable. You are not alone in feeling alone. While it can take time to build deep relationships there are moments in each day where we have the opportunity to interact with other people who may also feel lonely and scared and want to be seen and acknowledged. I wonder what it might be like for you if you took on an experiment of trying to really see the people around you and make little attempts to acknowledge and connect with them - fellow humans on this journey of life. A 'good morning' at the bus stop or really looking at the person who you buy your groceries from or thanking or complimenting someone for something that you notice and appreciate. While this is not a substitute for close relationships these moments of real connection with the people who we share our communities with can go a long way to realizing that we are not as alone as we may have thought.\n"
     ]
    }
   ],
   "source": [
    "generate_answer('I feel very lonely always')"
   ]
  },
  {
   "cell_type": "code",
   "execution_count": 59,
   "metadata": {},
   "outputs": [
    {
     "ename": "SyntaxError",
     "evalue": "invalid syntax (2729382544.py, line 11)",
     "output_type": "error",
     "traceback": [
      "\u001b[1;36m  Cell \u001b[1;32mIn[59], line 11\u001b[1;36m\u001b[0m\n\u001b[1;33m    from tensorflow.keras.preprocessing.\u001b[0m\n\u001b[1;37m                                        ^\u001b[0m\n\u001b[1;31mSyntaxError\u001b[0m\u001b[1;31m:\u001b[0m invalid syntax\n"
     ]
    }
   ],
   "source": [
    "import sys\n",
    "import pandas as pd\n",
    "import json\n",
    "import pickle\n",
    "import sys\n",
    "import tensorflow as tf\n",
    "from flask_cors import CORS\n",
    "from flask import Flask, request, jsonify\n",
    "import tokenize\n",
    "from sklearn.preprocessing import LabelEncoder\n",
    "from tensorflow.keras.preprocessing."
   ]
  },
  {
   "cell_type": "code",
   "execution_count": null,
   "metadata": {},
   "outputs": [],
   "source": [
    "model.summary()"
   ]
  },
  {
   "cell_type": "code",
   "execution_count": null,
   "metadata": {},
   "outputs": [],
   "source": [
    "def nlp_model(pattern):\n",
    "    text = []\n",
    "    txt = re.sub('[^a-zA-Z\\']', ' ', pattern)\n",
    "    txt = txt.lower()\n",
    "    txt = txt.split()\n",
    "    txt = \" \".join(txt)\n",
    "    text.append(txt)\n",
    "        \n",
    "    x_test = tokenizer.texts_to_sequences(text)\n",
    "    x_test = np.array(x_test).squeeze()\n",
    "    x_test = pad_sequences([x_test], padding='post', maxlen=X.shape[1])\n",
    "    y_pred = model.predict(x_test)\n",
    "    y_pred = y_pred.argmax()\n",
    "    tag = lbl_enc.inverse_transform([y_pred])[0]\n",
    "    responses = df[df['tag'] == tag]['responses'].values[0]\n",
    "\n",
    "   # print(\"you: {}\".format(pattern))\n",
    "    #print(\"model: {}\".format(random.choice(responses)))\n",
    "   \n",
    "    return {'prediction': random.choice(responses)}\n"
   ]
  },
  {
   "cell_type": "code",
   "execution_count": null,
   "metadata": {},
   "outputs": [],
   "source": [
    "nlp_model('Hi there')"
   ]
  },
  {
   "cell_type": "code",
   "execution_count": 3,
   "metadata": {},
   "outputs": [],
   "source": [
    "import pandas as pd\n",
    "import json\n",
    "import tensorflow as tf\n",
    "from flask_cors import CORS\n",
    "from flask import Flask, request, jsonify\n",
    "from keras.preprocessing.text import Tokenizer\n",
    "from sklearn.preprocessing import LabelEncoder\n",
    "from tensorflow.keras.preprocessing.sequence import pad_sequences\n",
    "import numpy as np\n",
    "import re\n",
    "import random\n",
    "import os\n",
    "os.environ['CUDA_VISIBLE_DEVICES'] = '-1'\n",
    "with open('C:\\\\Users\\\\Kavi priya\\\\Desktop\\\\mental_health_chatbot\\\\intents.json', 'r') as f:\n",
    "    data = json.load(f)\n",
    "\n",
    "df = pd.DataFrame(data['intents'])\n",
    "dic = {\"tag\": [], \"patterns\": [], \"responses\": []}\n",
    "for i in range(len(df)):\n",
    "    ptrns = df[df.index == i]['patterns'].values[0]\n",
    "    rspns = df[df.index == i]['responses'].values[0]\n",
    "    tag = df[df.index == i]['tag'].values[0]\n",
    "    for j in range(len(ptrns)):\n",
    "        dic['tag'].append(tag)\n",
    "        dic['patterns'].append(ptrns[j])\n",
    "        dic['responses'].append(rspns)\n",
    "\n",
    "df = pd.DataFrame.from_dict(dic)\n",
    "tokenizer = Tokenizer(lower=True, split=' ')\n",
    "tokenizer.fit_on_texts(df['patterns'])\n",
    "ptrn2seq = tokenizer.texts_to_sequences(df['patterns'])\n",
    "X = pad_sequences(ptrn2seq, padding='post')\n",
    "lbl_enc = LabelEncoder()\n",
    "y = lbl_enc.fit_transform(df['tag'])\n",
    "model = tf.keras.models.load_model('nlp_model1')\n",
    "\n",
    "# Define a route for your NLP model's endpoint that accepts a POST request with a JSON payload\n",
    "\n",
    "\n",
    "\n"
   ]
  },
  {
   "cell_type": "code",
   "execution_count": 14,
   "metadata": {},
   "outputs": [],
   "source": [
    "def nlp_model(pattern):\n",
    "    text = []\n",
    "    txt = re.sub('[^a-zA-Z\\']', ' ', pattern)\n",
    "    txt = txt.lower()\n",
    "    txt = txt.split()\n",
    "    txt = \" \".join(txt)\n",
    "    text.append(txt)\n",
    "\n",
    "    x_test = tokenizer.texts_to_sequences(text)\n",
    "    x_test = np.array(x_test).squeeze()\n",
    "    x_test = pad_sequences([x_test], padding='post', maxlen=18)\n",
    "    y_pred1 = model.predict(x_test)\n",
    "    y_pred = y_pred1.argmax()\n",
    "    tag = lbl_enc.inverse_transform([y_pred])[0]\n",
    "    responses = df[df['tag'] == tag]['responses'].values[0]\n",
    "\n",
    "   # print(\"you: {}\".format(pattern))\n",
    "    # print(\"model: {}\".format(random.choice(responses)))\n",
    "\n",
    "    return {'prediction': y_pred1}\n",
    "#random.choice(responses)\n"
   ]
  },
  {
   "cell_type": "code",
   "execution_count": 17,
   "metadata": {
    "scrolled": false
   },
   "outputs": [
    {
     "ename": "ValueError",
     "evalue": "in user code:\n\n    File \"D:\\python\\lib\\site-packages\\keras\\engine\\training.py\", line 1801, in predict_function  *\n        return step_function(self, iterator)\n    File \"D:\\python\\lib\\site-packages\\keras\\engine\\training.py\", line 1790, in step_function  **\n        outputs = model.distribute_strategy.run(run_step, args=(data,))\n    File \"D:\\python\\lib\\site-packages\\keras\\engine\\training.py\", line 1783, in run_step  **\n        outputs = model.predict_step(data)\n    File \"D:\\python\\lib\\site-packages\\keras\\engine\\training.py\", line 1751, in predict_step\n        return self(x, training=False)\n    File \"D:\\python\\lib\\site-packages\\keras\\utils\\traceback_utils.py\", line 67, in error_handler\n        raise e.with_traceback(filtered_tb) from None\n    File \"D:\\python\\lib\\site-packages\\keras\\engine\\input_spec.py\", line 264, in assert_input_compatibility\n        raise ValueError(f'Input {input_index} of layer \"{layer_name}\" is '\n\n    ValueError: Input 0 of layer \"sequential_7\" is incompatible with the layer: expected shape=(None, 60), found shape=(None, 18)\n",
     "output_type": "error",
     "traceback": [
      "\u001b[1;31m---------------------------------------------------------------------------\u001b[0m",
      "\u001b[1;31mValueError\u001b[0m                                Traceback (most recent call last)",
      "Cell \u001b[1;32mIn[17], line 22\u001b[0m\n\u001b[0;32m     19\u001b[0m response \u001b[38;5;241m=\u001b[39m []  \u001b[38;5;66;03m# Initialize an empty list for storing model responses\u001b[39;00m\n\u001b[0;32m     21\u001b[0m \u001b[38;5;28;01mfor\u001b[39;00m sentence, tag \u001b[38;5;129;01min\u001b[39;00m \u001b[38;5;28mzip\u001b[39m(test_data, test_tag):  \u001b[38;5;66;03m# Use zip to iterate over both lists simultaneously\u001b[39;00m\n\u001b[1;32m---> 22\u001b[0m     response\u001b[38;5;241m.\u001b[39mappend(\u001b[43mnlp_model\u001b[49m\u001b[43m(\u001b[49m\u001b[43msentence\u001b[49m\u001b[43m)\u001b[49m)\n\u001b[0;32m     24\u001b[0m cross_entropy \u001b[38;5;241m=\u001b[39m np\u001b[38;5;241m.\u001b[39mmean(\u001b[38;5;241m-\u001b[39mnp\u001b[38;5;241m.\u001b[39mlog(response[np\u001b[38;5;241m.\u001b[39marange(\u001b[38;5;28mlen\u001b[39m(test_data)), test_tag]))\n\u001b[0;32m     25\u001b[0m perplexity \u001b[38;5;241m=\u001b[39m np\u001b[38;5;241m.\u001b[39mexp(cross_entropy)\n",
      "Cell \u001b[1;32mIn[14], line 12\u001b[0m, in \u001b[0;36mnlp_model\u001b[1;34m(pattern)\u001b[0m\n\u001b[0;32m     10\u001b[0m x_test \u001b[38;5;241m=\u001b[39m np\u001b[38;5;241m.\u001b[39marray(x_test)\u001b[38;5;241m.\u001b[39msqueeze()\n\u001b[0;32m     11\u001b[0m x_test \u001b[38;5;241m=\u001b[39m pad_sequences([x_test], padding\u001b[38;5;241m=\u001b[39m\u001b[38;5;124m'\u001b[39m\u001b[38;5;124mpost\u001b[39m\u001b[38;5;124m'\u001b[39m, maxlen\u001b[38;5;241m=\u001b[39m\u001b[38;5;241m18\u001b[39m)\n\u001b[1;32m---> 12\u001b[0m y_pred1 \u001b[38;5;241m=\u001b[39m \u001b[43mmodel\u001b[49m\u001b[38;5;241;43m.\u001b[39;49m\u001b[43mpredict\u001b[49m\u001b[43m(\u001b[49m\u001b[43mx_test\u001b[49m\u001b[43m)\u001b[49m\n\u001b[0;32m     13\u001b[0m y_pred \u001b[38;5;241m=\u001b[39m y_pred1\u001b[38;5;241m.\u001b[39margmax()\n\u001b[0;32m     14\u001b[0m tag \u001b[38;5;241m=\u001b[39m lbl_enc\u001b[38;5;241m.\u001b[39minverse_transform([y_pred])[\u001b[38;5;241m0\u001b[39m]\n",
      "File \u001b[1;32mD:\\python\\lib\\site-packages\\keras\\utils\\traceback_utils.py:67\u001b[0m, in \u001b[0;36mfilter_traceback.<locals>.error_handler\u001b[1;34m(*args, **kwargs)\u001b[0m\n\u001b[0;32m     65\u001b[0m \u001b[38;5;28;01mexcept\u001b[39;00m \u001b[38;5;167;01mException\u001b[39;00m \u001b[38;5;28;01mas\u001b[39;00m e:  \u001b[38;5;66;03m# pylint: disable=broad-except\u001b[39;00m\n\u001b[0;32m     66\u001b[0m   filtered_tb \u001b[38;5;241m=\u001b[39m _process_traceback_frames(e\u001b[38;5;241m.\u001b[39m__traceback__)\n\u001b[1;32m---> 67\u001b[0m   \u001b[38;5;28;01mraise\u001b[39;00m e\u001b[38;5;241m.\u001b[39mwith_traceback(filtered_tb) \u001b[38;5;28;01mfrom\u001b[39;00m \u001b[38;5;28mNone\u001b[39m\n\u001b[0;32m     68\u001b[0m \u001b[38;5;28;01mfinally\u001b[39;00m:\n\u001b[0;32m     69\u001b[0m   \u001b[38;5;28;01mdel\u001b[39;00m filtered_tb\n",
      "File \u001b[1;32mD:\\python\\lib\\site-packages\\tensorflow\\python\\framework\\func_graph.py:1147\u001b[0m, in \u001b[0;36mfunc_graph_from_py_func.<locals>.autograph_handler\u001b[1;34m(*args, **kwargs)\u001b[0m\n\u001b[0;32m   1145\u001b[0m \u001b[38;5;28;01mexcept\u001b[39;00m \u001b[38;5;167;01mException\u001b[39;00m \u001b[38;5;28;01mas\u001b[39;00m e:  \u001b[38;5;66;03m# pylint:disable=broad-except\u001b[39;00m\n\u001b[0;32m   1146\u001b[0m   \u001b[38;5;28;01mif\u001b[39;00m \u001b[38;5;28mhasattr\u001b[39m(e, \u001b[38;5;124m\"\u001b[39m\u001b[38;5;124mag_error_metadata\u001b[39m\u001b[38;5;124m\"\u001b[39m):\n\u001b[1;32m-> 1147\u001b[0m     \u001b[38;5;28;01mraise\u001b[39;00m e\u001b[38;5;241m.\u001b[39mag_error_metadata\u001b[38;5;241m.\u001b[39mto_exception(e)\n\u001b[0;32m   1148\u001b[0m   \u001b[38;5;28;01melse\u001b[39;00m:\n\u001b[0;32m   1149\u001b[0m     \u001b[38;5;28;01mraise\u001b[39;00m\n",
      "\u001b[1;31mValueError\u001b[0m: in user code:\n\n    File \"D:\\python\\lib\\site-packages\\keras\\engine\\training.py\", line 1801, in predict_function  *\n        return step_function(self, iterator)\n    File \"D:\\python\\lib\\site-packages\\keras\\engine\\training.py\", line 1790, in step_function  **\n        outputs = model.distribute_strategy.run(run_step, args=(data,))\n    File \"D:\\python\\lib\\site-packages\\keras\\engine\\training.py\", line 1783, in run_step  **\n        outputs = model.predict_step(data)\n    File \"D:\\python\\lib\\site-packages\\keras\\engine\\training.py\", line 1751, in predict_step\n        return self(x, training=False)\n    File \"D:\\python\\lib\\site-packages\\keras\\utils\\traceback_utils.py\", line 67, in error_handler\n        raise e.with_traceback(filtered_tb) from None\n    File \"D:\\python\\lib\\site-packages\\keras\\engine\\input_spec.py\", line 264, in assert_input_compatibility\n        raise ValueError(f'Input {input_index} of layer \"{layer_name}\" is '\n\n    ValueError: Input 0 of layer \"sequential_7\" is incompatible with the layer: expected shape=(None, 60), found shape=(None, 18)\n"
     ]
    }
   ],
   "source": [
    "test_data = ['I am sad',\n",
    "           'I cannot sleep at night',\n",
    "           'I am unable to control my anger,my brother is making me very furious',\n",
    "           'I want to become better at speaking to others',\n",
    "           'I am sad,I wish I had something to do that could change me',\n",
    "           'I feel depressed',\n",
    "           'I want to kill myself,I have nothing in my life to look forward to']\n",
    "\n",
    "test_tag = ['sad',\n",
    "          'insomnia',\n",
    "          'Anger Management',\n",
    "          'confidence',\n",
    "          'sad',\n",
    "          'depressed',\n",
    "          'suicide']\n",
    "\n",
    "import numpy as np\n",
    "\n",
    "response = []  # Initialize an empty list for storing model responses\n",
    "\n",
    "for sentence, tag in zip(test_data, test_tag):  # Use zip to iterate over both lists simultaneously\n",
    "    response.append(nlp_model(sentence))\n",
    "\n",
    "cross_entropy = np.mean(-np.log(response[np.arange(len(test_data)), test_tag]))\n",
    "perplexity = np.exp(cross_entropy)\n",
    "print('perplexity:', perplexity)\n"
   ]
  },
  {
   "cell_type": "code",
   "execution_count": 12,
   "metadata": {},
   "outputs": [],
   "source": []
  },
  {
   "cell_type": "code",
   "execution_count": 13,
   "metadata": {},
   "outputs": [
    {
     "ename": "ValueError",
     "evalue": "in user code:\n\n    File \"D:\\python\\lib\\site-packages\\keras\\engine\\training.py\", line 1801, in predict_function  *\n        return step_function(self, iterator)\n    File \"D:\\python\\lib\\site-packages\\keras\\engine\\training.py\", line 1790, in step_function  **\n        outputs = model.distribute_strategy.run(run_step, args=(data,))\n    File \"D:\\python\\lib\\site-packages\\keras\\engine\\training.py\", line 1783, in run_step  **\n        outputs = model.predict_step(data)\n    File \"D:\\python\\lib\\site-packages\\keras\\engine\\training.py\", line 1751, in predict_step\n        return self(x, training=False)\n    File \"D:\\python\\lib\\site-packages\\keras\\utils\\traceback_utils.py\", line 67, in error_handler\n        raise e.with_traceback(filtered_tb) from None\n    File \"D:\\python\\lib\\site-packages\\keras\\engine\\input_spec.py\", line 264, in assert_input_compatibility\n        raise ValueError(f'Input {input_index} of layer \"{layer_name}\" is '\n\n    ValueError: Input 0 of layer \"sequential_7\" is incompatible with the layer: expected shape=(None, 60), found shape=(None, 18)\n",
     "output_type": "error",
     "traceback": [
      "\u001b[1;31m---------------------------------------------------------------------------\u001b[0m",
      "\u001b[1;31mValueError\u001b[0m                                Traceback (most recent call last)",
      "Cell \u001b[1;32mIn[13], line 1\u001b[0m\n\u001b[1;32m----> 1\u001b[0m \u001b[43mnlp_model\u001b[49m\u001b[43m(\u001b[49m\u001b[38;5;124;43m'\u001b[39;49m\u001b[38;5;124;43mI am sad\u001b[39;49m\u001b[38;5;124;43m'\u001b[39;49m\u001b[43m)\u001b[49m\n",
      "Cell \u001b[1;32mIn[12], line 18\u001b[0m, in \u001b[0;36mnlp_model\u001b[1;34m(pattern)\u001b[0m\n\u001b[0;32m     16\u001b[0m x_test \u001b[38;5;241m=\u001b[39m np\u001b[38;5;241m.\u001b[39marray(x_test)\u001b[38;5;241m.\u001b[39msqueeze()\n\u001b[0;32m     17\u001b[0m x_test \u001b[38;5;241m=\u001b[39m pad_sequences([x_test], padding\u001b[38;5;241m=\u001b[39m\u001b[38;5;124m'\u001b[39m\u001b[38;5;124mpost\u001b[39m\u001b[38;5;124m'\u001b[39m, maxlen\u001b[38;5;241m=\u001b[39m\u001b[38;5;241m18\u001b[39m)\n\u001b[1;32m---> 18\u001b[0m y_pred \u001b[38;5;241m=\u001b[39m \u001b[43mmodel\u001b[49m\u001b[38;5;241;43m.\u001b[39;49m\u001b[43mpredict\u001b[49m\u001b[43m(\u001b[49m\u001b[43mx_test\u001b[49m\u001b[43m)\u001b[49m\n\u001b[0;32m     19\u001b[0m y_pred \u001b[38;5;241m=\u001b[39m y_pred\u001b[38;5;241m.\u001b[39margmax()\n\u001b[0;32m     20\u001b[0m tag \u001b[38;5;241m=\u001b[39m lbl_enc\u001b[38;5;241m.\u001b[39minverse_transform([y_pred])[\u001b[38;5;241m0\u001b[39m]\n",
      "File \u001b[1;32mD:\\python\\lib\\site-packages\\keras\\utils\\traceback_utils.py:67\u001b[0m, in \u001b[0;36mfilter_traceback.<locals>.error_handler\u001b[1;34m(*args, **kwargs)\u001b[0m\n\u001b[0;32m     65\u001b[0m \u001b[38;5;28;01mexcept\u001b[39;00m \u001b[38;5;167;01mException\u001b[39;00m \u001b[38;5;28;01mas\u001b[39;00m e:  \u001b[38;5;66;03m# pylint: disable=broad-except\u001b[39;00m\n\u001b[0;32m     66\u001b[0m   filtered_tb \u001b[38;5;241m=\u001b[39m _process_traceback_frames(e\u001b[38;5;241m.\u001b[39m__traceback__)\n\u001b[1;32m---> 67\u001b[0m   \u001b[38;5;28;01mraise\u001b[39;00m e\u001b[38;5;241m.\u001b[39mwith_traceback(filtered_tb) \u001b[38;5;28;01mfrom\u001b[39;00m \u001b[38;5;28mNone\u001b[39m\n\u001b[0;32m     68\u001b[0m \u001b[38;5;28;01mfinally\u001b[39;00m:\n\u001b[0;32m     69\u001b[0m   \u001b[38;5;28;01mdel\u001b[39;00m filtered_tb\n",
      "File \u001b[1;32mD:\\python\\lib\\site-packages\\tensorflow\\python\\framework\\func_graph.py:1147\u001b[0m, in \u001b[0;36mfunc_graph_from_py_func.<locals>.autograph_handler\u001b[1;34m(*args, **kwargs)\u001b[0m\n\u001b[0;32m   1145\u001b[0m \u001b[38;5;28;01mexcept\u001b[39;00m \u001b[38;5;167;01mException\u001b[39;00m \u001b[38;5;28;01mas\u001b[39;00m e:  \u001b[38;5;66;03m# pylint:disable=broad-except\u001b[39;00m\n\u001b[0;32m   1146\u001b[0m   \u001b[38;5;28;01mif\u001b[39;00m \u001b[38;5;28mhasattr\u001b[39m(e, \u001b[38;5;124m\"\u001b[39m\u001b[38;5;124mag_error_metadata\u001b[39m\u001b[38;5;124m\"\u001b[39m):\n\u001b[1;32m-> 1147\u001b[0m     \u001b[38;5;28;01mraise\u001b[39;00m e\u001b[38;5;241m.\u001b[39mag_error_metadata\u001b[38;5;241m.\u001b[39mto_exception(e)\n\u001b[0;32m   1148\u001b[0m   \u001b[38;5;28;01melse\u001b[39;00m:\n\u001b[0;32m   1149\u001b[0m     \u001b[38;5;28;01mraise\u001b[39;00m\n",
      "\u001b[1;31mValueError\u001b[0m: in user code:\n\n    File \"D:\\python\\lib\\site-packages\\keras\\engine\\training.py\", line 1801, in predict_function  *\n        return step_function(self, iterator)\n    File \"D:\\python\\lib\\site-packages\\keras\\engine\\training.py\", line 1790, in step_function  **\n        outputs = model.distribute_strategy.run(run_step, args=(data,))\n    File \"D:\\python\\lib\\site-packages\\keras\\engine\\training.py\", line 1783, in run_step  **\n        outputs = model.predict_step(data)\n    File \"D:\\python\\lib\\site-packages\\keras\\engine\\training.py\", line 1751, in predict_step\n        return self(x, training=False)\n    File \"D:\\python\\lib\\site-packages\\keras\\utils\\traceback_utils.py\", line 67, in error_handler\n        raise e.with_traceback(filtered_tb) from None\n    File \"D:\\python\\lib\\site-packages\\keras\\engine\\input_spec.py\", line 264, in assert_input_compatibility\n        raise ValueError(f'Input {input_index} of layer \"{layer_name}\" is '\n\n    ValueError: Input 0 of layer \"sequential_7\" is incompatible with the layer: expected shape=(None, 60), found shape=(None, 18)\n"
     ]
    }
   ],
   "source": [
    "nlp_model('I am sad')"
   ]
  },
  {
   "cell_type": "code",
   "execution_count": null,
   "metadata": {},
   "outputs": [],
   "source": [
    "nlp_model('I got low marks in exam')"
   ]
  },
  {
   "cell_type": "code",
   "execution_count": null,
   "metadata": {},
   "outputs": [],
   "source": []
  }
 ],
 "metadata": {
  "kernelspec": {
   "display_name": "Python 3 (ipykernel)",
   "language": "python",
   "name": "python3"
  },
  "language_info": {
   "codemirror_mode": {
    "name": "ipython",
    "version": 3
   },
   "file_extension": ".py",
   "mimetype": "text/x-python",
   "name": "python",
   "nbconvert_exporter": "python",
   "pygments_lexer": "ipython3",
   "version": "3.10.10"
  }
 },
 "nbformat": 4,
 "nbformat_minor": 4
}
